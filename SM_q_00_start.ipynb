{
 "cells": [
  {
   "cell_type": "code",
   "execution_count": 2,
   "metadata": {
    "collapsed": false
   },
   "outputs": [
    {
     "name": "stderr",
     "output_type": "stream",
     "text": [
      "/home/atproofer/anaconda3/lib/python3.5/site-packages/IPython/core/magics/extension.py:47: UserWarning: %install_ext` is deprecated, please distribute your extension as a python package.\n",
      "  \"as a python package.\", UserWarning)\n"
     ]
    },
    {
     "name": "stdout",
     "output_type": "stream",
     "text": [
      "Installed autotime.py. To use it, type:\n",
      "  %load_ext autotime\n"
     ]
    }
   ],
   "source": [
    "import os, sys\n",
    "import csv\n",
    "import numpy as np\n",
    "import sklearn\n",
    "import matplotlib\n",
    "import matplotlib.pyplot as plt\n",
    "import numpy as np\n",
    "import time\n",
    "import pandas as pd\n",
    "import seaborn as sns\n",
    "import copy\n",
    "%matplotlib inline\n",
    "sns.set_style(\"darkgrid\", {\"grid.linewidth\": .5, \"axes.facecolor\": \".9\"})\n",
    "%install_ext https://raw.github.com/cpcloud/ipython-autotime/master/autotime.py\n",
    "%load_ext autotime\n"
   ]
  },
  {
   "cell_type": "code",
   "execution_count": 3,
   "metadata": {
    "collapsed": false
   },
   "outputs": [
    {
     "name": "stdout",
     "output_type": "stream",
     "text": [
      "time: 563 ms\n"
     ]
    }
   ],
   "source": [
    "from sklearn import ensemble"
   ]
  },
  {
   "cell_type": "code",
   "execution_count": 4,
   "metadata": {
    "collapsed": false
   },
   "outputs": [
    {
     "name": "stdout",
     "output_type": "stream",
     "text": [
      "time: 152 ms\n"
     ]
    }
   ],
   "source": [
    "df1 = pd.read_csv('swissmetro.dat', delimiter = '\\t')"
   ]
  },
  {
   "cell_type": "code",
   "execution_count": 5,
   "metadata": {
    "collapsed": true
   },
   "outputs": [
    {
     "data": {
      "text/html": [
       "<div>\n",
       "<table border=\"1\" class=\"dataframe\">\n",
       "  <thead>\n",
       "    <tr style=\"text-align: right;\">\n",
       "      <th></th>\n",
       "      <th>GROUP</th>\n",
       "      <th>SURVEY</th>\n",
       "      <th>SP</th>\n",
       "      <th>ID</th>\n",
       "      <th>PURPOSE</th>\n",
       "      <th>FIRST</th>\n",
       "      <th>TICKET</th>\n",
       "      <th>WHO</th>\n",
       "      <th>LUGGAGE</th>\n",
       "      <th>AGE</th>\n",
       "      <th>...</th>\n",
       "      <th>TRAIN_TT</th>\n",
       "      <th>TRAIN_CO</th>\n",
       "      <th>TRAIN_HE</th>\n",
       "      <th>SM_TT</th>\n",
       "      <th>SM_CO</th>\n",
       "      <th>SM_HE</th>\n",
       "      <th>SM_SEATS</th>\n",
       "      <th>CAR_TT</th>\n",
       "      <th>CAR_CO</th>\n",
       "      <th>CHOICE</th>\n",
       "    </tr>\n",
       "  </thead>\n",
       "  <tbody>\n",
       "    <tr>\n",
       "      <th>0</th>\n",
       "      <td>2</td>\n",
       "      <td>0</td>\n",
       "      <td>1</td>\n",
       "      <td>1</td>\n",
       "      <td>1</td>\n",
       "      <td>0</td>\n",
       "      <td>1</td>\n",
       "      <td>1</td>\n",
       "      <td>0</td>\n",
       "      <td>3</td>\n",
       "      <td>...</td>\n",
       "      <td>112</td>\n",
       "      <td>48</td>\n",
       "      <td>120</td>\n",
       "      <td>63</td>\n",
       "      <td>52</td>\n",
       "      <td>20</td>\n",
       "      <td>0</td>\n",
       "      <td>117</td>\n",
       "      <td>65</td>\n",
       "      <td>2</td>\n",
       "    </tr>\n",
       "    <tr>\n",
       "      <th>1</th>\n",
       "      <td>2</td>\n",
       "      <td>0</td>\n",
       "      <td>1</td>\n",
       "      <td>1</td>\n",
       "      <td>1</td>\n",
       "      <td>0</td>\n",
       "      <td>1</td>\n",
       "      <td>1</td>\n",
       "      <td>0</td>\n",
       "      <td>3</td>\n",
       "      <td>...</td>\n",
       "      <td>103</td>\n",
       "      <td>48</td>\n",
       "      <td>30</td>\n",
       "      <td>60</td>\n",
       "      <td>49</td>\n",
       "      <td>10</td>\n",
       "      <td>0</td>\n",
       "      <td>117</td>\n",
       "      <td>84</td>\n",
       "      <td>2</td>\n",
       "    </tr>\n",
       "    <tr>\n",
       "      <th>2</th>\n",
       "      <td>2</td>\n",
       "      <td>0</td>\n",
       "      <td>1</td>\n",
       "      <td>1</td>\n",
       "      <td>1</td>\n",
       "      <td>0</td>\n",
       "      <td>1</td>\n",
       "      <td>1</td>\n",
       "      <td>0</td>\n",
       "      <td>3</td>\n",
       "      <td>...</td>\n",
       "      <td>130</td>\n",
       "      <td>48</td>\n",
       "      <td>60</td>\n",
       "      <td>67</td>\n",
       "      <td>58</td>\n",
       "      <td>30</td>\n",
       "      <td>0</td>\n",
       "      <td>117</td>\n",
       "      <td>52</td>\n",
       "      <td>2</td>\n",
       "    </tr>\n",
       "    <tr>\n",
       "      <th>3</th>\n",
       "      <td>2</td>\n",
       "      <td>0</td>\n",
       "      <td>1</td>\n",
       "      <td>1</td>\n",
       "      <td>1</td>\n",
       "      <td>0</td>\n",
       "      <td>1</td>\n",
       "      <td>1</td>\n",
       "      <td>0</td>\n",
       "      <td>3</td>\n",
       "      <td>...</td>\n",
       "      <td>103</td>\n",
       "      <td>40</td>\n",
       "      <td>30</td>\n",
       "      <td>63</td>\n",
       "      <td>52</td>\n",
       "      <td>20</td>\n",
       "      <td>0</td>\n",
       "      <td>72</td>\n",
       "      <td>52</td>\n",
       "      <td>2</td>\n",
       "    </tr>\n",
       "    <tr>\n",
       "      <th>4</th>\n",
       "      <td>2</td>\n",
       "      <td>0</td>\n",
       "      <td>1</td>\n",
       "      <td>1</td>\n",
       "      <td>1</td>\n",
       "      <td>0</td>\n",
       "      <td>1</td>\n",
       "      <td>1</td>\n",
       "      <td>0</td>\n",
       "      <td>3</td>\n",
       "      <td>...</td>\n",
       "      <td>130</td>\n",
       "      <td>36</td>\n",
       "      <td>60</td>\n",
       "      <td>63</td>\n",
       "      <td>42</td>\n",
       "      <td>20</td>\n",
       "      <td>0</td>\n",
       "      <td>90</td>\n",
       "      <td>84</td>\n",
       "      <td>2</td>\n",
       "    </tr>\n",
       "    <tr>\n",
       "      <th>5</th>\n",
       "      <td>2</td>\n",
       "      <td>0</td>\n",
       "      <td>1</td>\n",
       "      <td>1</td>\n",
       "      <td>1</td>\n",
       "      <td>0</td>\n",
       "      <td>1</td>\n",
       "      <td>1</td>\n",
       "      <td>0</td>\n",
       "      <td>3</td>\n",
       "      <td>...</td>\n",
       "      <td>112</td>\n",
       "      <td>36</td>\n",
       "      <td>120</td>\n",
       "      <td>60</td>\n",
       "      <td>49</td>\n",
       "      <td>10</td>\n",
       "      <td>0</td>\n",
       "      <td>90</td>\n",
       "      <td>52</td>\n",
       "      <td>2</td>\n",
       "    </tr>\n",
       "    <tr>\n",
       "      <th>6</th>\n",
       "      <td>2</td>\n",
       "      <td>0</td>\n",
       "      <td>1</td>\n",
       "      <td>1</td>\n",
       "      <td>1</td>\n",
       "      <td>0</td>\n",
       "      <td>1</td>\n",
       "      <td>1</td>\n",
       "      <td>0</td>\n",
       "      <td>3</td>\n",
       "      <td>...</td>\n",
       "      <td>103</td>\n",
       "      <td>48</td>\n",
       "      <td>120</td>\n",
       "      <td>67</td>\n",
       "      <td>58</td>\n",
       "      <td>10</td>\n",
       "      <td>0</td>\n",
       "      <td>72</td>\n",
       "      <td>65</td>\n",
       "      <td>2</td>\n",
       "    </tr>\n",
       "    <tr>\n",
       "      <th>7</th>\n",
       "      <td>2</td>\n",
       "      <td>0</td>\n",
       "      <td>1</td>\n",
       "      <td>1</td>\n",
       "      <td>1</td>\n",
       "      <td>0</td>\n",
       "      <td>1</td>\n",
       "      <td>1</td>\n",
       "      <td>0</td>\n",
       "      <td>3</td>\n",
       "      <td>...</td>\n",
       "      <td>103</td>\n",
       "      <td>36</td>\n",
       "      <td>30</td>\n",
       "      <td>67</td>\n",
       "      <td>43</td>\n",
       "      <td>30</td>\n",
       "      <td>0</td>\n",
       "      <td>90</td>\n",
       "      <td>65</td>\n",
       "      <td>1</td>\n",
       "    </tr>\n",
       "    <tr>\n",
       "      <th>8</th>\n",
       "      <td>2</td>\n",
       "      <td>0</td>\n",
       "      <td>1</td>\n",
       "      <td>1</td>\n",
       "      <td>1</td>\n",
       "      <td>0</td>\n",
       "      <td>1</td>\n",
       "      <td>1</td>\n",
       "      <td>0</td>\n",
       "      <td>3</td>\n",
       "      <td>...</td>\n",
       "      <td>130</td>\n",
       "      <td>40</td>\n",
       "      <td>60</td>\n",
       "      <td>60</td>\n",
       "      <td>46</td>\n",
       "      <td>10</td>\n",
       "      <td>0</td>\n",
       "      <td>72</td>\n",
       "      <td>65</td>\n",
       "      <td>2</td>\n",
       "    </tr>\n",
       "    <tr>\n",
       "      <th>9</th>\n",
       "      <td>2</td>\n",
       "      <td>0</td>\n",
       "      <td>1</td>\n",
       "      <td>2</td>\n",
       "      <td>1</td>\n",
       "      <td>0</td>\n",
       "      <td>1</td>\n",
       "      <td>1</td>\n",
       "      <td>1</td>\n",
       "      <td>2</td>\n",
       "      <td>...</td>\n",
       "      <td>184</td>\n",
       "      <td>62</td>\n",
       "      <td>120</td>\n",
       "      <td>76</td>\n",
       "      <td>70</td>\n",
       "      <td>20</td>\n",
       "      <td>0</td>\n",
       "      <td>0</td>\n",
       "      <td>0</td>\n",
       "      <td>2</td>\n",
       "    </tr>\n",
       "    <tr>\n",
       "      <th>10</th>\n",
       "      <td>2</td>\n",
       "      <td>0</td>\n",
       "      <td>1</td>\n",
       "      <td>2</td>\n",
       "      <td>1</td>\n",
       "      <td>0</td>\n",
       "      <td>1</td>\n",
       "      <td>1</td>\n",
       "      <td>1</td>\n",
       "      <td>2</td>\n",
       "      <td>...</td>\n",
       "      <td>170</td>\n",
       "      <td>62</td>\n",
       "      <td>30</td>\n",
       "      <td>70</td>\n",
       "      <td>66</td>\n",
       "      <td>10</td>\n",
       "      <td>0</td>\n",
       "      <td>0</td>\n",
       "      <td>0</td>\n",
       "      <td>2</td>\n",
       "    </tr>\n",
       "    <tr>\n",
       "      <th>11</th>\n",
       "      <td>2</td>\n",
       "      <td>0</td>\n",
       "      <td>1</td>\n",
       "      <td>2</td>\n",
       "      <td>1</td>\n",
       "      <td>0</td>\n",
       "      <td>1</td>\n",
       "      <td>1</td>\n",
       "      <td>1</td>\n",
       "      <td>2</td>\n",
       "      <td>...</td>\n",
       "      <td>213</td>\n",
       "      <td>62</td>\n",
       "      <td>60</td>\n",
       "      <td>84</td>\n",
       "      <td>82</td>\n",
       "      <td>30</td>\n",
       "      <td>0</td>\n",
       "      <td>0</td>\n",
       "      <td>0</td>\n",
       "      <td>2</td>\n",
       "    </tr>\n",
       "    <tr>\n",
       "      <th>12</th>\n",
       "      <td>2</td>\n",
       "      <td>0</td>\n",
       "      <td>1</td>\n",
       "      <td>2</td>\n",
       "      <td>1</td>\n",
       "      <td>0</td>\n",
       "      <td>1</td>\n",
       "      <td>1</td>\n",
       "      <td>1</td>\n",
       "      <td>2</td>\n",
       "      <td>...</td>\n",
       "      <td>170</td>\n",
       "      <td>52</td>\n",
       "      <td>30</td>\n",
       "      <td>76</td>\n",
       "      <td>72</td>\n",
       "      <td>20</td>\n",
       "      <td>0</td>\n",
       "      <td>0</td>\n",
       "      <td>0</td>\n",
       "      <td>2</td>\n",
       "    </tr>\n",
       "    <tr>\n",
       "      <th>13</th>\n",
       "      <td>2</td>\n",
       "      <td>0</td>\n",
       "      <td>1</td>\n",
       "      <td>2</td>\n",
       "      <td>1</td>\n",
       "      <td>0</td>\n",
       "      <td>1</td>\n",
       "      <td>1</td>\n",
       "      <td>1</td>\n",
       "      <td>2</td>\n",
       "      <td>...</td>\n",
       "      <td>213</td>\n",
       "      <td>47</td>\n",
       "      <td>60</td>\n",
       "      <td>76</td>\n",
       "      <td>53</td>\n",
       "      <td>20</td>\n",
       "      <td>0</td>\n",
       "      <td>0</td>\n",
       "      <td>0</td>\n",
       "      <td>2</td>\n",
       "    </tr>\n",
       "    <tr>\n",
       "      <th>14</th>\n",
       "      <td>2</td>\n",
       "      <td>0</td>\n",
       "      <td>1</td>\n",
       "      <td>2</td>\n",
       "      <td>1</td>\n",
       "      <td>0</td>\n",
       "      <td>1</td>\n",
       "      <td>1</td>\n",
       "      <td>1</td>\n",
       "      <td>2</td>\n",
       "      <td>...</td>\n",
       "      <td>184</td>\n",
       "      <td>47</td>\n",
       "      <td>120</td>\n",
       "      <td>70</td>\n",
       "      <td>66</td>\n",
       "      <td>10</td>\n",
       "      <td>0</td>\n",
       "      <td>0</td>\n",
       "      <td>0</td>\n",
       "      <td>2</td>\n",
       "    </tr>\n",
       "    <tr>\n",
       "      <th>15</th>\n",
       "      <td>2</td>\n",
       "      <td>0</td>\n",
       "      <td>1</td>\n",
       "      <td>2</td>\n",
       "      <td>1</td>\n",
       "      <td>0</td>\n",
       "      <td>1</td>\n",
       "      <td>1</td>\n",
       "      <td>1</td>\n",
       "      <td>2</td>\n",
       "      <td>...</td>\n",
       "      <td>170</td>\n",
       "      <td>62</td>\n",
       "      <td>120</td>\n",
       "      <td>84</td>\n",
       "      <td>82</td>\n",
       "      <td>10</td>\n",
       "      <td>0</td>\n",
       "      <td>0</td>\n",
       "      <td>0</td>\n",
       "      <td>2</td>\n",
       "    </tr>\n",
       "    <tr>\n",
       "      <th>16</th>\n",
       "      <td>2</td>\n",
       "      <td>0</td>\n",
       "      <td>1</td>\n",
       "      <td>2</td>\n",
       "      <td>1</td>\n",
       "      <td>0</td>\n",
       "      <td>1</td>\n",
       "      <td>1</td>\n",
       "      <td>1</td>\n",
       "      <td>2</td>\n",
       "      <td>...</td>\n",
       "      <td>170</td>\n",
       "      <td>47</td>\n",
       "      <td>30</td>\n",
       "      <td>84</td>\n",
       "      <td>57</td>\n",
       "      <td>30</td>\n",
       "      <td>0</td>\n",
       "      <td>0</td>\n",
       "      <td>0</td>\n",
       "      <td>2</td>\n",
       "    </tr>\n",
       "    <tr>\n",
       "      <th>17</th>\n",
       "      <td>2</td>\n",
       "      <td>0</td>\n",
       "      <td>1</td>\n",
       "      <td>2</td>\n",
       "      <td>1</td>\n",
       "      <td>0</td>\n",
       "      <td>1</td>\n",
       "      <td>1</td>\n",
       "      <td>1</td>\n",
       "      <td>2</td>\n",
       "      <td>...</td>\n",
       "      <td>213</td>\n",
       "      <td>52</td>\n",
       "      <td>60</td>\n",
       "      <td>70</td>\n",
       "      <td>62</td>\n",
       "      <td>10</td>\n",
       "      <td>0</td>\n",
       "      <td>0</td>\n",
       "      <td>0</td>\n",
       "      <td>2</td>\n",
       "    </tr>\n",
       "    <tr>\n",
       "      <th>18</th>\n",
       "      <td>2</td>\n",
       "      <td>0</td>\n",
       "      <td>1</td>\n",
       "      <td>3</td>\n",
       "      <td>1</td>\n",
       "      <td>0</td>\n",
       "      <td>1</td>\n",
       "      <td>1</td>\n",
       "      <td>1</td>\n",
       "      <td>2</td>\n",
       "      <td>...</td>\n",
       "      <td>58</td>\n",
       "      <td>32</td>\n",
       "      <td>30</td>\n",
       "      <td>29</td>\n",
       "      <td>35</td>\n",
       "      <td>10</td>\n",
       "      <td>0</td>\n",
       "      <td>105</td>\n",
       "      <td>40</td>\n",
       "      <td>2</td>\n",
       "    </tr>\n",
       "    <tr>\n",
       "      <th>19</th>\n",
       "      <td>2</td>\n",
       "      <td>0</td>\n",
       "      <td>1</td>\n",
       "      <td>3</td>\n",
       "      <td>1</td>\n",
       "      <td>0</td>\n",
       "      <td>1</td>\n",
       "      <td>1</td>\n",
       "      <td>1</td>\n",
       "      <td>2</td>\n",
       "      <td>...</td>\n",
       "      <td>58</td>\n",
       "      <td>29</td>\n",
       "      <td>30</td>\n",
       "      <td>25</td>\n",
       "      <td>38</td>\n",
       "      <td>20</td>\n",
       "      <td>0</td>\n",
       "      <td>136</td>\n",
       "      <td>50</td>\n",
       "      <td>2</td>\n",
       "    </tr>\n",
       "    <tr>\n",
       "      <th>20</th>\n",
       "      <td>2</td>\n",
       "      <td>0</td>\n",
       "      <td>1</td>\n",
       "      <td>3</td>\n",
       "      <td>1</td>\n",
       "      <td>0</td>\n",
       "      <td>1</td>\n",
       "      <td>1</td>\n",
       "      <td>1</td>\n",
       "      <td>2</td>\n",
       "      <td>...</td>\n",
       "      <td>58</td>\n",
       "      <td>32</td>\n",
       "      <td>120</td>\n",
       "      <td>27</td>\n",
       "      <td>40</td>\n",
       "      <td>10</td>\n",
       "      <td>1</td>\n",
       "      <td>136</td>\n",
       "      <td>65</td>\n",
       "      <td>2</td>\n",
       "    </tr>\n",
       "    <tr>\n",
       "      <th>21</th>\n",
       "      <td>2</td>\n",
       "      <td>0</td>\n",
       "      <td>1</td>\n",
       "      <td>3</td>\n",
       "      <td>1</td>\n",
       "      <td>0</td>\n",
       "      <td>1</td>\n",
       "      <td>1</td>\n",
       "      <td>1</td>\n",
       "      <td>2</td>\n",
       "      <td>...</td>\n",
       "      <td>47</td>\n",
       "      <td>29</td>\n",
       "      <td>60</td>\n",
       "      <td>25</td>\n",
       "      <td>38</td>\n",
       "      <td>30</td>\n",
       "      <td>1</td>\n",
       "      <td>84</td>\n",
       "      <td>65</td>\n",
       "      <td>2</td>\n",
       "    </tr>\n",
       "    <tr>\n",
       "      <th>22</th>\n",
       "      <td>2</td>\n",
       "      <td>0</td>\n",
       "      <td>1</td>\n",
       "      <td>3</td>\n",
       "      <td>1</td>\n",
       "      <td>0</td>\n",
       "      <td>1</td>\n",
       "      <td>1</td>\n",
       "      <td>1</td>\n",
       "      <td>2</td>\n",
       "      <td>...</td>\n",
       "      <td>51</td>\n",
       "      <td>32</td>\n",
       "      <td>30</td>\n",
       "      <td>25</td>\n",
       "      <td>36</td>\n",
       "      <td>30</td>\n",
       "      <td>1</td>\n",
       "      <td>136</td>\n",
       "      <td>40</td>\n",
       "      <td>2</td>\n",
       "    </tr>\n",
       "    <tr>\n",
       "      <th>23</th>\n",
       "      <td>2</td>\n",
       "      <td>0</td>\n",
       "      <td>1</td>\n",
       "      <td>3</td>\n",
       "      <td>1</td>\n",
       "      <td>0</td>\n",
       "      <td>1</td>\n",
       "      <td>1</td>\n",
       "      <td>1</td>\n",
       "      <td>2</td>\n",
       "      <td>...</td>\n",
       "      <td>51</td>\n",
       "      <td>38</td>\n",
       "      <td>60</td>\n",
       "      <td>25</td>\n",
       "      <td>42</td>\n",
       "      <td>20</td>\n",
       "      <td>0</td>\n",
       "      <td>84</td>\n",
       "      <td>40</td>\n",
       "      <td>2</td>\n",
       "    </tr>\n",
       "    <tr>\n",
       "      <th>24</th>\n",
       "      <td>2</td>\n",
       "      <td>0</td>\n",
       "      <td>1</td>\n",
       "      <td>3</td>\n",
       "      <td>1</td>\n",
       "      <td>0</td>\n",
       "      <td>1</td>\n",
       "      <td>1</td>\n",
       "      <td>1</td>\n",
       "      <td>2</td>\n",
       "      <td>...</td>\n",
       "      <td>51</td>\n",
       "      <td>29</td>\n",
       "      <td>30</td>\n",
       "      <td>27</td>\n",
       "      <td>32</td>\n",
       "      <td>10</td>\n",
       "      <td>1</td>\n",
       "      <td>84</td>\n",
       "      <td>50</td>\n",
       "      <td>2</td>\n",
       "    </tr>\n",
       "    <tr>\n",
       "      <th>25</th>\n",
       "      <td>2</td>\n",
       "      <td>0</td>\n",
       "      <td>1</td>\n",
       "      <td>3</td>\n",
       "      <td>1</td>\n",
       "      <td>0</td>\n",
       "      <td>1</td>\n",
       "      <td>1</td>\n",
       "      <td>1</td>\n",
       "      <td>2</td>\n",
       "      <td>...</td>\n",
       "      <td>51</td>\n",
       "      <td>32</td>\n",
       "      <td>60</td>\n",
       "      <td>27</td>\n",
       "      <td>40</td>\n",
       "      <td>30</td>\n",
       "      <td>0</td>\n",
       "      <td>105</td>\n",
       "      <td>50</td>\n",
       "      <td>2</td>\n",
       "    </tr>\n",
       "    <tr>\n",
       "      <th>26</th>\n",
       "      <td>2</td>\n",
       "      <td>0</td>\n",
       "      <td>1</td>\n",
       "      <td>3</td>\n",
       "      <td>1</td>\n",
       "      <td>0</td>\n",
       "      <td>1</td>\n",
       "      <td>1</td>\n",
       "      <td>1</td>\n",
       "      <td>2</td>\n",
       "      <td>...</td>\n",
       "      <td>58</td>\n",
       "      <td>38</td>\n",
       "      <td>30</td>\n",
       "      <td>27</td>\n",
       "      <td>42</td>\n",
       "      <td>30</td>\n",
       "      <td>0</td>\n",
       "      <td>84</td>\n",
       "      <td>65</td>\n",
       "      <td>2</td>\n",
       "    </tr>\n",
       "    <tr>\n",
       "      <th>27</th>\n",
       "      <td>2</td>\n",
       "      <td>0</td>\n",
       "      <td>1</td>\n",
       "      <td>4</td>\n",
       "      <td>1</td>\n",
       "      <td>0</td>\n",
       "      <td>1</td>\n",
       "      <td>1</td>\n",
       "      <td>1</td>\n",
       "      <td>2</td>\n",
       "      <td>...</td>\n",
       "      <td>138</td>\n",
       "      <td>40</td>\n",
       "      <td>30</td>\n",
       "      <td>65</td>\n",
       "      <td>45</td>\n",
       "      <td>10</td>\n",
       "      <td>0</td>\n",
       "      <td>135</td>\n",
       "      <td>80</td>\n",
       "      <td>2</td>\n",
       "    </tr>\n",
       "    <tr>\n",
       "      <th>28</th>\n",
       "      <td>2</td>\n",
       "      <td>0</td>\n",
       "      <td>1</td>\n",
       "      <td>4</td>\n",
       "      <td>1</td>\n",
       "      <td>0</td>\n",
       "      <td>1</td>\n",
       "      <td>1</td>\n",
       "      <td>1</td>\n",
       "      <td>2</td>\n",
       "      <td>...</td>\n",
       "      <td>138</td>\n",
       "      <td>40</td>\n",
       "      <td>120</td>\n",
       "      <td>61</td>\n",
       "      <td>52</td>\n",
       "      <td>10</td>\n",
       "      <td>1</td>\n",
       "      <td>175</td>\n",
       "      <td>130</td>\n",
       "      <td>2</td>\n",
       "    </tr>\n",
       "    <tr>\n",
       "      <th>29</th>\n",
       "      <td>2</td>\n",
       "      <td>0</td>\n",
       "      <td>1</td>\n",
       "      <td>4</td>\n",
       "      <td>1</td>\n",
       "      <td>0</td>\n",
       "      <td>1</td>\n",
       "      <td>1</td>\n",
       "      <td>1</td>\n",
       "      <td>2</td>\n",
       "      <td>...</td>\n",
       "      <td>138</td>\n",
       "      <td>36</td>\n",
       "      <td>30</td>\n",
       "      <td>58</td>\n",
       "      <td>49</td>\n",
       "      <td>20</td>\n",
       "      <td>0</td>\n",
       "      <td>175</td>\n",
       "      <td>100</td>\n",
       "      <td>2</td>\n",
       "    </tr>\n",
       "    <tr>\n",
       "      <th>...</th>\n",
       "      <td>...</td>\n",
       "      <td>...</td>\n",
       "      <td>...</td>\n",
       "      <td>...</td>\n",
       "      <td>...</td>\n",
       "      <td>...</td>\n",
       "      <td>...</td>\n",
       "      <td>...</td>\n",
       "      <td>...</td>\n",
       "      <td>...</td>\n",
       "      <td>...</td>\n",
       "      <td>...</td>\n",
       "      <td>...</td>\n",
       "      <td>...</td>\n",
       "      <td>...</td>\n",
       "      <td>...</td>\n",
       "      <td>...</td>\n",
       "      <td>...</td>\n",
       "      <td>...</td>\n",
       "      <td>...</td>\n",
       "      <td>...</td>\n",
       "    </tr>\n",
       "    <tr>\n",
       "      <th>10698</th>\n",
       "      <td>3</td>\n",
       "      <td>1</td>\n",
       "      <td>1</td>\n",
       "      <td>1189</td>\n",
       "      <td>4</td>\n",
       "      <td>1</td>\n",
       "      <td>6</td>\n",
       "      <td>1</td>\n",
       "      <td>1</td>\n",
       "      <td>3</td>\n",
       "      <td>...</td>\n",
       "      <td>90</td>\n",
       "      <td>23</td>\n",
       "      <td>60</td>\n",
       "      <td>75</td>\n",
       "      <td>25</td>\n",
       "      <td>10</td>\n",
       "      <td>0</td>\n",
       "      <td>70</td>\n",
       "      <td>32</td>\n",
       "      <td>2</td>\n",
       "    </tr>\n",
       "    <tr>\n",
       "      <th>10699</th>\n",
       "      <td>3</td>\n",
       "      <td>1</td>\n",
       "      <td>1</td>\n",
       "      <td>1189</td>\n",
       "      <td>4</td>\n",
       "      <td>1</td>\n",
       "      <td>6</td>\n",
       "      <td>1</td>\n",
       "      <td>1</td>\n",
       "      <td>3</td>\n",
       "      <td>...</td>\n",
       "      <td>90</td>\n",
       "      <td>19</td>\n",
       "      <td>120</td>\n",
       "      <td>73</td>\n",
       "      <td>25</td>\n",
       "      <td>20</td>\n",
       "      <td>0</td>\n",
       "      <td>70</td>\n",
       "      <td>52</td>\n",
       "      <td>2</td>\n",
       "    </tr>\n",
       "    <tr>\n",
       "      <th>10700</th>\n",
       "      <td>3</td>\n",
       "      <td>1</td>\n",
       "      <td>1</td>\n",
       "      <td>1189</td>\n",
       "      <td>4</td>\n",
       "      <td>1</td>\n",
       "      <td>6</td>\n",
       "      <td>1</td>\n",
       "      <td>1</td>\n",
       "      <td>3</td>\n",
       "      <td>...</td>\n",
       "      <td>99</td>\n",
       "      <td>23</td>\n",
       "      <td>30</td>\n",
       "      <td>77</td>\n",
       "      <td>31</td>\n",
       "      <td>20</td>\n",
       "      <td>0</td>\n",
       "      <td>70</td>\n",
       "      <td>52</td>\n",
       "      <td>2</td>\n",
       "    </tr>\n",
       "    <tr>\n",
       "      <th>10701</th>\n",
       "      <td>3</td>\n",
       "      <td>1</td>\n",
       "      <td>1</td>\n",
       "      <td>1190</td>\n",
       "      <td>4</td>\n",
       "      <td>1</td>\n",
       "      <td>6</td>\n",
       "      <td>1</td>\n",
       "      <td>1</td>\n",
       "      <td>4</td>\n",
       "      <td>...</td>\n",
       "      <td>160</td>\n",
       "      <td>19</td>\n",
       "      <td>30</td>\n",
       "      <td>66</td>\n",
       "      <td>23</td>\n",
       "      <td>10</td>\n",
       "      <td>0</td>\n",
       "      <td>120</td>\n",
       "      <td>68</td>\n",
       "      <td>3</td>\n",
       "    </tr>\n",
       "    <tr>\n",
       "      <th>10702</th>\n",
       "      <td>3</td>\n",
       "      <td>1</td>\n",
       "      <td>1</td>\n",
       "      <td>1190</td>\n",
       "      <td>4</td>\n",
       "      <td>1</td>\n",
       "      <td>6</td>\n",
       "      <td>1</td>\n",
       "      <td>1</td>\n",
       "      <td>4</td>\n",
       "      <td>...</td>\n",
       "      <td>160</td>\n",
       "      <td>19</td>\n",
       "      <td>120</td>\n",
       "      <td>60</td>\n",
       "      <td>31</td>\n",
       "      <td>10</td>\n",
       "      <td>0</td>\n",
       "      <td>156</td>\n",
       "      <td>110</td>\n",
       "      <td>1</td>\n",
       "    </tr>\n",
       "    <tr>\n",
       "      <th>10703</th>\n",
       "      <td>3</td>\n",
       "      <td>1</td>\n",
       "      <td>1</td>\n",
       "      <td>1190</td>\n",
       "      <td>4</td>\n",
       "      <td>1</td>\n",
       "      <td>6</td>\n",
       "      <td>1</td>\n",
       "      <td>1</td>\n",
       "      <td>4</td>\n",
       "      <td>...</td>\n",
       "      <td>160</td>\n",
       "      <td>17</td>\n",
       "      <td>30</td>\n",
       "      <td>55</td>\n",
       "      <td>31</td>\n",
       "      <td>20</td>\n",
       "      <td>0</td>\n",
       "      <td>156</td>\n",
       "      <td>85</td>\n",
       "      <td>1</td>\n",
       "    </tr>\n",
       "    <tr>\n",
       "      <th>10704</th>\n",
       "      <td>3</td>\n",
       "      <td>1</td>\n",
       "      <td>1</td>\n",
       "      <td>1190</td>\n",
       "      <td>4</td>\n",
       "      <td>1</td>\n",
       "      <td>6</td>\n",
       "      <td>1</td>\n",
       "      <td>1</td>\n",
       "      <td>4</td>\n",
       "      <td>...</td>\n",
       "      <td>124</td>\n",
       "      <td>17</td>\n",
       "      <td>60</td>\n",
       "      <td>55</td>\n",
       "      <td>31</td>\n",
       "      <td>30</td>\n",
       "      <td>0</td>\n",
       "      <td>96</td>\n",
       "      <td>110</td>\n",
       "      <td>1</td>\n",
       "    </tr>\n",
       "    <tr>\n",
       "      <th>10705</th>\n",
       "      <td>3</td>\n",
       "      <td>1</td>\n",
       "      <td>1</td>\n",
       "      <td>1190</td>\n",
       "      <td>4</td>\n",
       "      <td>1</td>\n",
       "      <td>6</td>\n",
       "      <td>1</td>\n",
       "      <td>1</td>\n",
       "      <td>4</td>\n",
       "      <td>...</td>\n",
       "      <td>136</td>\n",
       "      <td>19</td>\n",
       "      <td>30</td>\n",
       "      <td>55</td>\n",
       "      <td>25</td>\n",
       "      <td>30</td>\n",
       "      <td>0</td>\n",
       "      <td>156</td>\n",
       "      <td>68</td>\n",
       "      <td>1</td>\n",
       "    </tr>\n",
       "    <tr>\n",
       "      <th>10706</th>\n",
       "      <td>3</td>\n",
       "      <td>1</td>\n",
       "      <td>1</td>\n",
       "      <td>1190</td>\n",
       "      <td>4</td>\n",
       "      <td>1</td>\n",
       "      <td>6</td>\n",
       "      <td>1</td>\n",
       "      <td>1</td>\n",
       "      <td>4</td>\n",
       "      <td>...</td>\n",
       "      <td>136</td>\n",
       "      <td>17</td>\n",
       "      <td>30</td>\n",
       "      <td>60</td>\n",
       "      <td>23</td>\n",
       "      <td>10</td>\n",
       "      <td>0</td>\n",
       "      <td>96</td>\n",
       "      <td>85</td>\n",
       "      <td>1</td>\n",
       "    </tr>\n",
       "    <tr>\n",
       "      <th>10707</th>\n",
       "      <td>3</td>\n",
       "      <td>1</td>\n",
       "      <td>1</td>\n",
       "      <td>1190</td>\n",
       "      <td>4</td>\n",
       "      <td>1</td>\n",
       "      <td>6</td>\n",
       "      <td>1</td>\n",
       "      <td>1</td>\n",
       "      <td>4</td>\n",
       "      <td>...</td>\n",
       "      <td>136</td>\n",
       "      <td>23</td>\n",
       "      <td>60</td>\n",
       "      <td>55</td>\n",
       "      <td>23</td>\n",
       "      <td>20</td>\n",
       "      <td>0</td>\n",
       "      <td>96</td>\n",
       "      <td>68</td>\n",
       "      <td>3</td>\n",
       "    </tr>\n",
       "    <tr>\n",
       "      <th>10708</th>\n",
       "      <td>3</td>\n",
       "      <td>1</td>\n",
       "      <td>1</td>\n",
       "      <td>1190</td>\n",
       "      <td>4</td>\n",
       "      <td>1</td>\n",
       "      <td>6</td>\n",
       "      <td>1</td>\n",
       "      <td>1</td>\n",
       "      <td>4</td>\n",
       "      <td>...</td>\n",
       "      <td>160</td>\n",
       "      <td>23</td>\n",
       "      <td>30</td>\n",
       "      <td>60</td>\n",
       "      <td>25</td>\n",
       "      <td>30</td>\n",
       "      <td>0</td>\n",
       "      <td>96</td>\n",
       "      <td>110</td>\n",
       "      <td>3</td>\n",
       "    </tr>\n",
       "    <tr>\n",
       "      <th>10709</th>\n",
       "      <td>3</td>\n",
       "      <td>1</td>\n",
       "      <td>1</td>\n",
       "      <td>1190</td>\n",
       "      <td>4</td>\n",
       "      <td>1</td>\n",
       "      <td>6</td>\n",
       "      <td>1</td>\n",
       "      <td>1</td>\n",
       "      <td>4</td>\n",
       "      <td>...</td>\n",
       "      <td>136</td>\n",
       "      <td>19</td>\n",
       "      <td>60</td>\n",
       "      <td>60</td>\n",
       "      <td>31</td>\n",
       "      <td>30</td>\n",
       "      <td>0</td>\n",
       "      <td>120</td>\n",
       "      <td>85</td>\n",
       "      <td>1</td>\n",
       "    </tr>\n",
       "    <tr>\n",
       "      <th>10710</th>\n",
       "      <td>3</td>\n",
       "      <td>1</td>\n",
       "      <td>1</td>\n",
       "      <td>1191</td>\n",
       "      <td>4</td>\n",
       "      <td>1</td>\n",
       "      <td>6</td>\n",
       "      <td>1</td>\n",
       "      <td>1</td>\n",
       "      <td>3</td>\n",
       "      <td>...</td>\n",
       "      <td>281</td>\n",
       "      <td>19</td>\n",
       "      <td>30</td>\n",
       "      <td>171</td>\n",
       "      <td>23</td>\n",
       "      <td>10</td>\n",
       "      <td>0</td>\n",
       "      <td>170</td>\n",
       "      <td>80</td>\n",
       "      <td>3</td>\n",
       "    </tr>\n",
       "    <tr>\n",
       "      <th>10711</th>\n",
       "      <td>3</td>\n",
       "      <td>1</td>\n",
       "      <td>1</td>\n",
       "      <td>1191</td>\n",
       "      <td>4</td>\n",
       "      <td>1</td>\n",
       "      <td>6</td>\n",
       "      <td>1</td>\n",
       "      <td>1</td>\n",
       "      <td>3</td>\n",
       "      <td>...</td>\n",
       "      <td>281</td>\n",
       "      <td>19</td>\n",
       "      <td>120</td>\n",
       "      <td>165</td>\n",
       "      <td>31</td>\n",
       "      <td>10</td>\n",
       "      <td>0</td>\n",
       "      <td>221</td>\n",
       "      <td>130</td>\n",
       "      <td>2</td>\n",
       "    </tr>\n",
       "    <tr>\n",
       "      <th>10712</th>\n",
       "      <td>3</td>\n",
       "      <td>1</td>\n",
       "      <td>1</td>\n",
       "      <td>1191</td>\n",
       "      <td>4</td>\n",
       "      <td>1</td>\n",
       "      <td>6</td>\n",
       "      <td>1</td>\n",
       "      <td>1</td>\n",
       "      <td>3</td>\n",
       "      <td>...</td>\n",
       "      <td>281</td>\n",
       "      <td>17</td>\n",
       "      <td>30</td>\n",
       "      <td>160</td>\n",
       "      <td>31</td>\n",
       "      <td>20</td>\n",
       "      <td>0</td>\n",
       "      <td>221</td>\n",
       "      <td>100</td>\n",
       "      <td>2</td>\n",
       "    </tr>\n",
       "    <tr>\n",
       "      <th>10713</th>\n",
       "      <td>3</td>\n",
       "      <td>1</td>\n",
       "      <td>1</td>\n",
       "      <td>1191</td>\n",
       "      <td>4</td>\n",
       "      <td>1</td>\n",
       "      <td>6</td>\n",
       "      <td>1</td>\n",
       "      <td>1</td>\n",
       "      <td>3</td>\n",
       "      <td>...</td>\n",
       "      <td>221</td>\n",
       "      <td>17</td>\n",
       "      <td>60</td>\n",
       "      <td>160</td>\n",
       "      <td>31</td>\n",
       "      <td>30</td>\n",
       "      <td>0</td>\n",
       "      <td>136</td>\n",
       "      <td>130</td>\n",
       "      <td>3</td>\n",
       "    </tr>\n",
       "    <tr>\n",
       "      <th>10714</th>\n",
       "      <td>3</td>\n",
       "      <td>1</td>\n",
       "      <td>1</td>\n",
       "      <td>1191</td>\n",
       "      <td>4</td>\n",
       "      <td>1</td>\n",
       "      <td>6</td>\n",
       "      <td>1</td>\n",
       "      <td>1</td>\n",
       "      <td>3</td>\n",
       "      <td>...</td>\n",
       "      <td>241</td>\n",
       "      <td>19</td>\n",
       "      <td>30</td>\n",
       "      <td>160</td>\n",
       "      <td>25</td>\n",
       "      <td>30</td>\n",
       "      <td>0</td>\n",
       "      <td>221</td>\n",
       "      <td>80</td>\n",
       "      <td>2</td>\n",
       "    </tr>\n",
       "    <tr>\n",
       "      <th>10715</th>\n",
       "      <td>3</td>\n",
       "      <td>1</td>\n",
       "      <td>1</td>\n",
       "      <td>1191</td>\n",
       "      <td>4</td>\n",
       "      <td>1</td>\n",
       "      <td>6</td>\n",
       "      <td>1</td>\n",
       "      <td>1</td>\n",
       "      <td>3</td>\n",
       "      <td>...</td>\n",
       "      <td>241</td>\n",
       "      <td>17</td>\n",
       "      <td>30</td>\n",
       "      <td>165</td>\n",
       "      <td>23</td>\n",
       "      <td>10</td>\n",
       "      <td>0</td>\n",
       "      <td>136</td>\n",
       "      <td>100</td>\n",
       "      <td>3</td>\n",
       "    </tr>\n",
       "    <tr>\n",
       "      <th>10716</th>\n",
       "      <td>3</td>\n",
       "      <td>1</td>\n",
       "      <td>1</td>\n",
       "      <td>1191</td>\n",
       "      <td>4</td>\n",
       "      <td>1</td>\n",
       "      <td>6</td>\n",
       "      <td>1</td>\n",
       "      <td>1</td>\n",
       "      <td>3</td>\n",
       "      <td>...</td>\n",
       "      <td>241</td>\n",
       "      <td>23</td>\n",
       "      <td>60</td>\n",
       "      <td>160</td>\n",
       "      <td>23</td>\n",
       "      <td>20</td>\n",
       "      <td>0</td>\n",
       "      <td>136</td>\n",
       "      <td>80</td>\n",
       "      <td>3</td>\n",
       "    </tr>\n",
       "    <tr>\n",
       "      <th>10717</th>\n",
       "      <td>3</td>\n",
       "      <td>1</td>\n",
       "      <td>1</td>\n",
       "      <td>1191</td>\n",
       "      <td>4</td>\n",
       "      <td>1</td>\n",
       "      <td>6</td>\n",
       "      <td>1</td>\n",
       "      <td>1</td>\n",
       "      <td>3</td>\n",
       "      <td>...</td>\n",
       "      <td>281</td>\n",
       "      <td>23</td>\n",
       "      <td>30</td>\n",
       "      <td>165</td>\n",
       "      <td>25</td>\n",
       "      <td>30</td>\n",
       "      <td>0</td>\n",
       "      <td>136</td>\n",
       "      <td>130</td>\n",
       "      <td>3</td>\n",
       "    </tr>\n",
       "    <tr>\n",
       "      <th>10718</th>\n",
       "      <td>3</td>\n",
       "      <td>1</td>\n",
       "      <td>1</td>\n",
       "      <td>1191</td>\n",
       "      <td>4</td>\n",
       "      <td>1</td>\n",
       "      <td>6</td>\n",
       "      <td>1</td>\n",
       "      <td>1</td>\n",
       "      <td>3</td>\n",
       "      <td>...</td>\n",
       "      <td>241</td>\n",
       "      <td>19</td>\n",
       "      <td>60</td>\n",
       "      <td>165</td>\n",
       "      <td>31</td>\n",
       "      <td>30</td>\n",
       "      <td>0</td>\n",
       "      <td>170</td>\n",
       "      <td>100</td>\n",
       "      <td>3</td>\n",
       "    </tr>\n",
       "    <tr>\n",
       "      <th>10719</th>\n",
       "      <td>3</td>\n",
       "      <td>1</td>\n",
       "      <td>1</td>\n",
       "      <td>1192</td>\n",
       "      <td>4</td>\n",
       "      <td>1</td>\n",
       "      <td>7</td>\n",
       "      <td>1</td>\n",
       "      <td>0</td>\n",
       "      <td>5</td>\n",
       "      <td>...</td>\n",
       "      <td>178</td>\n",
       "      <td>13</td>\n",
       "      <td>30</td>\n",
       "      <td>100</td>\n",
       "      <td>16</td>\n",
       "      <td>10</td>\n",
       "      <td>0</td>\n",
       "      <td>120</td>\n",
       "      <td>56</td>\n",
       "      <td>3</td>\n",
       "    </tr>\n",
       "    <tr>\n",
       "      <th>10720</th>\n",
       "      <td>3</td>\n",
       "      <td>1</td>\n",
       "      <td>1</td>\n",
       "      <td>1192</td>\n",
       "      <td>4</td>\n",
       "      <td>1</td>\n",
       "      <td>7</td>\n",
       "      <td>1</td>\n",
       "      <td>0</td>\n",
       "      <td>5</td>\n",
       "      <td>...</td>\n",
       "      <td>178</td>\n",
       "      <td>13</td>\n",
       "      <td>120</td>\n",
       "      <td>96</td>\n",
       "      <td>21</td>\n",
       "      <td>10</td>\n",
       "      <td>0</td>\n",
       "      <td>156</td>\n",
       "      <td>91</td>\n",
       "      <td>2</td>\n",
       "    </tr>\n",
       "    <tr>\n",
       "      <th>10721</th>\n",
       "      <td>3</td>\n",
       "      <td>1</td>\n",
       "      <td>1</td>\n",
       "      <td>1192</td>\n",
       "      <td>4</td>\n",
       "      <td>1</td>\n",
       "      <td>7</td>\n",
       "      <td>1</td>\n",
       "      <td>0</td>\n",
       "      <td>5</td>\n",
       "      <td>...</td>\n",
       "      <td>178</td>\n",
       "      <td>12</td>\n",
       "      <td>30</td>\n",
       "      <td>93</td>\n",
       "      <td>21</td>\n",
       "      <td>20</td>\n",
       "      <td>0</td>\n",
       "      <td>156</td>\n",
       "      <td>70</td>\n",
       "      <td>2</td>\n",
       "    </tr>\n",
       "    <tr>\n",
       "      <th>10722</th>\n",
       "      <td>3</td>\n",
       "      <td>1</td>\n",
       "      <td>1</td>\n",
       "      <td>1192</td>\n",
       "      <td>4</td>\n",
       "      <td>1</td>\n",
       "      <td>7</td>\n",
       "      <td>1</td>\n",
       "      <td>0</td>\n",
       "      <td>5</td>\n",
       "      <td>...</td>\n",
       "      <td>133</td>\n",
       "      <td>12</td>\n",
       "      <td>60</td>\n",
       "      <td>93</td>\n",
       "      <td>21</td>\n",
       "      <td>30</td>\n",
       "      <td>0</td>\n",
       "      <td>96</td>\n",
       "      <td>91</td>\n",
       "      <td>3</td>\n",
       "    </tr>\n",
       "    <tr>\n",
       "      <th>10723</th>\n",
       "      <td>3</td>\n",
       "      <td>1</td>\n",
       "      <td>1</td>\n",
       "      <td>1192</td>\n",
       "      <td>4</td>\n",
       "      <td>1</td>\n",
       "      <td>7</td>\n",
       "      <td>1</td>\n",
       "      <td>0</td>\n",
       "      <td>5</td>\n",
       "      <td>...</td>\n",
       "      <td>148</td>\n",
       "      <td>13</td>\n",
       "      <td>30</td>\n",
       "      <td>93</td>\n",
       "      <td>17</td>\n",
       "      <td>30</td>\n",
       "      <td>0</td>\n",
       "      <td>156</td>\n",
       "      <td>56</td>\n",
       "      <td>2</td>\n",
       "    </tr>\n",
       "    <tr>\n",
       "      <th>10724</th>\n",
       "      <td>3</td>\n",
       "      <td>1</td>\n",
       "      <td>1</td>\n",
       "      <td>1192</td>\n",
       "      <td>4</td>\n",
       "      <td>1</td>\n",
       "      <td>7</td>\n",
       "      <td>1</td>\n",
       "      <td>0</td>\n",
       "      <td>5</td>\n",
       "      <td>...</td>\n",
       "      <td>148</td>\n",
       "      <td>12</td>\n",
       "      <td>30</td>\n",
       "      <td>96</td>\n",
       "      <td>16</td>\n",
       "      <td>10</td>\n",
       "      <td>0</td>\n",
       "      <td>96</td>\n",
       "      <td>70</td>\n",
       "      <td>3</td>\n",
       "    </tr>\n",
       "    <tr>\n",
       "      <th>10725</th>\n",
       "      <td>3</td>\n",
       "      <td>1</td>\n",
       "      <td>1</td>\n",
       "      <td>1192</td>\n",
       "      <td>4</td>\n",
       "      <td>1</td>\n",
       "      <td>7</td>\n",
       "      <td>1</td>\n",
       "      <td>0</td>\n",
       "      <td>5</td>\n",
       "      <td>...</td>\n",
       "      <td>148</td>\n",
       "      <td>16</td>\n",
       "      <td>60</td>\n",
       "      <td>93</td>\n",
       "      <td>16</td>\n",
       "      <td>20</td>\n",
       "      <td>0</td>\n",
       "      <td>96</td>\n",
       "      <td>56</td>\n",
       "      <td>3</td>\n",
       "    </tr>\n",
       "    <tr>\n",
       "      <th>10726</th>\n",
       "      <td>3</td>\n",
       "      <td>1</td>\n",
       "      <td>1</td>\n",
       "      <td>1192</td>\n",
       "      <td>4</td>\n",
       "      <td>1</td>\n",
       "      <td>7</td>\n",
       "      <td>1</td>\n",
       "      <td>0</td>\n",
       "      <td>5</td>\n",
       "      <td>...</td>\n",
       "      <td>178</td>\n",
       "      <td>16</td>\n",
       "      <td>30</td>\n",
       "      <td>96</td>\n",
       "      <td>17</td>\n",
       "      <td>30</td>\n",
       "      <td>0</td>\n",
       "      <td>96</td>\n",
       "      <td>91</td>\n",
       "      <td>2</td>\n",
       "    </tr>\n",
       "    <tr>\n",
       "      <th>10727</th>\n",
       "      <td>3</td>\n",
       "      <td>1</td>\n",
       "      <td>1</td>\n",
       "      <td>1192</td>\n",
       "      <td>4</td>\n",
       "      <td>1</td>\n",
       "      <td>7</td>\n",
       "      <td>1</td>\n",
       "      <td>0</td>\n",
       "      <td>5</td>\n",
       "      <td>...</td>\n",
       "      <td>148</td>\n",
       "      <td>13</td>\n",
       "      <td>60</td>\n",
       "      <td>96</td>\n",
       "      <td>21</td>\n",
       "      <td>30</td>\n",
       "      <td>0</td>\n",
       "      <td>120</td>\n",
       "      <td>70</td>\n",
       "      <td>3</td>\n",
       "    </tr>\n",
       "  </tbody>\n",
       "</table>\n",
       "<p>10728 rows × 28 columns</p>\n",
       "</div>"
      ],
      "text/plain": [
       "       GROUP  SURVEY  SP    ID  PURPOSE  FIRST  TICKET  WHO  LUGGAGE  AGE  \\\n",
       "0          2       0   1     1        1      0       1    1        0    3   \n",
       "1          2       0   1     1        1      0       1    1        0    3   \n",
       "2          2       0   1     1        1      0       1    1        0    3   \n",
       "3          2       0   1     1        1      0       1    1        0    3   \n",
       "4          2       0   1     1        1      0       1    1        0    3   \n",
       "5          2       0   1     1        1      0       1    1        0    3   \n",
       "6          2       0   1     1        1      0       1    1        0    3   \n",
       "7          2       0   1     1        1      0       1    1        0    3   \n",
       "8          2       0   1     1        1      0       1    1        0    3   \n",
       "9          2       0   1     2        1      0       1    1        1    2   \n",
       "10         2       0   1     2        1      0       1    1        1    2   \n",
       "11         2       0   1     2        1      0       1    1        1    2   \n",
       "12         2       0   1     2        1      0       1    1        1    2   \n",
       "13         2       0   1     2        1      0       1    1        1    2   \n",
       "14         2       0   1     2        1      0       1    1        1    2   \n",
       "15         2       0   1     2        1      0       1    1        1    2   \n",
       "16         2       0   1     2        1      0       1    1        1    2   \n",
       "17         2       0   1     2        1      0       1    1        1    2   \n",
       "18         2       0   1     3        1      0       1    1        1    2   \n",
       "19         2       0   1     3        1      0       1    1        1    2   \n",
       "20         2       0   1     3        1      0       1    1        1    2   \n",
       "21         2       0   1     3        1      0       1    1        1    2   \n",
       "22         2       0   1     3        1      0       1    1        1    2   \n",
       "23         2       0   1     3        1      0       1    1        1    2   \n",
       "24         2       0   1     3        1      0       1    1        1    2   \n",
       "25         2       0   1     3        1      0       1    1        1    2   \n",
       "26         2       0   1     3        1      0       1    1        1    2   \n",
       "27         2       0   1     4        1      0       1    1        1    2   \n",
       "28         2       0   1     4        1      0       1    1        1    2   \n",
       "29         2       0   1     4        1      0       1    1        1    2   \n",
       "...      ...     ...  ..   ...      ...    ...     ...  ...      ...  ...   \n",
       "10698      3       1   1  1189        4      1       6    1        1    3   \n",
       "10699      3       1   1  1189        4      1       6    1        1    3   \n",
       "10700      3       1   1  1189        4      1       6    1        1    3   \n",
       "10701      3       1   1  1190        4      1       6    1        1    4   \n",
       "10702      3       1   1  1190        4      1       6    1        1    4   \n",
       "10703      3       1   1  1190        4      1       6    1        1    4   \n",
       "10704      3       1   1  1190        4      1       6    1        1    4   \n",
       "10705      3       1   1  1190        4      1       6    1        1    4   \n",
       "10706      3       1   1  1190        4      1       6    1        1    4   \n",
       "10707      3       1   1  1190        4      1       6    1        1    4   \n",
       "10708      3       1   1  1190        4      1       6    1        1    4   \n",
       "10709      3       1   1  1190        4      1       6    1        1    4   \n",
       "10710      3       1   1  1191        4      1       6    1        1    3   \n",
       "10711      3       1   1  1191        4      1       6    1        1    3   \n",
       "10712      3       1   1  1191        4      1       6    1        1    3   \n",
       "10713      3       1   1  1191        4      1       6    1        1    3   \n",
       "10714      3       1   1  1191        4      1       6    1        1    3   \n",
       "10715      3       1   1  1191        4      1       6    1        1    3   \n",
       "10716      3       1   1  1191        4      1       6    1        1    3   \n",
       "10717      3       1   1  1191        4      1       6    1        1    3   \n",
       "10718      3       1   1  1191        4      1       6    1        1    3   \n",
       "10719      3       1   1  1192        4      1       7    1        0    5   \n",
       "10720      3       1   1  1192        4      1       7    1        0    5   \n",
       "10721      3       1   1  1192        4      1       7    1        0    5   \n",
       "10722      3       1   1  1192        4      1       7    1        0    5   \n",
       "10723      3       1   1  1192        4      1       7    1        0    5   \n",
       "10724      3       1   1  1192        4      1       7    1        0    5   \n",
       "10725      3       1   1  1192        4      1       7    1        0    5   \n",
       "10726      3       1   1  1192        4      1       7    1        0    5   \n",
       "10727      3       1   1  1192        4      1       7    1        0    5   \n",
       "\n",
       "        ...    TRAIN_TT  TRAIN_CO  TRAIN_HE  SM_TT  SM_CO  SM_HE  SM_SEATS  \\\n",
       "0       ...         112        48       120     63     52     20         0   \n",
       "1       ...         103        48        30     60     49     10         0   \n",
       "2       ...         130        48        60     67     58     30         0   \n",
       "3       ...         103        40        30     63     52     20         0   \n",
       "4       ...         130        36        60     63     42     20         0   \n",
       "5       ...         112        36       120     60     49     10         0   \n",
       "6       ...         103        48       120     67     58     10         0   \n",
       "7       ...         103        36        30     67     43     30         0   \n",
       "8       ...         130        40        60     60     46     10         0   \n",
       "9       ...         184        62       120     76     70     20         0   \n",
       "10      ...         170        62        30     70     66     10         0   \n",
       "11      ...         213        62        60     84     82     30         0   \n",
       "12      ...         170        52        30     76     72     20         0   \n",
       "13      ...         213        47        60     76     53     20         0   \n",
       "14      ...         184        47       120     70     66     10         0   \n",
       "15      ...         170        62       120     84     82     10         0   \n",
       "16      ...         170        47        30     84     57     30         0   \n",
       "17      ...         213        52        60     70     62     10         0   \n",
       "18      ...          58        32        30     29     35     10         0   \n",
       "19      ...          58        29        30     25     38     20         0   \n",
       "20      ...          58        32       120     27     40     10         1   \n",
       "21      ...          47        29        60     25     38     30         1   \n",
       "22      ...          51        32        30     25     36     30         1   \n",
       "23      ...          51        38        60     25     42     20         0   \n",
       "24      ...          51        29        30     27     32     10         1   \n",
       "25      ...          51        32        60     27     40     30         0   \n",
       "26      ...          58        38        30     27     42     30         0   \n",
       "27      ...         138        40        30     65     45     10         0   \n",
       "28      ...         138        40       120     61     52     10         1   \n",
       "29      ...         138        36        30     58     49     20         0   \n",
       "...     ...         ...       ...       ...    ...    ...    ...       ...   \n",
       "10698   ...          90        23        60     75     25     10         0   \n",
       "10699   ...          90        19       120     73     25     20         0   \n",
       "10700   ...          99        23        30     77     31     20         0   \n",
       "10701   ...         160        19        30     66     23     10         0   \n",
       "10702   ...         160        19       120     60     31     10         0   \n",
       "10703   ...         160        17        30     55     31     20         0   \n",
       "10704   ...         124        17        60     55     31     30         0   \n",
       "10705   ...         136        19        30     55     25     30         0   \n",
       "10706   ...         136        17        30     60     23     10         0   \n",
       "10707   ...         136        23        60     55     23     20         0   \n",
       "10708   ...         160        23        30     60     25     30         0   \n",
       "10709   ...         136        19        60     60     31     30         0   \n",
       "10710   ...         281        19        30    171     23     10         0   \n",
       "10711   ...         281        19       120    165     31     10         0   \n",
       "10712   ...         281        17        30    160     31     20         0   \n",
       "10713   ...         221        17        60    160     31     30         0   \n",
       "10714   ...         241        19        30    160     25     30         0   \n",
       "10715   ...         241        17        30    165     23     10         0   \n",
       "10716   ...         241        23        60    160     23     20         0   \n",
       "10717   ...         281        23        30    165     25     30         0   \n",
       "10718   ...         241        19        60    165     31     30         0   \n",
       "10719   ...         178        13        30    100     16     10         0   \n",
       "10720   ...         178        13       120     96     21     10         0   \n",
       "10721   ...         178        12        30     93     21     20         0   \n",
       "10722   ...         133        12        60     93     21     30         0   \n",
       "10723   ...         148        13        30     93     17     30         0   \n",
       "10724   ...         148        12        30     96     16     10         0   \n",
       "10725   ...         148        16        60     93     16     20         0   \n",
       "10726   ...         178        16        30     96     17     30         0   \n",
       "10727   ...         148        13        60     96     21     30         0   \n",
       "\n",
       "       CAR_TT  CAR_CO  CHOICE  \n",
       "0         117      65       2  \n",
       "1         117      84       2  \n",
       "2         117      52       2  \n",
       "3          72      52       2  \n",
       "4          90      84       2  \n",
       "5          90      52       2  \n",
       "6          72      65       2  \n",
       "7          90      65       1  \n",
       "8          72      65       2  \n",
       "9           0       0       2  \n",
       "10          0       0       2  \n",
       "11          0       0       2  \n",
       "12          0       0       2  \n",
       "13          0       0       2  \n",
       "14          0       0       2  \n",
       "15          0       0       2  \n",
       "16          0       0       2  \n",
       "17          0       0       2  \n",
       "18        105      40       2  \n",
       "19        136      50       2  \n",
       "20        136      65       2  \n",
       "21         84      65       2  \n",
       "22        136      40       2  \n",
       "23         84      40       2  \n",
       "24         84      50       2  \n",
       "25        105      50       2  \n",
       "26         84      65       2  \n",
       "27        135      80       2  \n",
       "28        175     130       2  \n",
       "29        175     100       2  \n",
       "...       ...     ...     ...  \n",
       "10698      70      32       2  \n",
       "10699      70      52       2  \n",
       "10700      70      52       2  \n",
       "10701     120      68       3  \n",
       "10702     156     110       1  \n",
       "10703     156      85       1  \n",
       "10704      96     110       1  \n",
       "10705     156      68       1  \n",
       "10706      96      85       1  \n",
       "10707      96      68       3  \n",
       "10708      96     110       3  \n",
       "10709     120      85       1  \n",
       "10710     170      80       3  \n",
       "10711     221     130       2  \n",
       "10712     221     100       2  \n",
       "10713     136     130       3  \n",
       "10714     221      80       2  \n",
       "10715     136     100       3  \n",
       "10716     136      80       3  \n",
       "10717     136     130       3  \n",
       "10718     170     100       3  \n",
       "10719     120      56       3  \n",
       "10720     156      91       2  \n",
       "10721     156      70       2  \n",
       "10722      96      91       3  \n",
       "10723     156      56       2  \n",
       "10724      96      70       3  \n",
       "10725      96      56       3  \n",
       "10726      96      91       2  \n",
       "10727     120      70       3  \n",
       "\n",
       "[10728 rows x 28 columns]"
      ]
     },
     "execution_count": 5,
     "metadata": {},
     "output_type": "execute_result"
    },
    {
     "name": "stdout",
     "output_type": "stream",
     "text": [
      "time: 124 ms\n"
     ]
    }
   ],
   "source": [
    "df1"
   ]
  },
  {
   "cell_type": "code",
   "execution_count": 6,
   "metadata": {
    "collapsed": false
   },
   "outputs": [
    {
     "data": {
      "text/html": [
       "<div>\n",
       "<table border=\"1\" class=\"dataframe\">\n",
       "  <thead>\n",
       "    <tr style=\"text-align: right;\">\n",
       "      <th></th>\n",
       "      <th>GROUP</th>\n",
       "      <th>SURVEY</th>\n",
       "      <th>SP</th>\n",
       "      <th>ID</th>\n",
       "      <th>PURPOSE</th>\n",
       "      <th>FIRST</th>\n",
       "      <th>TICKET</th>\n",
       "      <th>WHO</th>\n",
       "      <th>LUGGAGE</th>\n",
       "      <th>AGE</th>\n",
       "      <th>...</th>\n",
       "      <th>TRAIN_TT</th>\n",
       "      <th>TRAIN_CO</th>\n",
       "      <th>TRAIN_HE</th>\n",
       "      <th>SM_TT</th>\n",
       "      <th>SM_CO</th>\n",
       "      <th>SM_HE</th>\n",
       "      <th>SM_SEATS</th>\n",
       "      <th>CAR_TT</th>\n",
       "      <th>CAR_CO</th>\n",
       "      <th>CHOICE</th>\n",
       "    </tr>\n",
       "  </thead>\n",
       "  <tbody>\n",
       "    <tr>\n",
       "      <th>count</th>\n",
       "      <td>10728.000000</td>\n",
       "      <td>10728.000000</td>\n",
       "      <td>10728.0</td>\n",
       "      <td>10728.000000</td>\n",
       "      <td>10728.000000</td>\n",
       "      <td>10728.000000</td>\n",
       "      <td>10728.000000</td>\n",
       "      <td>10728.000000</td>\n",
       "      <td>10728.000000</td>\n",
       "      <td>10728.000000</td>\n",
       "      <td>...</td>\n",
       "      <td>10728.000000</td>\n",
       "      <td>10728.000000</td>\n",
       "      <td>10728.000000</td>\n",
       "      <td>10728.000000</td>\n",
       "      <td>10728.000000</td>\n",
       "      <td>10728.000000</td>\n",
       "      <td>10728.000000</td>\n",
       "      <td>10728.000000</td>\n",
       "      <td>10728.000000</td>\n",
       "      <td>10728.000000</td>\n",
       "    </tr>\n",
       "    <tr>\n",
       "      <th>mean</th>\n",
       "      <td>2.630034</td>\n",
       "      <td>0.630034</td>\n",
       "      <td>1.0</td>\n",
       "      <td>596.500000</td>\n",
       "      <td>2.914430</td>\n",
       "      <td>0.470638</td>\n",
       "      <td>2.888423</td>\n",
       "      <td>1.493289</td>\n",
       "      <td>0.678691</td>\n",
       "      <td>2.898490</td>\n",
       "      <td>...</td>\n",
       "      <td>166.626025</td>\n",
       "      <td>514.335477</td>\n",
       "      <td>70.100671</td>\n",
       "      <td>87.466350</td>\n",
       "      <td>670.340697</td>\n",
       "      <td>20.020507</td>\n",
       "      <td>0.118568</td>\n",
       "      <td>123.795209</td>\n",
       "      <td>78.742077</td>\n",
       "      <td>2.152778</td>\n",
       "    </tr>\n",
       "    <tr>\n",
       "      <th>std</th>\n",
       "      <td>0.482818</td>\n",
       "      <td>0.482818</td>\n",
       "      <td>0.0</td>\n",
       "      <td>344.116678</td>\n",
       "      <td>1.147443</td>\n",
       "      <td>0.499160</td>\n",
       "      <td>2.191100</td>\n",
       "      <td>0.708293</td>\n",
       "      <td>0.603388</td>\n",
       "      <td>1.031726</td>\n",
       "      <td>...</td>\n",
       "      <td>77.353284</td>\n",
       "      <td>1088.931881</td>\n",
       "      <td>37.431633</td>\n",
       "      <td>53.550371</td>\n",
       "      <td>1441.594614</td>\n",
       "      <td>8.161895</td>\n",
       "      <td>0.323295</td>\n",
       "      <td>88.710743</td>\n",
       "      <td>55.263663</td>\n",
       "      <td>0.632293</td>\n",
       "    </tr>\n",
       "    <tr>\n",
       "      <th>min</th>\n",
       "      <td>2.000000</td>\n",
       "      <td>0.000000</td>\n",
       "      <td>1.0</td>\n",
       "      <td>1.000000</td>\n",
       "      <td>1.000000</td>\n",
       "      <td>0.000000</td>\n",
       "      <td>1.000000</td>\n",
       "      <td>0.000000</td>\n",
       "      <td>0.000000</td>\n",
       "      <td>1.000000</td>\n",
       "      <td>...</td>\n",
       "      <td>31.000000</td>\n",
       "      <td>4.000000</td>\n",
       "      <td>30.000000</td>\n",
       "      <td>8.000000</td>\n",
       "      <td>6.000000</td>\n",
       "      <td>10.000000</td>\n",
       "      <td>0.000000</td>\n",
       "      <td>0.000000</td>\n",
       "      <td>0.000000</td>\n",
       "      <td>0.000000</td>\n",
       "    </tr>\n",
       "    <tr>\n",
       "      <th>25%</th>\n",
       "      <td>2.000000</td>\n",
       "      <td>0.000000</td>\n",
       "      <td>1.0</td>\n",
       "      <td>298.750000</td>\n",
       "      <td>2.000000</td>\n",
       "      <td>0.000000</td>\n",
       "      <td>1.000000</td>\n",
       "      <td>1.000000</td>\n",
       "      <td>0.000000</td>\n",
       "      <td>2.000000</td>\n",
       "      <td>...</td>\n",
       "      <td>109.000000</td>\n",
       "      <td>58.000000</td>\n",
       "      <td>30.000000</td>\n",
       "      <td>55.000000</td>\n",
       "      <td>70.000000</td>\n",
       "      <td>10.000000</td>\n",
       "      <td>0.000000</td>\n",
       "      <td>70.000000</td>\n",
       "      <td>40.000000</td>\n",
       "      <td>2.000000</td>\n",
       "    </tr>\n",
       "    <tr>\n",
       "      <th>50%</th>\n",
       "      <td>3.000000</td>\n",
       "      <td>1.000000</td>\n",
       "      <td>1.0</td>\n",
       "      <td>596.500000</td>\n",
       "      <td>3.000000</td>\n",
       "      <td>0.000000</td>\n",
       "      <td>3.000000</td>\n",
       "      <td>1.000000</td>\n",
       "      <td>1.000000</td>\n",
       "      <td>3.000000</td>\n",
       "      <td>...</td>\n",
       "      <td>157.000000</td>\n",
       "      <td>94.000000</td>\n",
       "      <td>60.000000</td>\n",
       "      <td>78.000000</td>\n",
       "      <td>111.000000</td>\n",
       "      <td>20.000000</td>\n",
       "      <td>0.000000</td>\n",
       "      <td>120.000000</td>\n",
       "      <td>76.000000</td>\n",
       "      <td>2.000000</td>\n",
       "    </tr>\n",
       "    <tr>\n",
       "      <th>75%</th>\n",
       "      <td>3.000000</td>\n",
       "      <td>1.000000</td>\n",
       "      <td>1.0</td>\n",
       "      <td>894.250000</td>\n",
       "      <td>3.250000</td>\n",
       "      <td>1.000000</td>\n",
       "      <td>3.000000</td>\n",
       "      <td>2.000000</td>\n",
       "      <td>1.000000</td>\n",
       "      <td>4.000000</td>\n",
       "      <td>...</td>\n",
       "      <td>209.000000</td>\n",
       "      <td>170.000000</td>\n",
       "      <td>120.000000</td>\n",
       "      <td>109.000000</td>\n",
       "      <td>209.000000</td>\n",
       "      <td>30.000000</td>\n",
       "      <td>0.000000</td>\n",
       "      <td>176.000000</td>\n",
       "      <td>112.000000</td>\n",
       "      <td>3.000000</td>\n",
       "    </tr>\n",
       "    <tr>\n",
       "      <th>max</th>\n",
       "      <td>3.000000</td>\n",
       "      <td>1.000000</td>\n",
       "      <td>1.0</td>\n",
       "      <td>1192.000000</td>\n",
       "      <td>9.000000</td>\n",
       "      <td>1.000000</td>\n",
       "      <td>10.000000</td>\n",
       "      <td>3.000000</td>\n",
       "      <td>3.000000</td>\n",
       "      <td>6.000000</td>\n",
       "      <td>...</td>\n",
       "      <td>1049.000000</td>\n",
       "      <td>5040.000000</td>\n",
       "      <td>120.000000</td>\n",
       "      <td>796.000000</td>\n",
       "      <td>6720.000000</td>\n",
       "      <td>30.000000</td>\n",
       "      <td>1.000000</td>\n",
       "      <td>1560.000000</td>\n",
       "      <td>520.000000</td>\n",
       "      <td>3.000000</td>\n",
       "    </tr>\n",
       "  </tbody>\n",
       "</table>\n",
       "<p>8 rows × 28 columns</p>\n",
       "</div>"
      ],
      "text/plain": [
       "              GROUP        SURVEY       SP            ID       PURPOSE  \\\n",
       "count  10728.000000  10728.000000  10728.0  10728.000000  10728.000000   \n",
       "mean       2.630034      0.630034      1.0    596.500000      2.914430   \n",
       "std        0.482818      0.482818      0.0    344.116678      1.147443   \n",
       "min        2.000000      0.000000      1.0      1.000000      1.000000   \n",
       "25%        2.000000      0.000000      1.0    298.750000      2.000000   \n",
       "50%        3.000000      1.000000      1.0    596.500000      3.000000   \n",
       "75%        3.000000      1.000000      1.0    894.250000      3.250000   \n",
       "max        3.000000      1.000000      1.0   1192.000000      9.000000   \n",
       "\n",
       "              FIRST        TICKET           WHO       LUGGAGE           AGE  \\\n",
       "count  10728.000000  10728.000000  10728.000000  10728.000000  10728.000000   \n",
       "mean       0.470638      2.888423      1.493289      0.678691      2.898490   \n",
       "std        0.499160      2.191100      0.708293      0.603388      1.031726   \n",
       "min        0.000000      1.000000      0.000000      0.000000      1.000000   \n",
       "25%        0.000000      1.000000      1.000000      0.000000      2.000000   \n",
       "50%        0.000000      3.000000      1.000000      1.000000      3.000000   \n",
       "75%        1.000000      3.000000      2.000000      1.000000      4.000000   \n",
       "max        1.000000     10.000000      3.000000      3.000000      6.000000   \n",
       "\n",
       "           ...           TRAIN_TT      TRAIN_CO      TRAIN_HE         SM_TT  \\\n",
       "count      ...       10728.000000  10728.000000  10728.000000  10728.000000   \n",
       "mean       ...         166.626025    514.335477     70.100671     87.466350   \n",
       "std        ...          77.353284   1088.931881     37.431633     53.550371   \n",
       "min        ...          31.000000      4.000000     30.000000      8.000000   \n",
       "25%        ...         109.000000     58.000000     30.000000     55.000000   \n",
       "50%        ...         157.000000     94.000000     60.000000     78.000000   \n",
       "75%        ...         209.000000    170.000000    120.000000    109.000000   \n",
       "max        ...        1049.000000   5040.000000    120.000000    796.000000   \n",
       "\n",
       "              SM_CO         SM_HE      SM_SEATS        CAR_TT        CAR_CO  \\\n",
       "count  10728.000000  10728.000000  10728.000000  10728.000000  10728.000000   \n",
       "mean     670.340697     20.020507      0.118568    123.795209     78.742077   \n",
       "std     1441.594614      8.161895      0.323295     88.710743     55.263663   \n",
       "min        6.000000     10.000000      0.000000      0.000000      0.000000   \n",
       "25%       70.000000     10.000000      0.000000     70.000000     40.000000   \n",
       "50%      111.000000     20.000000      0.000000    120.000000     76.000000   \n",
       "75%      209.000000     30.000000      0.000000    176.000000    112.000000   \n",
       "max     6720.000000     30.000000      1.000000   1560.000000    520.000000   \n",
       "\n",
       "             CHOICE  \n",
       "count  10728.000000  \n",
       "mean       2.152778  \n",
       "std        0.632293  \n",
       "min        0.000000  \n",
       "25%        2.000000  \n",
       "50%        2.000000  \n",
       "75%        3.000000  \n",
       "max        3.000000  \n",
       "\n",
       "[8 rows x 28 columns]"
      ]
     },
     "execution_count": 6,
     "metadata": {},
     "output_type": "execute_result"
    },
    {
     "name": "stdout",
     "output_type": "stream",
     "text": [
      "time: 92.2 ms\n"
     ]
    }
   ],
   "source": [
    "df1.describe()"
   ]
  },
  {
   "cell_type": "markdown",
   "metadata": {},
   "source": [
    "The session count is given by ID"
   ]
  },
  {
   "cell_type": "code",
   "execution_count": 6,
   "metadata": {
    "collapsed": false
   },
   "outputs": [
    {
     "data": {
      "text/html": [
       "<div>\n",
       "<table border=\"1\" class=\"dataframe\">\n",
       "  <thead>\n",
       "    <tr style=\"text-align: right;\">\n",
       "      <th></th>\n",
       "      <th>GROUP</th>\n",
       "      <th>SURVEY</th>\n",
       "      <th>SP</th>\n",
       "      <th>ID</th>\n",
       "      <th>PURPOSE</th>\n",
       "      <th>FIRST</th>\n",
       "      <th>TICKET</th>\n",
       "      <th>WHO</th>\n",
       "      <th>LUGGAGE</th>\n",
       "      <th>AGE</th>\n",
       "      <th>...</th>\n",
       "      <th>TRAIN_TT</th>\n",
       "      <th>TRAIN_CO</th>\n",
       "      <th>TRAIN_HE</th>\n",
       "      <th>SM_TT</th>\n",
       "      <th>SM_CO</th>\n",
       "      <th>SM_HE</th>\n",
       "      <th>SM_SEATS</th>\n",
       "      <th>CAR_TT</th>\n",
       "      <th>CAR_CO</th>\n",
       "      <th>CHOICE</th>\n",
       "    </tr>\n",
       "  </thead>\n",
       "  <tbody>\n",
       "    <tr>\n",
       "      <th>0</th>\n",
       "      <td>2</td>\n",
       "      <td>0</td>\n",
       "      <td>1</td>\n",
       "      <td>1</td>\n",
       "      <td>1</td>\n",
       "      <td>0</td>\n",
       "      <td>1</td>\n",
       "      <td>1</td>\n",
       "      <td>0</td>\n",
       "      <td>3</td>\n",
       "      <td>...</td>\n",
       "      <td>112</td>\n",
       "      <td>48</td>\n",
       "      <td>120</td>\n",
       "      <td>63</td>\n",
       "      <td>52</td>\n",
       "      <td>20</td>\n",
       "      <td>0</td>\n",
       "      <td>117</td>\n",
       "      <td>65</td>\n",
       "      <td>2</td>\n",
       "    </tr>\n",
       "    <tr>\n",
       "      <th>1</th>\n",
       "      <td>2</td>\n",
       "      <td>0</td>\n",
       "      <td>1</td>\n",
       "      <td>1</td>\n",
       "      <td>1</td>\n",
       "      <td>0</td>\n",
       "      <td>1</td>\n",
       "      <td>1</td>\n",
       "      <td>0</td>\n",
       "      <td>3</td>\n",
       "      <td>...</td>\n",
       "      <td>103</td>\n",
       "      <td>48</td>\n",
       "      <td>30</td>\n",
       "      <td>60</td>\n",
       "      <td>49</td>\n",
       "      <td>10</td>\n",
       "      <td>0</td>\n",
       "      <td>117</td>\n",
       "      <td>84</td>\n",
       "      <td>2</td>\n",
       "    </tr>\n",
       "    <tr>\n",
       "      <th>2</th>\n",
       "      <td>2</td>\n",
       "      <td>0</td>\n",
       "      <td>1</td>\n",
       "      <td>1</td>\n",
       "      <td>1</td>\n",
       "      <td>0</td>\n",
       "      <td>1</td>\n",
       "      <td>1</td>\n",
       "      <td>0</td>\n",
       "      <td>3</td>\n",
       "      <td>...</td>\n",
       "      <td>130</td>\n",
       "      <td>48</td>\n",
       "      <td>60</td>\n",
       "      <td>67</td>\n",
       "      <td>58</td>\n",
       "      <td>30</td>\n",
       "      <td>0</td>\n",
       "      <td>117</td>\n",
       "      <td>52</td>\n",
       "      <td>2</td>\n",
       "    </tr>\n",
       "    <tr>\n",
       "      <th>3</th>\n",
       "      <td>2</td>\n",
       "      <td>0</td>\n",
       "      <td>1</td>\n",
       "      <td>1</td>\n",
       "      <td>1</td>\n",
       "      <td>0</td>\n",
       "      <td>1</td>\n",
       "      <td>1</td>\n",
       "      <td>0</td>\n",
       "      <td>3</td>\n",
       "      <td>...</td>\n",
       "      <td>103</td>\n",
       "      <td>40</td>\n",
       "      <td>30</td>\n",
       "      <td>63</td>\n",
       "      <td>52</td>\n",
       "      <td>20</td>\n",
       "      <td>0</td>\n",
       "      <td>72</td>\n",
       "      <td>52</td>\n",
       "      <td>2</td>\n",
       "    </tr>\n",
       "    <tr>\n",
       "      <th>4</th>\n",
       "      <td>2</td>\n",
       "      <td>0</td>\n",
       "      <td>1</td>\n",
       "      <td>1</td>\n",
       "      <td>1</td>\n",
       "      <td>0</td>\n",
       "      <td>1</td>\n",
       "      <td>1</td>\n",
       "      <td>0</td>\n",
       "      <td>3</td>\n",
       "      <td>...</td>\n",
       "      <td>130</td>\n",
       "      <td>36</td>\n",
       "      <td>60</td>\n",
       "      <td>63</td>\n",
       "      <td>42</td>\n",
       "      <td>20</td>\n",
       "      <td>0</td>\n",
       "      <td>90</td>\n",
       "      <td>84</td>\n",
       "      <td>2</td>\n",
       "    </tr>\n",
       "  </tbody>\n",
       "</table>\n",
       "<p>5 rows × 28 columns</p>\n",
       "</div>"
      ],
      "text/plain": [
       "   GROUP  SURVEY  SP  ID  PURPOSE  FIRST  TICKET  WHO  LUGGAGE  AGE   ...    \\\n",
       "0      2       0   1   1        1      0       1    1        0    3   ...     \n",
       "1      2       0   1   1        1      0       1    1        0    3   ...     \n",
       "2      2       0   1   1        1      0       1    1        0    3   ...     \n",
       "3      2       0   1   1        1      0       1    1        0    3   ...     \n",
       "4      2       0   1   1        1      0       1    1        0    3   ...     \n",
       "\n",
       "   TRAIN_TT  TRAIN_CO  TRAIN_HE  SM_TT  SM_CO  SM_HE  SM_SEATS  CAR_TT  \\\n",
       "0       112        48       120     63     52     20         0     117   \n",
       "1       103        48        30     60     49     10         0     117   \n",
       "2       130        48        60     67     58     30         0     117   \n",
       "3       103        40        30     63     52     20         0      72   \n",
       "4       130        36        60     63     42     20         0      90   \n",
       "\n",
       "   CAR_CO  CHOICE  \n",
       "0      65       2  \n",
       "1      84       2  \n",
       "2      52       2  \n",
       "3      52       2  \n",
       "4      84       2  \n",
       "\n",
       "[5 rows x 28 columns]"
      ]
     },
     "execution_count": 6,
     "metadata": {},
     "output_type": "execute_result"
    },
    {
     "name": "stdout",
     "output_type": "stream",
     "text": [
      "time: 58.4 ms\n"
     ]
    }
   ],
   "source": [
    "df1.head()"
   ]
  },
  {
   "cell_type": "code",
   "execution_count": 7,
   "metadata": {
    "collapsed": false
   },
   "outputs": [
    {
     "data": {
      "text/plain": [
       "1192"
      ]
     },
     "execution_count": 7,
     "metadata": {},
     "output_type": "execute_result"
    },
    {
     "name": "stdout",
     "output_type": "stream",
     "text": [
      "time: 11.8 ms\n"
     ]
    }
   ],
   "source": [
    "max(df1['ID'])"
   ]
  },
  {
   "cell_type": "code",
   "execution_count": 177,
   "metadata": {
    "collapsed": false
   },
   "outputs": [
    {
     "name": "stdout",
     "output_type": "stream",
     "text": [
      "time: 6.78 ms\n"
     ]
    }
   ],
   "source": [
    "def build_dict(xs):\n",
    "    d = {}\n",
    "    for x in xs:\n",
    "        if not(x in d.keys()):\n",
    "            d[x] = []\n",
    "    return d\n"
   ]
  },
  {
   "cell_type": "code",
   "execution_count": 178,
   "metadata": {
    "collapsed": false
   },
   "outputs": [
    {
     "name": "stdout",
     "output_type": "stream",
     "text": [
      "time: 17.8 ms\n"
     ]
    }
   ],
   "source": [
    "d = build_dict(df1['ID'])"
   ]
  },
  {
   "cell_type": "code",
   "execution_count": 9,
   "metadata": {
    "collapsed": false
   },
   "outputs": [
    {
     "data": {
      "text/plain": [
       "1192"
      ]
     },
     "execution_count": 9,
     "metadata": {},
     "output_type": "execute_result"
    },
    {
     "name": "stdout",
     "output_type": "stream",
     "text": [
      "time: 5.49 ms\n"
     ]
    }
   ],
   "source": [
    "len(d)"
   ]
  },
  {
   "cell_type": "markdown",
   "metadata": {},
   "source": [
    "Why does description paper say only 470 were interviewed?"
   ]
  },
  {
   "cell_type": "markdown",
   "metadata": {},
   "source": [
    "--> 750 w/ license plate observations by mail, and 441 on board (?)"
   ]
  },
  {
   "cell_type": "code",
   "execution_count": 10,
   "metadata": {
    "collapsed": false
   },
   "outputs": [
    {
     "data": {
      "text/plain": [
       "1191"
      ]
     },
     "execution_count": 10,
     "metadata": {},
     "output_type": "execute_result"
    },
    {
     "name": "stdout",
     "output_type": "stream",
     "text": [
      "time: 6.16 ms\n"
     ]
    }
   ],
   "source": [
    "750+441"
   ]
  },
  {
   "cell_type": "markdown",
   "metadata": {},
   "source": [
    "For car owners, option of car, else only rail or swissmetro; "
   ]
  },
  {
   "cell_type": "code",
   "execution_count": 11,
   "metadata": {
    "collapsed": false
   },
   "outputs": [
    {
     "data": {
      "text/plain": [
       "Index(['GROUP', 'SURVEY', 'SP', 'ID', 'PURPOSE', 'FIRST', 'TICKET', 'WHO',\n",
       "       'LUGGAGE', 'AGE', 'MALE', 'INCOME', 'GA', 'ORIGIN', 'DEST', 'TRAIN_AV',\n",
       "       'CAR_AV', 'SM_AV', 'TRAIN_TT', 'TRAIN_CO', 'TRAIN_HE', 'SM_TT', 'SM_CO',\n",
       "       'SM_HE', 'SM_SEATS', 'CAR_TT', 'CAR_CO', 'CHOICE'],\n",
       "      dtype='object')"
      ]
     },
     "execution_count": 11,
     "metadata": {},
     "output_type": "execute_result"
    },
    {
     "name": "stdout",
     "output_type": "stream",
     "text": [
      "time: 5.64 ms\n"
     ]
    }
   ],
   "source": [
    "df1.columns"
   ]
  },
  {
   "cell_type": "code",
   "execution_count": 12,
   "metadata": {
    "collapsed": false
   },
   "outputs": [
    {
     "data": {
      "text/plain": [
       "Index(['GROUP', 'SURVEY', 'SP', 'ID', 'PURPOSE', 'FIRST', 'TICKET', 'WHO',\n",
       "       'LUGGAGE', 'AGE', 'MALE', 'INCOME', 'GA', 'ORIGIN', 'DEST', 'TRAIN_AV',\n",
       "       'CAR_AV', 'SM_AV', 'TRAIN_TT', 'TRAIN_CO', 'TRAIN_HE', 'SM_TT', 'SM_CO',\n",
       "       'SM_HE', 'SM_SEATS', 'CAR_TT', 'CAR_CO', 'CHOICE'],\n",
       "      dtype='object')"
      ]
     },
     "execution_count": 12,
     "metadata": {},
     "output_type": "execute_result"
    },
    {
     "name": "stdout",
     "output_type": "stream",
     "text": [
      "time: 7.81 ms\n"
     ]
    }
   ],
   "source": [
    "df1.columns"
   ]
  },
  {
   "cell_type": "code",
   "execution_count": null,
   "metadata": {
    "collapsed": true
   },
   "outputs": [],
   "source": []
  },
  {
   "cell_type": "code",
   "execution_count": 13,
   "metadata": {
    "collapsed": true
   },
   "outputs": [
    {
     "data": {
      "text/html": [
       "<div>\n",
       "<table border=\"1\" class=\"dataframe\">\n",
       "  <thead>\n",
       "    <tr style=\"text-align: right;\">\n",
       "      <th></th>\n",
       "      <th>GROUP</th>\n",
       "      <th>SURVEY</th>\n",
       "      <th>SP</th>\n",
       "      <th>ID</th>\n",
       "      <th>PURPOSE</th>\n",
       "      <th>FIRST</th>\n",
       "      <th>TICKET</th>\n",
       "      <th>WHO</th>\n",
       "      <th>LUGGAGE</th>\n",
       "      <th>AGE</th>\n",
       "      <th>...</th>\n",
       "      <th>TRAIN_TT</th>\n",
       "      <th>TRAIN_CO</th>\n",
       "      <th>TRAIN_HE</th>\n",
       "      <th>SM_TT</th>\n",
       "      <th>SM_CO</th>\n",
       "      <th>SM_HE</th>\n",
       "      <th>SM_SEATS</th>\n",
       "      <th>CAR_TT</th>\n",
       "      <th>CAR_CO</th>\n",
       "      <th>CHOICE</th>\n",
       "    </tr>\n",
       "  </thead>\n",
       "  <tbody>\n",
       "    <tr>\n",
       "      <th>count</th>\n",
       "      <td>10728.000000</td>\n",
       "      <td>10728.000000</td>\n",
       "      <td>10728.0</td>\n",
       "      <td>10728.000000</td>\n",
       "      <td>10728.000000</td>\n",
       "      <td>10728.000000</td>\n",
       "      <td>10728.000000</td>\n",
       "      <td>10728.000000</td>\n",
       "      <td>10728.000000</td>\n",
       "      <td>10728.000000</td>\n",
       "      <td>...</td>\n",
       "      <td>10728.000000</td>\n",
       "      <td>10728.000000</td>\n",
       "      <td>10728.000000</td>\n",
       "      <td>10728.000000</td>\n",
       "      <td>10728.000000</td>\n",
       "      <td>10728.000000</td>\n",
       "      <td>10728.000000</td>\n",
       "      <td>10728.000000</td>\n",
       "      <td>10728.000000</td>\n",
       "      <td>10728.000000</td>\n",
       "    </tr>\n",
       "    <tr>\n",
       "      <th>mean</th>\n",
       "      <td>2.630034</td>\n",
       "      <td>0.630034</td>\n",
       "      <td>1.0</td>\n",
       "      <td>596.500000</td>\n",
       "      <td>2.914430</td>\n",
       "      <td>0.470638</td>\n",
       "      <td>2.888423</td>\n",
       "      <td>1.493289</td>\n",
       "      <td>0.678691</td>\n",
       "      <td>2.898490</td>\n",
       "      <td>...</td>\n",
       "      <td>166.626025</td>\n",
       "      <td>514.335477</td>\n",
       "      <td>70.100671</td>\n",
       "      <td>87.466350</td>\n",
       "      <td>670.340697</td>\n",
       "      <td>20.020507</td>\n",
       "      <td>0.118568</td>\n",
       "      <td>123.795209</td>\n",
       "      <td>78.742077</td>\n",
       "      <td>2.152778</td>\n",
       "    </tr>\n",
       "    <tr>\n",
       "      <th>std</th>\n",
       "      <td>0.482818</td>\n",
       "      <td>0.482818</td>\n",
       "      <td>0.0</td>\n",
       "      <td>344.116678</td>\n",
       "      <td>1.147443</td>\n",
       "      <td>0.499160</td>\n",
       "      <td>2.191100</td>\n",
       "      <td>0.708293</td>\n",
       "      <td>0.603388</td>\n",
       "      <td>1.031726</td>\n",
       "      <td>...</td>\n",
       "      <td>77.353284</td>\n",
       "      <td>1088.931881</td>\n",
       "      <td>37.431633</td>\n",
       "      <td>53.550371</td>\n",
       "      <td>1441.594614</td>\n",
       "      <td>8.161895</td>\n",
       "      <td>0.323295</td>\n",
       "      <td>88.710743</td>\n",
       "      <td>55.263663</td>\n",
       "      <td>0.632293</td>\n",
       "    </tr>\n",
       "    <tr>\n",
       "      <th>min</th>\n",
       "      <td>2.000000</td>\n",
       "      <td>0.000000</td>\n",
       "      <td>1.0</td>\n",
       "      <td>1.000000</td>\n",
       "      <td>1.000000</td>\n",
       "      <td>0.000000</td>\n",
       "      <td>1.000000</td>\n",
       "      <td>0.000000</td>\n",
       "      <td>0.000000</td>\n",
       "      <td>1.000000</td>\n",
       "      <td>...</td>\n",
       "      <td>31.000000</td>\n",
       "      <td>4.000000</td>\n",
       "      <td>30.000000</td>\n",
       "      <td>8.000000</td>\n",
       "      <td>6.000000</td>\n",
       "      <td>10.000000</td>\n",
       "      <td>0.000000</td>\n",
       "      <td>0.000000</td>\n",
       "      <td>0.000000</td>\n",
       "      <td>0.000000</td>\n",
       "    </tr>\n",
       "    <tr>\n",
       "      <th>25%</th>\n",
       "      <td>2.000000</td>\n",
       "      <td>0.000000</td>\n",
       "      <td>1.0</td>\n",
       "      <td>298.750000</td>\n",
       "      <td>2.000000</td>\n",
       "      <td>0.000000</td>\n",
       "      <td>1.000000</td>\n",
       "      <td>1.000000</td>\n",
       "      <td>0.000000</td>\n",
       "      <td>2.000000</td>\n",
       "      <td>...</td>\n",
       "      <td>109.000000</td>\n",
       "      <td>58.000000</td>\n",
       "      <td>30.000000</td>\n",
       "      <td>55.000000</td>\n",
       "      <td>70.000000</td>\n",
       "      <td>10.000000</td>\n",
       "      <td>0.000000</td>\n",
       "      <td>70.000000</td>\n",
       "      <td>40.000000</td>\n",
       "      <td>2.000000</td>\n",
       "    </tr>\n",
       "    <tr>\n",
       "      <th>50%</th>\n",
       "      <td>3.000000</td>\n",
       "      <td>1.000000</td>\n",
       "      <td>1.0</td>\n",
       "      <td>596.500000</td>\n",
       "      <td>3.000000</td>\n",
       "      <td>0.000000</td>\n",
       "      <td>3.000000</td>\n",
       "      <td>1.000000</td>\n",
       "      <td>1.000000</td>\n",
       "      <td>3.000000</td>\n",
       "      <td>...</td>\n",
       "      <td>157.000000</td>\n",
       "      <td>94.000000</td>\n",
       "      <td>60.000000</td>\n",
       "      <td>78.000000</td>\n",
       "      <td>111.000000</td>\n",
       "      <td>20.000000</td>\n",
       "      <td>0.000000</td>\n",
       "      <td>120.000000</td>\n",
       "      <td>76.000000</td>\n",
       "      <td>2.000000</td>\n",
       "    </tr>\n",
       "    <tr>\n",
       "      <th>75%</th>\n",
       "      <td>3.000000</td>\n",
       "      <td>1.000000</td>\n",
       "      <td>1.0</td>\n",
       "      <td>894.250000</td>\n",
       "      <td>3.250000</td>\n",
       "      <td>1.000000</td>\n",
       "      <td>3.000000</td>\n",
       "      <td>2.000000</td>\n",
       "      <td>1.000000</td>\n",
       "      <td>4.000000</td>\n",
       "      <td>...</td>\n",
       "      <td>209.000000</td>\n",
       "      <td>170.000000</td>\n",
       "      <td>120.000000</td>\n",
       "      <td>109.000000</td>\n",
       "      <td>209.000000</td>\n",
       "      <td>30.000000</td>\n",
       "      <td>0.000000</td>\n",
       "      <td>176.000000</td>\n",
       "      <td>112.000000</td>\n",
       "      <td>3.000000</td>\n",
       "    </tr>\n",
       "    <tr>\n",
       "      <th>max</th>\n",
       "      <td>3.000000</td>\n",
       "      <td>1.000000</td>\n",
       "      <td>1.0</td>\n",
       "      <td>1192.000000</td>\n",
       "      <td>9.000000</td>\n",
       "      <td>1.000000</td>\n",
       "      <td>10.000000</td>\n",
       "      <td>3.000000</td>\n",
       "      <td>3.000000</td>\n",
       "      <td>6.000000</td>\n",
       "      <td>...</td>\n",
       "      <td>1049.000000</td>\n",
       "      <td>5040.000000</td>\n",
       "      <td>120.000000</td>\n",
       "      <td>796.000000</td>\n",
       "      <td>6720.000000</td>\n",
       "      <td>30.000000</td>\n",
       "      <td>1.000000</td>\n",
       "      <td>1560.000000</td>\n",
       "      <td>520.000000</td>\n",
       "      <td>3.000000</td>\n",
       "    </tr>\n",
       "  </tbody>\n",
       "</table>\n",
       "<p>8 rows × 28 columns</p>\n",
       "</div>"
      ],
      "text/plain": [
       "              GROUP        SURVEY       SP            ID       PURPOSE  \\\n",
       "count  10728.000000  10728.000000  10728.0  10728.000000  10728.000000   \n",
       "mean       2.630034      0.630034      1.0    596.500000      2.914430   \n",
       "std        0.482818      0.482818      0.0    344.116678      1.147443   \n",
       "min        2.000000      0.000000      1.0      1.000000      1.000000   \n",
       "25%        2.000000      0.000000      1.0    298.750000      2.000000   \n",
       "50%        3.000000      1.000000      1.0    596.500000      3.000000   \n",
       "75%        3.000000      1.000000      1.0    894.250000      3.250000   \n",
       "max        3.000000      1.000000      1.0   1192.000000      9.000000   \n",
       "\n",
       "              FIRST        TICKET           WHO       LUGGAGE           AGE  \\\n",
       "count  10728.000000  10728.000000  10728.000000  10728.000000  10728.000000   \n",
       "mean       0.470638      2.888423      1.493289      0.678691      2.898490   \n",
       "std        0.499160      2.191100      0.708293      0.603388      1.031726   \n",
       "min        0.000000      1.000000      0.000000      0.000000      1.000000   \n",
       "25%        0.000000      1.000000      1.000000      0.000000      2.000000   \n",
       "50%        0.000000      3.000000      1.000000      1.000000      3.000000   \n",
       "75%        1.000000      3.000000      2.000000      1.000000      4.000000   \n",
       "max        1.000000     10.000000      3.000000      3.000000      6.000000   \n",
       "\n",
       "           ...           TRAIN_TT      TRAIN_CO      TRAIN_HE         SM_TT  \\\n",
       "count      ...       10728.000000  10728.000000  10728.000000  10728.000000   \n",
       "mean       ...         166.626025    514.335477     70.100671     87.466350   \n",
       "std        ...          77.353284   1088.931881     37.431633     53.550371   \n",
       "min        ...          31.000000      4.000000     30.000000      8.000000   \n",
       "25%        ...         109.000000     58.000000     30.000000     55.000000   \n",
       "50%        ...         157.000000     94.000000     60.000000     78.000000   \n",
       "75%        ...         209.000000    170.000000    120.000000    109.000000   \n",
       "max        ...        1049.000000   5040.000000    120.000000    796.000000   \n",
       "\n",
       "              SM_CO         SM_HE      SM_SEATS        CAR_TT        CAR_CO  \\\n",
       "count  10728.000000  10728.000000  10728.000000  10728.000000  10728.000000   \n",
       "mean     670.340697     20.020507      0.118568    123.795209     78.742077   \n",
       "std     1441.594614      8.161895      0.323295     88.710743     55.263663   \n",
       "min        6.000000     10.000000      0.000000      0.000000      0.000000   \n",
       "25%       70.000000     10.000000      0.000000     70.000000     40.000000   \n",
       "50%      111.000000     20.000000      0.000000    120.000000     76.000000   \n",
       "75%      209.000000     30.000000      0.000000    176.000000    112.000000   \n",
       "max     6720.000000     30.000000      1.000000   1560.000000    520.000000   \n",
       "\n",
       "             CHOICE  \n",
       "count  10728.000000  \n",
       "mean       2.152778  \n",
       "std        0.632293  \n",
       "min        0.000000  \n",
       "25%        2.000000  \n",
       "50%        2.000000  \n",
       "75%        3.000000  \n",
       "max        3.000000  \n",
       "\n",
       "[8 rows x 28 columns]"
      ]
     },
     "execution_count": 13,
     "metadata": {},
     "output_type": "execute_result"
    },
    {
     "name": "stdout",
     "output_type": "stream",
     "text": [
      "time: 137 ms\n"
     ]
    }
   ],
   "source": [
    "df1.describe()"
   ]
  },
  {
   "cell_type": "markdown",
   "metadata": {},
   "source": [
    "swissmetro dataset only 750KB"
   ]
  },
  {
   "cell_type": "code",
   "execution_count": 14,
   "metadata": {
    "collapsed": false
   },
   "outputs": [
    {
     "data": {
      "text/plain": [
       "(array([ 3969.,     0.,     0.,     0.,     0.,     0.,     0.,     0.,\n",
       "            0.,  6759.]),\n",
       " array([ 2. ,  2.1,  2.2,  2.3,  2.4,  2.5,  2.6,  2.7,  2.8,  2.9,  3. ]),\n",
       " <a list of 10 Patch objects>)"
      ]
     },
     "execution_count": 14,
     "metadata": {},
     "output_type": "execute_result"
    },
    {
     "data": {
      "image/png": "[encoded data removed]",
      "text/plain": [
       "<matplotlib.figure.Figure at 0x7f31f6b704a8>"
      ]
     },
     "metadata": {},
     "output_type": "display_data"
    },
    {
     "name": "stdout",
     "output_type": "stream",
     "text": [
      "time: 807 ms\n"
     ]
    }
   ],
   "source": [
    "plt.hist(df1['GROUP'])"
   ]
  },
  {
   "cell_type": "code",
   "execution_count": 15,
   "metadata": {
    "collapsed": false
   },
   "outputs": [
    {
     "data": {
      "text/plain": [
       "3    6759\n",
       "2    3969\n",
       "Name: GROUP, dtype: int64"
      ]
     },
     "execution_count": 15,
     "metadata": {},
     "output_type": "execute_result"
    },
    {
     "name": "stdout",
     "output_type": "stream",
     "text": [
      "time: 20 ms\n"
     ]
    }
   ],
   "source": [
    "df1['GROUP'].value_counts()"
   ]
  },
  {
   "cell_type": "code",
   "execution_count": 15,
   "metadata": {
    "collapsed": false
   },
   "outputs": [
    {
     "data": {
      "text/plain": [
       "0    3969\n",
       "Name: SURVEY, dtype: int64"
      ]
     },
     "execution_count": 15,
     "metadata": {},
     "output_type": "execute_result"
    },
    {
     "name": "stdout",
     "output_type": "stream",
     "text": [
      "time: 22.7 ms\n"
     ]
    }
   ],
   "source": [
    "df1[df1['GROUP']==2]['SURVEY'].value_counts()"
   ]
  },
  {
   "cell_type": "code",
   "execution_count": 16,
   "metadata": {
    "collapsed": false
   },
   "outputs": [
    {
     "data": {
      "text/plain": [
       "1    6759\n",
       "Name: SURVEY, dtype: int64"
      ]
     },
     "execution_count": 16,
     "metadata": {},
     "output_type": "execute_result"
    },
    {
     "name": "stdout",
     "output_type": "stream",
     "text": [
      "time: 10 ms\n"
     ]
    }
   ],
   "source": [
    "df1[df1['GROUP']==3]['SURVEY'].value_counts()"
   ]
  },
  {
   "cell_type": "markdown",
   "metadata": {},
   "source": [
    "Group is equivalent to survey"
   ]
  },
  {
   "cell_type": "code",
   "execution_count": 16,
   "metadata": {
    "collapsed": false
   },
   "outputs": [
    {
     "name": "stdout",
     "output_type": "stream",
     "text": [
      "time: 5.33 ms\n"
     ]
    }
   ],
   "source": [
    "df1.drop('GROUP', axis = 1, inplace = True)"
   ]
  },
  {
   "cell_type": "code",
   "execution_count": 17,
   "metadata": {
    "collapsed": false
   },
   "outputs": [
    {
     "name": "stdout",
     "output_type": "stream",
     "text": [
      "time: 5.9 ms\n"
     ]
    }
   ],
   "source": [
    "df1.drop('TRAIN_AV', axis =1, inplace = True)"
   ]
  },
  {
   "cell_type": "code",
   "execution_count": 18,
   "metadata": {
    "collapsed": false
   },
   "outputs": [
    {
     "data": {
      "text/plain": [
       "1    8046\n",
       "0    2682\n",
       "Name: MALE, dtype: int64"
      ]
     },
     "execution_count": 18,
     "metadata": {},
     "output_type": "execute_result"
    },
    {
     "name": "stdout",
     "output_type": "stream",
     "text": [
      "time: 11.9 ms\n"
     ]
    }
   ],
   "source": [
    "df1['MALE'].value_counts()"
   ]
  },
  {
   "cell_type": "code",
   "execution_count": 19,
   "metadata": {
    "collapsed": false
   },
   "outputs": [
    {
     "data": {
      "text/plain": [
       "1    10728\n",
       "Name: SP, dtype: int64"
      ]
     },
     "execution_count": 19,
     "metadata": {},
     "output_type": "execute_result"
    },
    {
     "name": "stdout",
     "output_type": "stream",
     "text": [
      "time: 11.1 ms\n"
     ]
    }
   ],
   "source": [
    "df1['SP'].value_counts()"
   ]
  },
  {
   "cell_type": "code",
   "execution_count": 20,
   "metadata": {
    "collapsed": false
   },
   "outputs": [
    {
     "name": "stdout",
     "output_type": "stream",
     "text": [
      "time: 5.77 ms\n"
     ]
    }
   ],
   "source": [
    "df1.drop('SP', axis =1, inplace = True)"
   ]
  },
  {
   "cell_type": "markdown",
   "metadata": {},
   "source": [
    "'FIRST' is first class traveler"
   ]
  },
  {
   "cell_type": "code",
   "execution_count": 21,
   "metadata": {
    "collapsed": false
   },
   "outputs": [
    {
     "data": {
      "text/plain": [
       "0    5679\n",
       "1    5049\n",
       "Name: FIRST, dtype: int64"
      ]
     },
     "execution_count": 21,
     "metadata": {},
     "output_type": "execute_result"
    },
    {
     "name": "stdout",
     "output_type": "stream",
     "text": [
      "time: 7.97 ms\n"
     ]
    }
   ],
   "source": [
    "df1['FIRST'].value_counts()"
   ]
  },
  {
   "cell_type": "code",
   "execution_count": 22,
   "metadata": {
    "collapsed": true
   },
   "outputs": [
    {
     "name": "stdout",
     "output_type": "stream",
     "text": [
      "SURVEY\n",
      "1    6759\n",
      "0    3969\n",
      "Name: SURVEY, dtype: int64\n",
      "ID\n",
      "1191    9\n",
      "746     9\n",
      "762     9\n",
      "770     9\n",
      "778     9\n",
      "786     9\n",
      "794     9\n",
      "802     9\n",
      "810     9\n",
      "818     9\n",
      "826     9\n",
      "834     9\n",
      "842     9\n",
      "850     9\n",
      "858     9\n",
      "866     9\n",
      "874     9\n",
      "754     9\n",
      "738     9\n",
      "594     9\n",
      "730     9\n",
      "610     9\n",
      "618     9\n",
      "626     9\n",
      "634     9\n",
      "642     9\n",
      "650     9\n",
      "658     9\n",
      "666     9\n",
      "674     9\n",
      "       ..\n",
      "493     9\n",
      "501     9\n",
      "509     9\n",
      "517     9\n",
      "525     9\n",
      "533     9\n",
      "541     9\n",
      "549     9\n",
      "557     9\n",
      "565     9\n",
      "573     9\n",
      "453     9\n",
      "445     9\n",
      "437     9\n",
      "365     9\n",
      "317     9\n",
      "325     9\n",
      "333     9\n",
      "341     9\n",
      "349     9\n",
      "357     9\n",
      "373     9\n",
      "429     9\n",
      "381     9\n",
      "389     9\n",
      "397     9\n",
      "405     9\n",
      "413     9\n",
      "421     9\n",
      "8       9\n",
      "Name: ID, dtype: int64\n",
      "PURPOSE\n",
      "3    5193\n",
      "4    2304\n",
      "1    1575\n",
      "2    1278\n",
      "7     144\n",
      "5     144\n",
      "6      63\n",
      "9      18\n",
      "8       9\n",
      "Name: PURPOSE, dtype: int64\n",
      "FIRST\n",
      "0    5679\n",
      "1    5049\n",
      "Name: FIRST, dtype: int64\n",
      "TICKET\n",
      "1     4680\n",
      "3     3402\n",
      "6     1350\n",
      "7      315\n",
      "8      297\n",
      "5      234\n",
      "2      207\n",
      "10     144\n",
      "4       99\n",
      "Name: TICKET, dtype: int64\n",
      "WHO\n",
      "1    5814\n",
      "2    3564\n",
      "3    1026\n",
      "0     324\n",
      "Name: WHO, dtype: int64\n",
      "LUGGAGE\n",
      "1    6498\n",
      "0    3969\n",
      "3     261\n",
      "Name: LUGGAGE, dtype: int64\n",
      "AGE\n",
      "3    3834\n",
      "2    3339\n",
      "4    2025\n",
      "5     810\n",
      "1     711\n",
      "6       9\n",
      "Name: AGE, dtype: int64\n",
      "MALE\n",
      "1    8046\n",
      "0    2682\n",
      "Name: MALE, dtype: int64\n",
      "INCOME\n",
      "3    4041\n",
      "2    3744\n",
      "1    1719\n",
      "4     918\n",
      "0     306\n",
      "Name: INCOME, dtype: int64\n",
      "GA\n",
      "0    9207\n",
      "1    1521\n",
      "Name: GA, dtype: int64\n",
      "ORIGIN\n",
      "2     2232\n",
      "22    2196\n",
      "25    2106\n",
      "1     2070\n",
      "17    1188\n",
      "23     153\n",
      "20     153\n",
      "19     135\n",
      "9      126\n",
      "10     117\n",
      "18      81\n",
      "15      72\n",
      "14      45\n",
      "21      18\n",
      "3        9\n",
      "12       9\n",
      "5        9\n",
      "8        9\n",
      "Name: ORIGIN, dtype: int64\n",
      "DEST\n",
      "1     2826\n",
      "2     2295\n",
      "22    1431\n",
      "25    1332\n",
      "17    1089\n",
      "10     414\n",
      "23     234\n",
      "12     198\n",
      "20     144\n",
      "18     144\n",
      "19     117\n",
      "3      117\n",
      "9       81\n",
      "15      72\n",
      "14      63\n",
      "11      54\n",
      "21      45\n",
      "13      36\n",
      "5       18\n",
      "26       9\n",
      "16       9\n",
      "Name: DEST, dtype: int64\n",
      "CAR_AV\n",
      "1    9045\n",
      "0    1683\n",
      "Name: CAR_AV, dtype: int64\n",
      "SM_AV\n",
      "1    10728\n",
      "Name: SM_AV, dtype: int64\n",
      "TRAIN_TT\n",
      "182     176\n",
      "200     168\n",
      "92      160\n",
      "106     156\n",
      "125     147\n",
      "114     143\n",
      "236     136\n",
      "150     130\n",
      "85      125\n",
      "164     124\n",
      "146     119\n",
      "103     116\n",
      "193     114\n",
      "116      99\n",
      "95       91\n",
      "120      84\n",
      "82       83\n",
      "112      82\n",
      "102      80\n",
      "61       80\n",
      "224      79\n",
      "174      79\n",
      "130      78\n",
      "54       76\n",
      "157      76\n",
      "97       75\n",
      "159      75\n",
      "89       74\n",
      "205      73\n",
      "173      71\n",
      "       ... \n",
      "304       3\n",
      "511       3\n",
      "470       3\n",
      "454       3\n",
      "310       3\n",
      "525       3\n",
      "453       3\n",
      "340       3\n",
      "412       3\n",
      "338       3\n",
      "866       3\n",
      "387       3\n",
      "379       2\n",
      "38        2\n",
      "335       2\n",
      "1022      2\n",
      "65        2\n",
      "433       2\n",
      "374       2\n",
      "60        2\n",
      "1049      2\n",
      "371       2\n",
      "378       2\n",
      "301       2\n",
      "492       2\n",
      "352       2\n",
      "626       2\n",
      "339       2\n",
      "358       1\n",
      "31        1\n",
      "Name: TRAIN_TT, dtype: int64\n",
      "TRAIN_CO\n",
      "3120    277\n",
      "2340    261\n",
      "2600    245\n",
      "72      162\n",
      "60      160\n",
      "50      160\n",
      "5040    144\n",
      "3780    141\n",
      "54      138\n",
      "4200    138\n",
      "38      133\n",
      "94      128\n",
      "74      126\n",
      "40      124\n",
      "68      120\n",
      "48      118\n",
      "83      117\n",
      "89      111\n",
      "36      110\n",
      "52      107\n",
      "76      107\n",
      "45      106\n",
      "62      104\n",
      "100      96\n",
      "22       94\n",
      "58       94\n",
      "106      93\n",
      "42       92\n",
      "64       92\n",
      "67       91\n",
      "       ... \n",
      "204       3\n",
      "172       3\n",
      "300       3\n",
      "308       3\n",
      "332       3\n",
      "319       3\n",
      "4         3\n",
      "21        3\n",
      "418       3\n",
      "415       3\n",
      "443       3\n",
      "229       3\n",
      "253       3\n",
      "1286      3\n",
      "226       2\n",
      "171       2\n",
      "251       2\n",
      "215       2\n",
      "177       2\n",
      "302       2\n",
      "254       2\n",
      "238       2\n",
      "2408      2\n",
      "480       2\n",
      "281       2\n",
      "1800      2\n",
      "1715      2\n",
      "5         2\n",
      "420       2\n",
      "256       2\n",
      "Name: TRAIN_CO, dtype: int64\n",
      "TRAIN_HE\n",
      "120    3588\n",
      "60     3576\n",
      "30     3564\n",
      "Name: TRAIN_HE, dtype: int64\n",
      "SM_TT\n",
      "63     244\n",
      "81     235\n",
      "34     212\n",
      "71     205\n",
      "55     198\n",
      "41     165\n",
      "44     158\n",
      "49     152\n",
      "64     149\n",
      "37     147\n",
      "56     140\n",
      "59     139\n",
      "95     133\n",
      "61     133\n",
      "77     124\n",
      "66     123\n",
      "74     122\n",
      "80     122\n",
      "92     122\n",
      "50     120\n",
      "38     116\n",
      "69     113\n",
      "31     111\n",
      "88     105\n",
      "85     105\n",
      "53     105\n",
      "93     101\n",
      "84     101\n",
      "89      97\n",
      "109     97\n",
      "      ... \n",
      "16       3\n",
      "292      3\n",
      "284      3\n",
      "260      3\n",
      "220      3\n",
      "202      3\n",
      "319      3\n",
      "214      3\n",
      "280      3\n",
      "288      3\n",
      "279      3\n",
      "227      3\n",
      "282      3\n",
      "274      3\n",
      "14       3\n",
      "742      2\n",
      "750      2\n",
      "790      2\n",
      "215      2\n",
      "209      2\n",
      "396      2\n",
      "388      2\n",
      "228      2\n",
      "283      2\n",
      "275      2\n",
      "785      2\n",
      "277      1\n",
      "355      1\n",
      "235      1\n",
      "244      1\n",
      "Name: SM_TT, dtype: int64\n",
      "SM_CO\n",
      "4160    267\n",
      "3380    266\n",
      "3120    250\n",
      "84      185\n",
      "99      181\n",
      "105     164\n",
      "90      149\n",
      "118     146\n",
      "5460    143\n",
      "78      141\n",
      "6720    140\n",
      "5040    140\n",
      "133     140\n",
      "112     140\n",
      "109     130\n",
      "122     129\n",
      "62      125\n",
      "76      119\n",
      "97      114\n",
      "53      113\n",
      "108     109\n",
      "65      108\n",
      "80      108\n",
      "50      106\n",
      "225     106\n",
      "74      105\n",
      "42      102\n",
      "88      102\n",
      "46      100\n",
      "245     100\n",
      "       ... \n",
      "278       2\n",
      "283       2\n",
      "180       2\n",
      "2609      2\n",
      "220       2\n",
      "307       2\n",
      "13        2\n",
      "346       2\n",
      "1858      2\n",
      "402       2\n",
      "576       2\n",
      "233       2\n",
      "211       1\n",
      "79        1\n",
      "163       1\n",
      "67        1\n",
      "411       1\n",
      "386       1\n",
      "193       1\n",
      "55        1\n",
      "742       1\n",
      "590       1\n",
      "85        1\n",
      "216       1\n",
      "224       1\n",
      "326       1\n",
      "277       1\n",
      "238       1\n",
      "664       1\n",
      "261       1\n",
      "Name: SM_CO, dtype: int64\n",
      "SM_HE\n",
      "30    3584\n",
      "20    3582\n",
      "10    3562\n",
      "Name: SM_HE, dtype: int64\n",
      "SM_SEATS\n",
      "0    9456\n",
      "1    1272\n",
      "Name: SM_SEATS, dtype: int64\n",
      "CAR_TT\n",
      "0       1683\n",
      "120      313\n",
      "72       299\n",
      "80       289\n",
      "130      287\n",
      "170      276\n",
      "117      276\n",
      "221      267\n",
      "136      261\n",
      "90       253\n",
      "160      240\n",
      "110      229\n",
      "143      225\n",
      "88       224\n",
      "100      196\n",
      "104      193\n",
      "96       169\n",
      "140      167\n",
      "182      165\n",
      "112      163\n",
      "156      162\n",
      "208      161\n",
      "195      156\n",
      "200      155\n",
      "150      154\n",
      "56       151\n",
      "210      148\n",
      "91       147\n",
      "273      144\n",
      "60       143\n",
      "        ... \n",
      "280       15\n",
      "290       14\n",
      "75        12\n",
      "108        8\n",
      "320        6\n",
      "175        6\n",
      "416        6\n",
      "256        6\n",
      "300        4\n",
      "330        4\n",
      "1200       4\n",
      "135        4\n",
      "45         4\n",
      "84         4\n",
      "68         4\n",
      "58         3\n",
      "390        3\n",
      "310        3\n",
      "165        3\n",
      "214        3\n",
      "132        3\n",
      "403        3\n",
      "429        3\n",
      "248        3\n",
      "1560       3\n",
      "264        2\n",
      "36         2\n",
      "105        2\n",
      "85         2\n",
      "960        2\n",
      "Name: CAR_TT, dtype: int64\n",
      "CAR_CO\n",
      "0      1683\n",
      "65      305\n",
      "84      304\n",
      "80      295\n",
      "60      283\n",
      "52      283\n",
      "40      275\n",
      "104     257\n",
      "100     221\n",
      "110     220\n",
      "130     214\n",
      "78      188\n",
      "48      186\n",
      "32      175\n",
      "136     171\n",
      "64      165\n",
      "123     156\n",
      "50      151\n",
      "76      147\n",
      "120     144\n",
      "105     141\n",
      "95      138\n",
      "45      134\n",
      "70      130\n",
      "56      123\n",
      "71      120\n",
      "44      117\n",
      "143     117\n",
      "91      116\n",
      "55      114\n",
      "       ... \n",
      "190       7\n",
      "13        7\n",
      "8         6\n",
      "152       6\n",
      "176       6\n",
      "279       6\n",
      "67        6\n",
      "164       6\n",
      "215       6\n",
      "185       6\n",
      "205       6\n",
      "266       6\n",
      "172       6\n",
      "247       5\n",
      "400       4\n",
      "220       4\n",
      "312       4\n",
      "86        3\n",
      "22        3\n",
      "53        3\n",
      "192       3\n",
      "210       3\n",
      "66        3\n",
      "273       3\n",
      "320       3\n",
      "168       3\n",
      "27        2\n",
      "520       2\n",
      "31        2\n",
      "187       2\n",
      "Name: CAR_CO, dtype: int64\n",
      "CHOICE\n",
      "2    6216\n",
      "3    3080\n",
      "1    1423\n",
      "0       9\n",
      "Name: CHOICE, dtype: int64\n",
      "time: 107 ms\n"
     ]
    }
   ],
   "source": [
    "for c in df1.columns:\n",
    "    print(c)\n",
    "    print(df1[c].value_counts())"
   ]
  },
  {
   "cell_type": "code",
   "execution_count": 23,
   "metadata": {
    "collapsed": false
   },
   "outputs": [
    {
     "name": "stdout",
     "output_type": "stream",
     "text": [
      "time: 5.31 ms\n"
     ]
    }
   ],
   "source": [
    "#df1.drop('TRAIN_AV', axis =1, inplace = True)\n",
    "df1.drop('SM_AV', axis =1, inplace = True)"
   ]
  },
  {
   "cell_type": "raw",
   "metadata": {},
   "source": [
    "Purpose: 1 Commuter, 2 Shopping, 3 Business, 4 Leisure, 5 Return from work, 6 feturn from shopping, 7 return from business, 8 return from leisure, 9 other;;;;\n",
    "may be OHE-worthy\n",
    "FIRST - first class\n",
    "Ticket - Travel Ticket 0 None, 1 Two way half price, 2 one way half price, 3 two way normal , 4 one way normal price, 5 half day, 6 annual season ticket, 7 annual reduced fare, 8 after 7 pm, 9 group ticket, 10 other\n",
    "Who pays - 0 unknown (how broken out over train survey/car plates .. home survey) 1 self, 2 employer 3 half-half\n",
    "luggage - 0 none, 1 one piece , 3 several\n",
    "Age - ordinal age scheme, no OHE, except for 6 not known\n",
    "Male, simple bool\n",
    "Income - ordinal encoding ( + 4 unknown)\n",
    "GA - has a general abonnement ~ general ticket\n",
    "ORIGIN - numeric encoding of origin, probably wants an OHE w/ cutoff\n",
    "as does DEST\n",
    "\n",
    "Drop Train_AV\n",
    "CAR_AV  - car availability boolean\n",
    "drop SM_AV\n",
    "Train travel time in minutes - keep as numeric, seems useful, but value itself is funny\n",
    "Train Co - train cost, keep as numeric\n",
    "Train HE - train headway - time between trains, keep as numeric\n",
    "SM_tt - proposed train travel time\n",
    "SM_CO - proposed SM cost ----> make secondary features for proposed v current\n",
    "SM_HE - proposed time between trains -->  secondary features\n",
    "SM_seats - probably not useful, configuration for seats on proposed\n",
    "Car TT travel time, Car CO cost (may have been estimated by survey)\n",
    "\n",
    "Choice - 0 unknown - 1 Train - 2 SM - 3 Car --- Multioutput!\n",
    "\n"
   ]
  },
  {
   "cell_type": "markdown",
   "metadata": {},
   "source": [
    "For multioutput - could do probability allocation ... and take the greatest of the set, or could do proper one-versus-all prediction.  Should look back at previous prediction system?"
   ]
  },
  {
   "cell_type": "code",
   "execution_count": 24,
   "metadata": {
    "collapsed": false
   },
   "outputs": [
    {
     "data": {
      "text/plain": [
       "Index(['SURVEY', 'ID', 'PURPOSE', 'FIRST', 'TICKET', 'WHO', 'LUGGAGE', 'AGE',\n",
       "       'MALE', 'INCOME', 'GA', 'ORIGIN', 'DEST', 'CAR_AV', 'TRAIN_TT',\n",
       "       'TRAIN_CO', 'TRAIN_HE', 'SM_TT', 'SM_CO', 'SM_HE', 'SM_SEATS', 'CAR_TT',\n",
       "       'CAR_CO', 'CHOICE'],\n",
       "      dtype='object')"
      ]
     },
     "execution_count": 24,
     "metadata": {},
     "output_type": "execute_result"
    },
    {
     "name": "stdout",
     "output_type": "stream",
     "text": [
      "time: 5.51 ms\n"
     ]
    }
   ],
   "source": [
    "df1.columns"
   ]
  },
  {
   "cell_type": "code",
   "execution_count": 25,
   "metadata": {
    "collapsed": false
   },
   "outputs": [
    {
     "data": {
      "text/plain": [
       "0    3510\n",
       "1    3249\n",
       "Name: LUGGAGE, dtype: int64"
      ]
     },
     "execution_count": 25,
     "metadata": {},
     "output_type": "execute_result"
    },
    {
     "name": "stdout",
     "output_type": "stream",
     "text": [
      "time: 19.5 ms\n"
     ]
    }
   ],
   "source": [
    "df1[df1['SURVEY']==1]['LUGGAGE'].value_counts()"
   ]
  },
  {
   "cell_type": "code",
   "execution_count": 26,
   "metadata": {
    "collapsed": false
   },
   "outputs": [
    {
     "data": {
      "text/plain": [
       "1    3249\n",
       "0     459\n",
       "3     261\n",
       "Name: LUGGAGE, dtype: int64"
      ]
     },
     "execution_count": 26,
     "metadata": {},
     "output_type": "execute_result"
    },
    {
     "name": "stdout",
     "output_type": "stream",
     "text": [
      "time: 9.71 ms\n"
     ]
    }
   ],
   "source": [
    "df1[df1['SURVEY']==0]['LUGGAGE'].value_counts()"
   ]
  },
  {
   "cell_type": "markdown",
   "metadata": {},
   "source": [
    "Can have several pieces of luggage on the train, not so in car"
   ]
  },
  {
   "cell_type": "code",
   "execution_count": 27,
   "metadata": {
    "collapsed": false
   },
   "outputs": [
    {
     "data": {
      "text/plain": [
       "2    6216\n",
       "3    3080\n",
       "1    1423\n",
       "0       9\n",
       "Name: CHOICE, dtype: int64"
      ]
     },
     "execution_count": 27,
     "metadata": {},
     "output_type": "execute_result"
    },
    {
     "name": "stdout",
     "output_type": "stream",
     "text": [
      "time: 8.18 ms\n"
     ]
    }
   ],
   "source": [
    "df1['CHOICE'].value_counts()"
   ]
  },
  {
   "cell_type": "markdown",
   "metadata": {},
   "source": [
    "Maybe drop those nine"
   ]
  },
  {
   "cell_type": "markdown",
   "metadata": {},
   "source": [
    "Need to remember to split by session.  And use the same split they did?"
   ]
  },
  {
   "cell_type": "code",
   "execution_count": 28,
   "metadata": {
    "collapsed": false
   },
   "outputs": [
    {
     "data": {
      "text/html": [
       "<div>\n",
       "<table border=\"1\" class=\"dataframe\">\n",
       "  <thead>\n",
       "    <tr style=\"text-align: right;\">\n",
       "      <th></th>\n",
       "      <th>SURVEY</th>\n",
       "      <th>ID</th>\n",
       "      <th>PURPOSE</th>\n",
       "      <th>FIRST</th>\n",
       "      <th>TICKET</th>\n",
       "      <th>WHO</th>\n",
       "      <th>LUGGAGE</th>\n",
       "      <th>AGE</th>\n",
       "      <th>MALE</th>\n",
       "      <th>INCOME</th>\n",
       "      <th>...</th>\n",
       "      <th>TRAIN_TT</th>\n",
       "      <th>TRAIN_CO</th>\n",
       "      <th>TRAIN_HE</th>\n",
       "      <th>SM_TT</th>\n",
       "      <th>SM_CO</th>\n",
       "      <th>SM_HE</th>\n",
       "      <th>SM_SEATS</th>\n",
       "      <th>CAR_TT</th>\n",
       "      <th>CAR_CO</th>\n",
       "      <th>CHOICE</th>\n",
       "    </tr>\n",
       "  </thead>\n",
       "  <tbody>\n",
       "    <tr>\n",
       "      <th>0</th>\n",
       "      <td>0</td>\n",
       "      <td>1</td>\n",
       "      <td>1</td>\n",
       "      <td>0</td>\n",
       "      <td>1</td>\n",
       "      <td>1</td>\n",
       "      <td>0</td>\n",
       "      <td>3</td>\n",
       "      <td>0</td>\n",
       "      <td>2</td>\n",
       "      <td>...</td>\n",
       "      <td>112</td>\n",
       "      <td>48</td>\n",
       "      <td>120</td>\n",
       "      <td>63</td>\n",
       "      <td>52</td>\n",
       "      <td>20</td>\n",
       "      <td>0</td>\n",
       "      <td>117</td>\n",
       "      <td>65</td>\n",
       "      <td>2</td>\n",
       "    </tr>\n",
       "    <tr>\n",
       "      <th>1</th>\n",
       "      <td>0</td>\n",
       "      <td>1</td>\n",
       "      <td>1</td>\n",
       "      <td>0</td>\n",
       "      <td>1</td>\n",
       "      <td>1</td>\n",
       "      <td>0</td>\n",
       "      <td>3</td>\n",
       "      <td>0</td>\n",
       "      <td>2</td>\n",
       "      <td>...</td>\n",
       "      <td>103</td>\n",
       "      <td>48</td>\n",
       "      <td>30</td>\n",
       "      <td>60</td>\n",
       "      <td>49</td>\n",
       "      <td>10</td>\n",
       "      <td>0</td>\n",
       "      <td>117</td>\n",
       "      <td>84</td>\n",
       "      <td>2</td>\n",
       "    </tr>\n",
       "    <tr>\n",
       "      <th>2</th>\n",
       "      <td>0</td>\n",
       "      <td>1</td>\n",
       "      <td>1</td>\n",
       "      <td>0</td>\n",
       "      <td>1</td>\n",
       "      <td>1</td>\n",
       "      <td>0</td>\n",
       "      <td>3</td>\n",
       "      <td>0</td>\n",
       "      <td>2</td>\n",
       "      <td>...</td>\n",
       "      <td>130</td>\n",
       "      <td>48</td>\n",
       "      <td>60</td>\n",
       "      <td>67</td>\n",
       "      <td>58</td>\n",
       "      <td>30</td>\n",
       "      <td>0</td>\n",
       "      <td>117</td>\n",
       "      <td>52</td>\n",
       "      <td>2</td>\n",
       "    </tr>\n",
       "    <tr>\n",
       "      <th>3</th>\n",
       "      <td>0</td>\n",
       "      <td>1</td>\n",
       "      <td>1</td>\n",
       "      <td>0</td>\n",
       "      <td>1</td>\n",
       "      <td>1</td>\n",
       "      <td>0</td>\n",
       "      <td>3</td>\n",
       "      <td>0</td>\n",
       "      <td>2</td>\n",
       "      <td>...</td>\n",
       "      <td>103</td>\n",
       "      <td>40</td>\n",
       "      <td>30</td>\n",
       "      <td>63</td>\n",
       "      <td>52</td>\n",
       "      <td>20</td>\n",
       "      <td>0</td>\n",
       "      <td>72</td>\n",
       "      <td>52</td>\n",
       "      <td>2</td>\n",
       "    </tr>\n",
       "    <tr>\n",
       "      <th>4</th>\n",
       "      <td>0</td>\n",
       "      <td>1</td>\n",
       "      <td>1</td>\n",
       "      <td>0</td>\n",
       "      <td>1</td>\n",
       "      <td>1</td>\n",
       "      <td>0</td>\n",
       "      <td>3</td>\n",
       "      <td>0</td>\n",
       "      <td>2</td>\n",
       "      <td>...</td>\n",
       "      <td>130</td>\n",
       "      <td>36</td>\n",
       "      <td>60</td>\n",
       "      <td>63</td>\n",
       "      <td>42</td>\n",
       "      <td>20</td>\n",
       "      <td>0</td>\n",
       "      <td>90</td>\n",
       "      <td>84</td>\n",
       "      <td>2</td>\n",
       "    </tr>\n",
       "    <tr>\n",
       "      <th>5</th>\n",
       "      <td>0</td>\n",
       "      <td>1</td>\n",
       "      <td>1</td>\n",
       "      <td>0</td>\n",
       "      <td>1</td>\n",
       "      <td>1</td>\n",
       "      <td>0</td>\n",
       "      <td>3</td>\n",
       "      <td>0</td>\n",
       "      <td>2</td>\n",
       "      <td>...</td>\n",
       "      <td>112</td>\n",
       "      <td>36</td>\n",
       "      <td>120</td>\n",
       "      <td>60</td>\n",
       "      <td>49</td>\n",
       "      <td>10</td>\n",
       "      <td>0</td>\n",
       "      <td>90</td>\n",
       "      <td>52</td>\n",
       "      <td>2</td>\n",
       "    </tr>\n",
       "    <tr>\n",
       "      <th>6</th>\n",
       "      <td>0</td>\n",
       "      <td>1</td>\n",
       "      <td>1</td>\n",
       "      <td>0</td>\n",
       "      <td>1</td>\n",
       "      <td>1</td>\n",
       "      <td>0</td>\n",
       "      <td>3</td>\n",
       "      <td>0</td>\n",
       "      <td>2</td>\n",
       "      <td>...</td>\n",
       "      <td>103</td>\n",
       "      <td>48</td>\n",
       "      <td>120</td>\n",
       "      <td>67</td>\n",
       "      <td>58</td>\n",
       "      <td>10</td>\n",
       "      <td>0</td>\n",
       "      <td>72</td>\n",
       "      <td>65</td>\n",
       "      <td>2</td>\n",
       "    </tr>\n",
       "    <tr>\n",
       "      <th>7</th>\n",
       "      <td>0</td>\n",
       "      <td>1</td>\n",
       "      <td>1</td>\n",
       "      <td>0</td>\n",
       "      <td>1</td>\n",
       "      <td>1</td>\n",
       "      <td>0</td>\n",
       "      <td>3</td>\n",
       "      <td>0</td>\n",
       "      <td>2</td>\n",
       "      <td>...</td>\n",
       "      <td>103</td>\n",
       "      <td>36</td>\n",
       "      <td>30</td>\n",
       "      <td>67</td>\n",
       "      <td>43</td>\n",
       "      <td>30</td>\n",
       "      <td>0</td>\n",
       "      <td>90</td>\n",
       "      <td>65</td>\n",
       "      <td>1</td>\n",
       "    </tr>\n",
       "  </tbody>\n",
       "</table>\n",
       "<p>8 rows × 24 columns</p>\n",
       "</div>"
      ],
      "text/plain": [
       "   SURVEY  ID  PURPOSE  FIRST  TICKET  WHO  LUGGAGE  AGE  MALE  INCOME  \\\n",
       "0       0   1        1      0       1    1        0    3     0       2   \n",
       "1       0   1        1      0       1    1        0    3     0       2   \n",
       "2       0   1        1      0       1    1        0    3     0       2   \n",
       "3       0   1        1      0       1    1        0    3     0       2   \n",
       "4       0   1        1      0       1    1        0    3     0       2   \n",
       "5       0   1        1      0       1    1        0    3     0       2   \n",
       "6       0   1        1      0       1    1        0    3     0       2   \n",
       "7       0   1        1      0       1    1        0    3     0       2   \n",
       "\n",
       "    ...    TRAIN_TT  TRAIN_CO  TRAIN_HE  SM_TT  SM_CO  SM_HE  SM_SEATS  \\\n",
       "0   ...         112        48       120     63     52     20         0   \n",
       "1   ...         103        48        30     60     49     10         0   \n",
       "2   ...         130        48        60     67     58     30         0   \n",
       "3   ...         103        40        30     63     52     20         0   \n",
       "4   ...         130        36        60     63     42     20         0   \n",
       "5   ...         112        36       120     60     49     10         0   \n",
       "6   ...         103        48       120     67     58     10         0   \n",
       "7   ...         103        36        30     67     43     30         0   \n",
       "\n",
       "   CAR_TT  CAR_CO  CHOICE  \n",
       "0     117      65       2  \n",
       "1     117      84       2  \n",
       "2     117      52       2  \n",
       "3      72      52       2  \n",
       "4      90      84       2  \n",
       "5      90      52       2  \n",
       "6      72      65       2  \n",
       "7      90      65       1  \n",
       "\n",
       "[8 rows x 24 columns]"
      ]
     },
     "execution_count": 28,
     "metadata": {},
     "output_type": "execute_result"
    },
    {
     "name": "stdout",
     "output_type": "stream",
     "text": [
      "time: 43.1 ms\n"
     ]
    }
   ],
   "source": [
    "df1.loc[:7,:]"
   ]
  },
  {
   "cell_type": "markdown",
   "metadata": {},
   "source": [
    "Choice - 0 unknown - 1 Train - 2 SM - 3 Car"
   ]
  },
  {
   "cell_type": "markdown",
   "metadata": {},
   "source": [
    "Nice to know that the unknowns in choice are so few"
   ]
  },
  {
   "cell_type": "code",
   "execution_count": 43,
   "metadata": {
    "collapsed": false
   },
   "outputs": [
    {
     "data": {
      "text/plain": [
       "2    1039\n",
       "1     644\n",
       "Name: CHOICE, dtype: int64"
      ]
     },
     "execution_count": 43,
     "metadata": {},
     "output_type": "execute_result"
    },
    {
     "name": "stdout",
     "output_type": "stream",
     "text": [
      "time: 17 ms\n"
     ]
    }
   ],
   "source": [
    "df1[df1['CAR_AV']==0]['CHOICE'].value_counts()"
   ]
  },
  {
   "cell_type": "markdown",
   "metadata": {},
   "source": [
    "Good to know that it excludes car"
   ]
  },
  {
   "cell_type": "code",
   "execution_count": 29,
   "metadata": {
    "collapsed": false
   },
   "outputs": [
    {
     "data": {
      "text/plain": [
       "2    5177\n",
       "3    3080\n",
       "1     779\n",
       "0       9\n",
       "Name: CHOICE, dtype: int64"
      ]
     },
     "execution_count": 29,
     "metadata": {},
     "output_type": "execute_result"
    },
    {
     "name": "stdout",
     "output_type": "stream",
     "text": [
      "time: 15.3 ms\n"
     ]
    }
   ],
   "source": [
    "df1[df1['CAR_AV']==1]['CHOICE'].value_counts()"
   ]
  },
  {
   "cell_type": "markdown",
   "metadata": {},
   "source": [
    "Can we do a scattermatrix with this data?"
   ]
  },
  {
   "cell_type": "code",
   "execution_count": 30,
   "metadata": {
    "collapsed": false
   },
   "outputs": [
    {
     "data": {
      "text/plain": [
       "Index(['SURVEY', 'ID', 'PURPOSE', 'FIRST', 'TICKET', 'WHO', 'LUGGAGE', 'AGE',\n",
       "       'MALE', 'INCOME', 'GA', 'ORIGIN', 'DEST', 'CAR_AV', 'TRAIN_TT',\n",
       "       'TRAIN_CO', 'TRAIN_HE', 'SM_TT', 'SM_CO', 'SM_HE', 'SM_SEATS', 'CAR_TT',\n",
       "       'CAR_CO', 'CHOICE'],\n",
       "      dtype='object')"
      ]
     },
     "execution_count": 30,
     "metadata": {},
     "output_type": "execute_result"
    },
    {
     "name": "stdout",
     "output_type": "stream",
     "text": [
      "time: 6.14 ms\n"
     ]
    }
   ],
   "source": [
    "df1.columns"
   ]
  },
  {
   "cell_type": "code",
   "execution_count": 31,
   "metadata": {
    "collapsed": false
   },
   "outputs": [
    {
     "name": "stdout",
     "output_type": "stream",
     "text": [
      "time: 2.16 ms\n"
     ]
    }
   ],
   "source": [
    "sc_feats = ['SURVEY', 'AGE','INCOME','TRAIN_TT','SM_TT','CAR_TT','CHOICE']"
   ]
  },
  {
   "cell_type": "code",
   "execution_count": 32,
   "metadata": {
    "collapsed": false
   },
   "outputs": [
    {
     "data": {
      "text/plain": [
       "<seaborn.axisgrid.PairGrid at 0x7f31f44a2f98>"
      ]
     },
     "execution_count": 32,
     "metadata": {},
     "output_type": "execute_result"
    },
    {
     "data": {
      "image/png": "[encoded data removed]",
      "text/plain": [
       "<matplotlib.figure.Figure at 0x7f31f44a26a0>"
      ]
     },
     "metadata": {},
     "output_type": "display_data"
    },
    {
     "name": "stdout",
     "output_type": "stream",
     "text": [
      "time: 14.5 s\n"
     ]
    }
   ],
   "source": [
    "sns.pairplot(df1[sc_feats], hue = 'CHOICE')"
   ]
  },
  {
   "cell_type": "markdown",
   "metadata": {},
   "source": [
    "Not terribly useful, need to pick better features"
   ]
  },
  {
   "cell_type": "markdown",
   "metadata": {},
   "source": [
    "The formulation of this problem is different becaue it isn't choice/no choice among a set of alternatives.  Instead, individuals are given a set of alternatives with different parameter values for each alternative, and pick one among the given.  \n",
    "\n",
    "Could be a serious snooping problem in the RBM paper if the ID is included, but I think it is not.  THe RMB training and testing scheme is very different from what I would have picked.\n",
    "\n",
    "Need to consult to know what the proper comparison should be."
   ]
  },
  {
   "cell_type": "code",
   "execution_count": 33,
   "metadata": {
    "collapsed": false
   },
   "outputs": [
    {
     "data": {
      "text/plain": [
       "10728"
      ]
     },
     "execution_count": 33,
     "metadata": {},
     "output_type": "execute_result"
    },
    {
     "name": "stdout",
     "output_type": "stream",
     "text": [
      "time: 4 ms\n"
     ]
    }
   ],
   "source": [
    "len(df1)"
   ]
  },
  {
   "cell_type": "code",
   "execution_count": 34,
   "metadata": {
    "collapsed": false
   },
   "outputs": [
    {
     "data": {
      "text/plain": [
       "24"
      ]
     },
     "execution_count": 34,
     "metadata": {},
     "output_type": "execute_result"
    },
    {
     "name": "stdout",
     "output_type": "stream",
     "text": [
      "time: 6.2 ms\n"
     ]
    }
   ],
   "source": [
    "len(df1.columns)"
   ]
  },
  {
   "cell_type": "code",
   "execution_count": 35,
   "metadata": {
    "collapsed": false
   },
   "outputs": [
    {
     "data": {
      "text/html": [
       "<div>\n",
       "<table border=\"1\" class=\"dataframe\">\n",
       "  <thead>\n",
       "    <tr style=\"text-align: right;\">\n",
       "      <th></th>\n",
       "      <th>SURVEY</th>\n",
       "      <th>ID</th>\n",
       "      <th>PURPOSE</th>\n",
       "      <th>FIRST</th>\n",
       "      <th>TICKET</th>\n",
       "      <th>WHO</th>\n",
       "      <th>LUGGAGE</th>\n",
       "      <th>AGE</th>\n",
       "      <th>MALE</th>\n",
       "      <th>INCOME</th>\n",
       "      <th>...</th>\n",
       "      <th>TRAIN_TT</th>\n",
       "      <th>TRAIN_CO</th>\n",
       "      <th>TRAIN_HE</th>\n",
       "      <th>SM_TT</th>\n",
       "      <th>SM_CO</th>\n",
       "      <th>SM_HE</th>\n",
       "      <th>SM_SEATS</th>\n",
       "      <th>CAR_TT</th>\n",
       "      <th>CAR_CO</th>\n",
       "      <th>CHOICE</th>\n",
       "    </tr>\n",
       "  </thead>\n",
       "  <tbody>\n",
       "    <tr>\n",
       "      <th>7000</th>\n",
       "      <td>1</td>\n",
       "      <td>778</td>\n",
       "      <td>3</td>\n",
       "      <td>1</td>\n",
       "      <td>1</td>\n",
       "      <td>2</td>\n",
       "      <td>1</td>\n",
       "      <td>4</td>\n",
       "      <td>1</td>\n",
       "      <td>2</td>\n",
       "      <td>...</td>\n",
       "      <td>181</td>\n",
       "      <td>92</td>\n",
       "      <td>120</td>\n",
       "      <td>81</td>\n",
       "      <td>109</td>\n",
       "      <td>20</td>\n",
       "      <td>0</td>\n",
       "      <td>170</td>\n",
       "      <td>149</td>\n",
       "      <td>2</td>\n",
       "    </tr>\n",
       "    <tr>\n",
       "      <th>7001</th>\n",
       "      <td>1</td>\n",
       "      <td>778</td>\n",
       "      <td>3</td>\n",
       "      <td>1</td>\n",
       "      <td>1</td>\n",
       "      <td>2</td>\n",
       "      <td>1</td>\n",
       "      <td>4</td>\n",
       "      <td>1</td>\n",
       "      <td>2</td>\n",
       "      <td>...</td>\n",
       "      <td>200</td>\n",
       "      <td>110</td>\n",
       "      <td>30</td>\n",
       "      <td>95</td>\n",
       "      <td>146</td>\n",
       "      <td>20</td>\n",
       "      <td>0</td>\n",
       "      <td>170</td>\n",
       "      <td>149</td>\n",
       "      <td>2</td>\n",
       "    </tr>\n",
       "    <tr>\n",
       "      <th>7002</th>\n",
       "      <td>1</td>\n",
       "      <td>779</td>\n",
       "      <td>3</td>\n",
       "      <td>1</td>\n",
       "      <td>1</td>\n",
       "      <td>2</td>\n",
       "      <td>1</td>\n",
       "      <td>4</td>\n",
       "      <td>1</td>\n",
       "      <td>2</td>\n",
       "      <td>...</td>\n",
       "      <td>218</td>\n",
       "      <td>84</td>\n",
       "      <td>30</td>\n",
       "      <td>78</td>\n",
       "      <td>97</td>\n",
       "      <td>10</td>\n",
       "      <td>0</td>\n",
       "      <td>180</td>\n",
       "      <td>80</td>\n",
       "      <td>3</td>\n",
       "    </tr>\n",
       "    <tr>\n",
       "      <th>7003</th>\n",
       "      <td>1</td>\n",
       "      <td>779</td>\n",
       "      <td>3</td>\n",
       "      <td>1</td>\n",
       "      <td>1</td>\n",
       "      <td>2</td>\n",
       "      <td>1</td>\n",
       "      <td>4</td>\n",
       "      <td>1</td>\n",
       "      <td>2</td>\n",
       "      <td>...</td>\n",
       "      <td>218</td>\n",
       "      <td>84</td>\n",
       "      <td>120</td>\n",
       "      <td>70</td>\n",
       "      <td>118</td>\n",
       "      <td>10</td>\n",
       "      <td>0</td>\n",
       "      <td>234</td>\n",
       "      <td>130</td>\n",
       "      <td>3</td>\n",
       "    </tr>\n",
       "    <tr>\n",
       "      <th>7004</th>\n",
       "      <td>1</td>\n",
       "      <td>779</td>\n",
       "      <td>3</td>\n",
       "      <td>1</td>\n",
       "      <td>1</td>\n",
       "      <td>2</td>\n",
       "      <td>1</td>\n",
       "      <td>4</td>\n",
       "      <td>1</td>\n",
       "      <td>2</td>\n",
       "      <td>...</td>\n",
       "      <td>218</td>\n",
       "      <td>76</td>\n",
       "      <td>30</td>\n",
       "      <td>64</td>\n",
       "      <td>109</td>\n",
       "      <td>20</td>\n",
       "      <td>0</td>\n",
       "      <td>234</td>\n",
       "      <td>100</td>\n",
       "      <td>3</td>\n",
       "    </tr>\n",
       "    <tr>\n",
       "      <th>7005</th>\n",
       "      <td>1</td>\n",
       "      <td>779</td>\n",
       "      <td>3</td>\n",
       "      <td>1</td>\n",
       "      <td>1</td>\n",
       "      <td>2</td>\n",
       "      <td>1</td>\n",
       "      <td>4</td>\n",
       "      <td>1</td>\n",
       "      <td>2</td>\n",
       "      <td>...</td>\n",
       "      <td>166</td>\n",
       "      <td>76</td>\n",
       "      <td>60</td>\n",
       "      <td>64</td>\n",
       "      <td>109</td>\n",
       "      <td>30</td>\n",
       "      <td>0</td>\n",
       "      <td>144</td>\n",
       "      <td>130</td>\n",
       "      <td>3</td>\n",
       "    </tr>\n",
       "    <tr>\n",
       "      <th>7006</th>\n",
       "      <td>1</td>\n",
       "      <td>779</td>\n",
       "      <td>3</td>\n",
       "      <td>1</td>\n",
       "      <td>1</td>\n",
       "      <td>2</td>\n",
       "      <td>1</td>\n",
       "      <td>4</td>\n",
       "      <td>1</td>\n",
       "      <td>2</td>\n",
       "      <td>...</td>\n",
       "      <td>183</td>\n",
       "      <td>84</td>\n",
       "      <td>30</td>\n",
       "      <td>64</td>\n",
       "      <td>105</td>\n",
       "      <td>30</td>\n",
       "      <td>0</td>\n",
       "      <td>234</td>\n",
       "      <td>80</td>\n",
       "      <td>3</td>\n",
       "    </tr>\n",
       "    <tr>\n",
       "      <th>7007</th>\n",
       "      <td>1</td>\n",
       "      <td>779</td>\n",
       "      <td>3</td>\n",
       "      <td>1</td>\n",
       "      <td>1</td>\n",
       "      <td>2</td>\n",
       "      <td>1</td>\n",
       "      <td>4</td>\n",
       "      <td>1</td>\n",
       "      <td>2</td>\n",
       "      <td>...</td>\n",
       "      <td>183</td>\n",
       "      <td>76</td>\n",
       "      <td>30</td>\n",
       "      <td>70</td>\n",
       "      <td>90</td>\n",
       "      <td>10</td>\n",
       "      <td>0</td>\n",
       "      <td>144</td>\n",
       "      <td>100</td>\n",
       "      <td>3</td>\n",
       "    </tr>\n",
       "    <tr>\n",
       "      <th>7008</th>\n",
       "      <td>1</td>\n",
       "      <td>779</td>\n",
       "      <td>3</td>\n",
       "      <td>1</td>\n",
       "      <td>1</td>\n",
       "      <td>2</td>\n",
       "      <td>1</td>\n",
       "      <td>4</td>\n",
       "      <td>1</td>\n",
       "      <td>2</td>\n",
       "      <td>...</td>\n",
       "      <td>183</td>\n",
       "      <td>101</td>\n",
       "      <td>60</td>\n",
       "      <td>64</td>\n",
       "      <td>109</td>\n",
       "      <td>20</td>\n",
       "      <td>0</td>\n",
       "      <td>144</td>\n",
       "      <td>80</td>\n",
       "      <td>3</td>\n",
       "    </tr>\n",
       "    <tr>\n",
       "      <th>7009</th>\n",
       "      <td>1</td>\n",
       "      <td>779</td>\n",
       "      <td>3</td>\n",
       "      <td>1</td>\n",
       "      <td>1</td>\n",
       "      <td>2</td>\n",
       "      <td>1</td>\n",
       "      <td>4</td>\n",
       "      <td>1</td>\n",
       "      <td>2</td>\n",
       "      <td>...</td>\n",
       "      <td>218</td>\n",
       "      <td>101</td>\n",
       "      <td>30</td>\n",
       "      <td>70</td>\n",
       "      <td>118</td>\n",
       "      <td>30</td>\n",
       "      <td>0</td>\n",
       "      <td>144</td>\n",
       "      <td>130</td>\n",
       "      <td>3</td>\n",
       "    </tr>\n",
       "    <tr>\n",
       "      <th>7010</th>\n",
       "      <td>1</td>\n",
       "      <td>779</td>\n",
       "      <td>3</td>\n",
       "      <td>1</td>\n",
       "      <td>1</td>\n",
       "      <td>2</td>\n",
       "      <td>1</td>\n",
       "      <td>4</td>\n",
       "      <td>1</td>\n",
       "      <td>2</td>\n",
       "      <td>...</td>\n",
       "      <td>183</td>\n",
       "      <td>84</td>\n",
       "      <td>60</td>\n",
       "      <td>70</td>\n",
       "      <td>118</td>\n",
       "      <td>30</td>\n",
       "      <td>0</td>\n",
       "      <td>180</td>\n",
       "      <td>100</td>\n",
       "      <td>3</td>\n",
       "    </tr>\n",
       "  </tbody>\n",
       "</table>\n",
       "<p>11 rows × 24 columns</p>\n",
       "</div>"
      ],
      "text/plain": [
       "      SURVEY   ID  PURPOSE  FIRST  TICKET  WHO  LUGGAGE  AGE  MALE  INCOME  \\\n",
       "7000       1  778        3      1       1    2        1    4     1       2   \n",
       "7001       1  778        3      1       1    2        1    4     1       2   \n",
       "7002       1  779        3      1       1    2        1    4     1       2   \n",
       "7003       1  779        3      1       1    2        1    4     1       2   \n",
       "7004       1  779        3      1       1    2        1    4     1       2   \n",
       "7005       1  779        3      1       1    2        1    4     1       2   \n",
       "7006       1  779        3      1       1    2        1    4     1       2   \n",
       "7007       1  779        3      1       1    2        1    4     1       2   \n",
       "7008       1  779        3      1       1    2        1    4     1       2   \n",
       "7009       1  779        3      1       1    2        1    4     1       2   \n",
       "7010       1  779        3      1       1    2        1    4     1       2   \n",
       "\n",
       "       ...    TRAIN_TT  TRAIN_CO  TRAIN_HE  SM_TT  SM_CO  SM_HE  SM_SEATS  \\\n",
       "7000   ...         181        92       120     81    109     20         0   \n",
       "7001   ...         200       110        30     95    146     20         0   \n",
       "7002   ...         218        84        30     78     97     10         0   \n",
       "7003   ...         218        84       120     70    118     10         0   \n",
       "7004   ...         218        76        30     64    109     20         0   \n",
       "7005   ...         166        76        60     64    109     30         0   \n",
       "7006   ...         183        84        30     64    105     30         0   \n",
       "7007   ...         183        76        30     70     90     10         0   \n",
       "7008   ...         183       101        60     64    109     20         0   \n",
       "7009   ...         218       101        30     70    118     30         0   \n",
       "7010   ...         183        84        60     70    118     30         0   \n",
       "\n",
       "      CAR_TT  CAR_CO  CHOICE  \n",
       "7000     170     149       2  \n",
       "7001     170     149       2  \n",
       "7002     180      80       3  \n",
       "7003     234     130       3  \n",
       "7004     234     100       3  \n",
       "7005     144     130       3  \n",
       "7006     234      80       3  \n",
       "7007     144     100       3  \n",
       "7008     144      80       3  \n",
       "7009     144     130       3  \n",
       "7010     180     100       3  \n",
       "\n",
       "[11 rows x 24 columns]"
      ]
     },
     "execution_count": 35,
     "metadata": {},
     "output_type": "execute_result"
    },
    {
     "name": "stdout",
     "output_type": "stream",
     "text": [
      "time: 50.1 ms\n"
     ]
    }
   ],
   "source": [
    "df1.loc[7000:7010]"
   ]
  },
  {
   "cell_type": "code",
   "execution_count": 36,
   "metadata": {
    "collapsed": false
   },
   "outputs": [
    {
     "name": "stdout",
     "output_type": "stream",
     "text": [
      "time: 2.15 ms\n"
     ]
    }
   ],
   "source": [
    "split = 7002"
   ]
  },
  {
   "cell_type": "markdown",
   "metadata": {},
   "source": [
    "split chosen to separate sessions"
   ]
  },
  {
   "cell_type": "markdown",
   "metadata": {},
   "source": [
    "Note: look back here - does this split meaningfully compare to the split used within the paper?"
   ]
  },
  {
   "cell_type": "markdown",
   "metadata": {},
   "source": [
    "### Feature Expansion\n",
    "\n",
    "May want to create additional features based on comparison of prices and times"
   ]
  },
  {
   "cell_type": "markdown",
   "metadata": {},
   "source": [
    "done here"
   ]
  },
  {
   "cell_type": "code",
   "execution_count": 37,
   "metadata": {
    "collapsed": false
   },
   "outputs": [
    {
     "name": "stdout",
     "output_type": "stream",
     "text": [
      "time: 7.86 ms\n"
     ]
    }
   ],
   "source": [
    "X = df1.drop('CHOICE', axis = 1)\n",
    "y = df1['CHOICE']"
   ]
  },
  {
   "cell_type": "markdown",
   "metadata": {},
   "source": [
    "** test-train split **"
   ]
  },
  {
   "cell_type": "code",
   "execution_count": 181,
   "metadata": {
    "collapsed": false
   },
   "outputs": [
    {
     "name": "stdout",
     "output_type": "stream",
     "text": [
      "time: 8.52 ms\n"
     ]
    }
   ],
   "source": [
    "def tt_split(X,y,split):\n",
    "    # inclusive indexing necessitates subtraction\n",
    "    Xtrain = X.iloc[:split-1,:]\n",
    "    Xtest = X.iloc[split:,:]\n",
    "    ytrain = y.iloc[:split-1]\n",
    "    ytest = y.iloc[split:]\n",
    "    return Xtrain, Xtest, ytrain, ytest"
   ]
  },
  {
   "cell_type": "code",
   "execution_count": 180,
   "metadata": {
    "collapsed": false
   },
   "outputs": [
    {
     "name": "stdout",
     "output_type": "stream",
     "text": [
      "time: 4.81 ms\n"
     ]
    }
   ],
   "source": [
    "Xtrain, Xtest, ytrain, ytest = tt_split(X,y,split)"
   ]
  },
  {
   "cell_type": "code",
   "execution_count": 43,
   "metadata": {
    "collapsed": false
   },
   "outputs": [
    {
     "data": {
      "text/plain": [
       "Index(['SURVEY', 'ID', 'PURPOSE', 'FIRST', 'TICKET', 'WHO', 'LUGGAGE', 'AGE',\n",
       "       'MALE', 'INCOME', 'GA', 'ORIGIN', 'DEST', 'CAR_AV', 'TRAIN_TT',\n",
       "       'TRAIN_CO', 'TRAIN_HE', 'SM_TT', 'SM_CO', 'SM_HE', 'SM_SEATS', 'CAR_TT',\n",
       "       'CAR_CO'],\n",
       "      dtype='object')"
      ]
     },
     "execution_count": 43,
     "metadata": {},
     "output_type": "execute_result"
    },
    {
     "name": "stdout",
     "output_type": "stream",
     "text": [
      "time: 3.08 ms\n"
     ]
    }
   ],
   "source": [
    "X.columns"
   ]
  },
  {
   "cell_type": "code",
   "execution_count": 44,
   "metadata": {
    "collapsed": false
   },
   "outputs": [
    {
     "data": {
      "text/plain": [
       "SURVEY      int64\n",
       "ID          int64\n",
       "PURPOSE     int64\n",
       "FIRST       int64\n",
       "TICKET      int64\n",
       "WHO         int64\n",
       "LUGGAGE     int64\n",
       "AGE         int64\n",
       "MALE        int64\n",
       "INCOME      int64\n",
       "GA          int64\n",
       "ORIGIN      int64\n",
       "DEST        int64\n",
       "CAR_AV      int64\n",
       "TRAIN_TT    int64\n",
       "TRAIN_CO    int64\n",
       "TRAIN_HE    int64\n",
       "SM_TT       int64\n",
       "SM_CO       int64\n",
       "SM_HE       int64\n",
       "SM_SEATS    int64\n",
       "CAR_TT      int64\n",
       "CAR_CO      int64\n",
       "dtype: object"
      ]
     },
     "execution_count": 44,
     "metadata": {},
     "output_type": "execute_result"
    },
    {
     "name": "stdout",
     "output_type": "stream",
     "text": [
      "time: 12.1 ms\n"
     ]
    }
   ],
   "source": [
    "X.dtypes"
   ]
  },
  {
   "cell_type": "raw",
   "metadata": {},
   "source": [
    "Purpose: 1 Commuter, 2 Shopping, 3 Business, 4 Leisure, 5 Return from work, 6 feturn from shopping, 7 return from business, 8 return from leisure, 9 other;;;;\n",
    "may be OHE-worthy\n",
    "FIRST - first class\n",
    "Ticket - Travel Ticket 0 None, 1 Two way half price, 2 one way half price, 3 two way normal , 4 one way normal price, 5 half day, 6 annual season ticket, 7 annual reduced fare, 8 after 7 pm, 9 group ticket, 10 other\n",
    "Who pays - 0 unknown (how broken out over train survey/car plates .. home survey) 1 self, 2 employer 3 half-half\n",
    "luggage - 0 none, 1 one piece , 3 several\n",
    "Age - ordinal age scheme, no OHE, except for 6 not known\n",
    "Male, simple bool\n",
    "Income - ordinal encoding ( + 4 unknown)\n",
    "GA - has a general abonnement ~ general ticket\n",
    "ORIGIN - numeric encoding of origin, probably wants an OHE w/ cutoff\n",
    "as does DEST\n",
    "\n",
    "Drop Train_AV\n",
    "CAR_AV  - car availability boolean\n",
    "drop SM_AV\n",
    "Train travel time in minutes - keep as numeric, seems useful, but value itself is funny\n",
    "Train Co - train cost, keep as numeric\n",
    "Train HE - train headway - time between trains, keep as numeric\n",
    "SM_tt - proposed train travel time\n",
    "SM_CO - proposed SM cost ----> make secondary features for proposed v current\n",
    "SM_HE - proposed time between trains -->  secondary features\n",
    "SM_seats - probably not useful, configuration for seats on proposed\n",
    "Car TT travel time, Car CO cost (may have been estimated by survey)\n",
    "\n",
    "Choice - 0 unknown - 1 Train - 2 SM - 3 Car --- Multioutput!\n",
    "\n"
   ]
  },
  {
   "cell_type": "code",
   "execution_count": 45,
   "metadata": {
    "collapsed": false
   },
   "outputs": [
    {
     "name": "stdout",
     "output_type": "stream",
     "text": [
      "time: 2.89 ms\n"
     ]
    }
   ],
   "source": [
    "ml_feat = ['SURVEY','FIRST','LUGGAGE','AGE','MALE','INCOME','GA','CAR_AV','TRAIN_TT',\n",
    "          'TRAIN_CO','TRAIN_HE','SM_TT','SM_CO','SM_HE','SM_SEATS','CAR_TT','CAR_CO']"
   ]
  },
  {
   "cell_type": "code",
   "execution_count": 46,
   "metadata": {
    "collapsed": false
   },
   "outputs": [
    {
     "data": {
      "text/plain": [
       "RandomForestClassifier(bootstrap=True, class_weight=None, criterion='gini',\n",
       "            max_depth=17, max_features='auto', max_leaf_nodes=None,\n",
       "            min_samples_leaf=1, min_samples_split=2,\n",
       "            min_weight_fraction_leaf=0.0, n_estimators=300, n_jobs=1,\n",
       "            oob_score=False, random_state=None, verbose=0,\n",
       "            warm_start=False)"
      ]
     },
     "execution_count": 46,
     "metadata": {},
     "output_type": "execute_result"
    },
    {
     "name": "stdout",
     "output_type": "stream",
     "text": [
      "time: 2.16 s\n"
     ]
    }
   ],
   "source": [
    "model = ensemble.RandomForestClassifier(max_depth=17, n_estimators=300)\n",
    "model.fit(Xtrain[ml_feat], ytrain)"
   ]
  },
  {
   "cell_type": "code",
   "execution_count": 47,
   "metadata": {
    "collapsed": false
   },
   "outputs": [
    {
     "name": "stdout",
     "output_type": "stream",
     "text": [
      "time: 936 ms\n"
     ]
    }
   ],
   "source": [
    "py_x = model.predict_proba(X[ml_feat])\n",
    "\n",
    "dy_x = model.predict(X[ml_feat])"
   ]
  },
  {
   "cell_type": "code",
   "execution_count": 48,
   "metadata": {
    "collapsed": false
   },
   "outputs": [
    {
     "data": {
      "text/plain": [
       "0.88590604026845643"
      ]
     },
     "execution_count": 48,
     "metadata": {},
     "output_type": "execute_result"
    },
    {
     "name": "stdout",
     "output_type": "stream",
     "text": [
      "time: 9.54 ms\n"
     ]
    }
   ],
   "source": [
    "sklearn.metrics.accuracy_score(dy_x, y)"
   ]
  },
  {
   "cell_type": "code",
   "execution_count": 49,
   "metadata": {
    "collapsed": false
   },
   "outputs": [
    {
     "data": {
      "text/plain": [
       "0.67498658078368223"
      ]
     },
     "execution_count": 49,
     "metadata": {},
     "output_type": "execute_result"
    },
    {
     "name": "stdout",
     "output_type": "stream",
     "text": [
      "time: 9.19 ms\n"
     ]
    }
   ],
   "source": [
    "sklearn.metrics.accuracy_score(dy_x[split:], ytest)"
   ]
  },
  {
   "cell_type": "code",
   "execution_count": 50,
   "metadata": {
    "collapsed": false
   },
   "outputs": [
    {
     "data": {
      "text/plain": [
       "0.7287114636215164"
      ]
     },
     "execution_count": 50,
     "metadata": {},
     "output_type": "execute_result"
    },
    {
     "name": "stdout",
     "output_type": "stream",
     "text": [
      "time: 15.1 ms\n"
     ]
    }
   ],
   "source": [
    "sklearn.metrics.log_loss(ytest, py_x[split:,1:])"
   ]
  },
  {
   "cell_type": "code",
   "execution_count": 51,
   "metadata": {
    "collapsed": false
   },
   "outputs": [
    {
     "data": {
      "text/plain": [
       "0.67498658078368223"
      ]
     },
     "execution_count": 51,
     "metadata": {},
     "output_type": "execute_result"
    },
    {
     "name": "stdout",
     "output_type": "stream",
     "text": [
      "time: 7.39 ms\n"
     ]
    }
   ],
   "source": [
    "sklearn.metrics.accuracy_score(ytest, dy_x[split:])"
   ]
  },
  {
   "cell_type": "code",
   "execution_count": 52,
   "metadata": {
    "collapsed": false
   },
   "outputs": [
    {
     "data": {
      "text/plain": [
       "0.99814312241108416"
      ]
     },
     "execution_count": 52,
     "metadata": {},
     "output_type": "execute_result"
    },
    {
     "name": "stdout",
     "output_type": "stream",
     "text": [
      "time: 9.68 ms\n"
     ]
    }
   ],
   "source": [
    "sklearn.metrics.accuracy_score(ytrain, dy_x[:split-1])"
   ]
  },
  {
   "cell_type": "code",
   "execution_count": 53,
   "metadata": {
    "collapsed": false
   },
   "outputs": [
    {
     "data": {
      "text/plain": [
       "array([[   1,  125,   19],\n",
       "       [   4, 1410,  349],\n",
       "       [   2,  712, 1104]])"
      ]
     },
     "execution_count": 53,
     "metadata": {},
     "output_type": "execute_result"
    },
    {
     "name": "stdout",
     "output_type": "stream",
     "text": [
      "time: 14.1 ms\n"
     ]
    }
   ],
   "source": [
    "sklearn.metrics.confusion_matrix(ytest, dy_x[split:])"
   ]
  },
  {
   "cell_type": "code",
   "execution_count": 54,
   "metadata": {
    "collapsed": false
   },
   "outputs": [
    {
     "data": {
      "text/plain": [
       "<matplotlib.axes._subplots.AxesSubplot at 0x7f31f2217a20>"
      ]
     },
     "execution_count": 54,
     "metadata": {},
     "output_type": "execute_result"
    },
    {
     "data": {
      "image/png": "[encoded data removed]",
      "text/plain": [
       "<matplotlib.figure.Figure at 0x7f31f21fbdd8>"
      ]
     },
     "metadata": {},
     "output_type": "display_data"
    },
    {
     "name": "stdout",
     "output_type": "stream",
     "text": [
      "time: 191 ms\n"
     ]
    }
   ],
   "source": [
    "sns.countplot(dy_x[split:])"
   ]
  },
  {
   "cell_type": "code",
   "execution_count": 55,
   "metadata": {
    "collapsed": false
   },
   "outputs": [
    {
     "data": {
      "text/plain": [
       "<matplotlib.axes._subplots.AxesSubplot at 0x7f31f21cfb38>"
      ]
     },
     "execution_count": 55,
     "metadata": {},
     "output_type": "execute_result"
    },
    {
     "data": {
      "image/png": "[encoded data removed]",
      "text/plain": [
       "<matplotlib.figure.Figure at 0x7f31f237e278>"
      ]
     },
     "metadata": {},
     "output_type": "display_data"
    },
    {
     "name": "stdout",
     "output_type": "stream",
     "text": [
      "time: 331 ms\n"
     ]
    }
   ],
   "source": [
    "sns.countplot(ytest)"
   ]
  },
  {
   "cell_type": "code",
   "execution_count": 56,
   "metadata": {
    "collapsed": false
   },
   "outputs": [
    {
     "data": {
      "text/plain": [
       "array([[ 0.        ,  0.03752196,  0.95288454,  0.00959351],\n",
       "       [ 0.        ,  0.07468283,  0.91554496,  0.0097722 ],\n",
       "       [ 0.        ,  0.04168061,  0.94640668,  0.01191272],\n",
       "       ..., \n",
       "       [ 0.        ,  0.12660005,  0.57602472,  0.29737523],\n",
       "       [ 0.        ,  0.14857744,  0.59449984,  0.25692272],\n",
       "       [ 0.        ,  0.11827212,  0.71885277,  0.16287511]])"
      ]
     },
     "execution_count": 56,
     "metadata": {},
     "output_type": "execute_result"
    },
    {
     "name": "stdout",
     "output_type": "stream",
     "text": [
      "time: 6.1 ms\n"
     ]
    }
   ],
   "source": [
    "py_x"
   ]
  },
  {
   "cell_type": "code",
   "execution_count": 57,
   "metadata": {
    "collapsed": false
   },
   "outputs": [
    {
     "data": {
      "text/plain": [
       "RandomForestClassifier(bootstrap=True, class_weight=None, criterion='gini',\n",
       "            max_depth=5, max_features='auto', max_leaf_nodes=None,\n",
       "            min_samples_leaf=1, min_samples_split=2,\n",
       "            min_weight_fraction_leaf=0.0, n_estimators=1000, n_jobs=1,\n",
       "            oob_score=False, random_state=None, verbose=0,\n",
       "            warm_start=False)"
      ]
     },
     "execution_count": 57,
     "metadata": {},
     "output_type": "execute_result"
    },
    {
     "name": "stdout",
     "output_type": "stream",
     "text": [
      "time: 3.48 s\n"
     ]
    }
   ],
   "source": [
    "model = ensemble.RandomForestClassifier(max_depth=5, n_estimators=1000)\n",
    "model.fit(Xtrain[ml_feat], ytrain)"
   ]
  },
  {
   "cell_type": "code",
   "execution_count": 58,
   "metadata": {
    "collapsed": false
   },
   "outputs": [
    {
     "name": "stdout",
     "output_type": "stream",
     "text": [
      "time: 1.67 s\n"
     ]
    }
   ],
   "source": [
    "py_x = model.predict_proba(X[ml_feat])\n",
    "\n",
    "dy_x = model.predict(X[ml_feat])"
   ]
  },
  {
   "cell_type": "code",
   "execution_count": 59,
   "metadata": {
    "collapsed": false
   },
   "outputs": [
    {
     "data": {
      "text/plain": [
       "0.80150053699029944"
      ]
     },
     "execution_count": 59,
     "metadata": {},
     "output_type": "execute_result"
    },
    {
     "name": "stdout",
     "output_type": "stream",
     "text": [
      "time: 5.42 ms\n"
     ]
    }
   ],
   "source": [
    "sklearn.metrics.log_loss(ytest, py_x[split:,1:])"
   ]
  },
  {
   "cell_type": "markdown",
   "metadata": {},
   "source": [
    "The paper may have cited a log loss score, not the RBM but the MNL choice paper; of course, not terribly useful to compare"
   ]
  },
  {
   "cell_type": "code",
   "execution_count": 60,
   "metadata": {
    "collapsed": false
   },
   "outputs": [
    {
     "data": {
      "text/plain": [
       "array([[   0,  144,    1],\n",
       "       [   0, 1726,   37],\n",
       "       [   0, 1567,  251]])"
      ]
     },
     "execution_count": 60,
     "metadata": {},
     "output_type": "execute_result"
    },
    {
     "name": "stdout",
     "output_type": "stream",
     "text": [
      "time: 15.2 ms\n"
     ]
    }
   ],
   "source": [
    "sklearn.metrics.confusion_matrix(ytest, dy_x[split:])"
   ]
  },
  {
   "cell_type": "code",
   "execution_count": 61,
   "metadata": {
    "collapsed": false
   },
   "outputs": [
    {
     "data": {
      "text/plain": [
       "0.53059581320450888"
      ]
     },
     "execution_count": 61,
     "metadata": {},
     "output_type": "execute_result"
    },
    {
     "name": "stdout",
     "output_type": "stream",
     "text": [
      "time: 8.89 ms\n"
     ]
    }
   ],
   "source": [
    "sklearn.metrics.accuracy_score(ytest, dy_x[split:])"
   ]
  },
  {
   "cell_type": "markdown",
   "metadata": {},
   "source": [
    "In the informal test, deeper trees work better"
   ]
  },
  {
   "cell_type": "code",
   "execution_count": 62,
   "metadata": {
    "collapsed": false
   },
   "outputs": [
    {
     "name": "stdout",
     "output_type": "stream",
     "text": [
      "time: 2.02 ms\n"
     ]
    }
   ],
   "source": [
    "from sklearn import ensemble\n",
    "from sklearn import grid_search"
   ]
  },
  {
   "cell_type": "code",
   "execution_count": 63,
   "metadata": {
    "collapsed": false
   },
   "outputs": [
    {
     "data": {
      "text/plain": [
       "RandomForestClassifier(bootstrap=True, class_weight=None, criterion='gini',\n",
       "            max_depth=10.0, max_features='auto', max_leaf_nodes=None,\n",
       "            min_samples_leaf=1, min_samples_split=2,\n",
       "            min_weight_fraction_leaf=0.0, n_estimators=300, n_jobs=1,\n",
       "            oob_score=False, random_state=None, verbose=0,\n",
       "            warm_start=False)"
      ]
     },
     "execution_count": 63,
     "metadata": {},
     "output_type": "execute_result"
    },
    {
     "name": "stdout",
     "output_type": "stream",
     "text": [
      "time: 36.4 s\n"
     ]
    }
   ],
   "source": [
    "params = {'max_depth': np.linspace(5,40,8)}\n",
    "model = ensemble.RandomForestClassifier(n_estimators=300)\n",
    "clf = grid_search.GridSearchCV(model, params)\n",
    "\n",
    "clf.fit(Xtrain[ml_feat], ytrain)\n",
    "clf.best_estimator_"
   ]
  },
  {
   "cell_type": "markdown",
   "metadata": {},
   "source": [
    "Max depth of best is 10"
   ]
  },
  {
   "cell_type": "code",
   "execution_count": 64,
   "metadata": {
    "collapsed": false
   },
   "outputs": [
    {
     "name": "stdout",
     "output_type": "stream",
     "text": [
      "time: 782 ms\n"
     ]
    }
   ],
   "source": [
    "py_x = clf.predict_proba(X[ml_feat])\n",
    "\n",
    "dy_x = clf.predict(X[ml_feat])"
   ]
  },
  {
   "cell_type": "code",
   "execution_count": 66,
   "metadata": {
    "collapsed": false
   },
   "outputs": [
    {
     "name": "stdout",
     "output_type": "stream",
     "text": [
      "0.719425760956\n",
      "0.662372517445\n",
      "time: 10.5 ms\n"
     ]
    }
   ],
   "source": [
    "print(sklearn.metrics.log_loss(ytest, py_x[split:,1:]))\n",
    "print(sklearn.metrics.accuracy_score(ytest, dy_x[split:]))"
   ]
  },
  {
   "cell_type": "markdown",
   "metadata": {},
   "source": [
    "(?) not sure about this result.  Less data to train with CV than previous.. insignificant difference in performance"
   ]
  },
  {
   "cell_type": "code",
   "execution_count": 71,
   "metadata": {
    "collapsed": false
   },
   "outputs": [
    {
     "data": {
      "text/plain": [
       "GradientBoostingClassifier(init=None, learning_rate=0.1, loss='deviance',\n",
       "              max_depth=3, max_features=None, max_leaf_nodes=None,\n",
       "              min_samples_leaf=1, min_samples_split=2,\n",
       "              min_weight_fraction_leaf=0.0, n_estimators=100,\n",
       "              presort='auto', random_state=None, subsample=1.0, verbose=0,\n",
       "              warm_start=False)"
      ]
     },
     "execution_count": 71,
     "metadata": {},
     "output_type": "execute_result"
    },
    {
     "name": "stdout",
     "output_type": "stream",
     "text": [
      "time: 2.22 s\n"
     ]
    }
   ],
   "source": [
    "model = ensemble.GradientBoostingClassifier()\n",
    "model.fit(Xtrain[ml_feat], ytrain)"
   ]
  },
  {
   "cell_type": "code",
   "execution_count": 72,
   "metadata": {
    "collapsed": false
   },
   "outputs": [
    {
     "name": "stdout",
     "output_type": "stream",
     "text": [
      "time: 102 ms\n"
     ]
    }
   ],
   "source": [
    "py_x = model.predict_proba(X[ml_feat])\n",
    "\n",
    "dy_x = model.predict(X[ml_feat])"
   ]
  },
  {
   "cell_type": "code",
   "execution_count": 73,
   "metadata": {
    "collapsed": false
   },
   "outputs": [
    {
     "name": "stdout",
     "output_type": "stream",
     "text": [
      "0.700546094752\n",
      "0.682501341922\n",
      "time: 7.81 ms\n"
     ]
    }
   ],
   "source": [
    "print(sklearn.metrics.log_loss(ytest, py_x[split:,1:]))\n",
    "print(sklearn.metrics.accuracy_score(ytest, dy_x[split:]))"
   ]
  },
  {
   "cell_type": "code",
   "execution_count": 74,
   "metadata": {
    "collapsed": false
   },
   "outputs": [
    {
     "data": {
      "text/plain": [
       "AdaBoostClassifier(algorithm='SAMME.R', base_estimator=None,\n",
       "          learning_rate=1.0, n_estimators=50, random_state=None)"
      ]
     },
     "execution_count": 74,
     "metadata": {},
     "output_type": "execute_result"
    },
    {
     "name": "stdout",
     "output_type": "stream",
     "text": [
      "time: 310 ms\n"
     ]
    }
   ],
   "source": [
    "model = ensemble.AdaBoostClassifier()\n",
    "model.fit(Xtrain[ml_feat], ytrain)"
   ]
  },
  {
   "cell_type": "code",
   "execution_count": 75,
   "metadata": {
    "collapsed": false
   },
   "outputs": [
    {
     "name": "stdout",
     "output_type": "stream",
     "text": [
      "4.91488096902\n",
      "0.47128287708\n",
      "time: 279 ms\n"
     ]
    }
   ],
   "source": [
    "py_x = model.predict_proba(X[ml_feat])\n",
    "\n",
    "dy_x = model.predict(X[ml_feat])\n",
    "\n",
    "print(sklearn.metrics.log_loss(ytest, py_x[split:,1:]))\n",
    "print(sklearn.metrics.accuracy_score(ytest, dy_x[split:]))"
   ]
  },
  {
   "cell_type": "markdown",
   "metadata": {},
   "source": [
    "May require parameter tuning"
   ]
  },
  {
   "cell_type": "code",
   "execution_count": null,
   "metadata": {
    "collapsed": true
   },
   "outputs": [],
   "source": []
  },
  {
   "cell_type": "code",
   "execution_count": 76,
   "metadata": {
    "collapsed": false
   },
   "outputs": [
    {
     "name": "stdout",
     "output_type": "stream",
     "text": [
      "time: 3.33 ms\n"
     ]
    }
   ],
   "source": [
    "ml_feat = ['SURVEY','AGE','INCOME','GA','CAR_AV','TRAIN_TT',\n",
    "          'TRAIN_CO','TRAIN_HE','SM_TT','SM_CO','SM_HE','CAR_TT','CAR_CO']"
   ]
  },
  {
   "cell_type": "markdown",
   "metadata": {},
   "source": [
    "Compare the cost features"
   ]
  },
  {
   "cell_type": "code",
   "execution_count": 77,
   "metadata": {
    "collapsed": false
   },
   "outputs": [
    {
     "data": {
      "text/plain": [
       "43"
      ]
     },
     "execution_count": 77,
     "metadata": {},
     "output_type": "execute_result"
    },
    {
     "name": "stdout",
     "output_type": "stream",
     "text": [
      "time: 7.07 ms\n"
     ]
    }
   ],
   "source": [
    "len(df1[df1['TRAIN_CO'] > df1['SM_CO']])"
   ]
  },
  {
   "cell_type": "code",
   "execution_count": 78,
   "metadata": {
    "collapsed": false
   },
   "outputs": [
    {
     "data": {
      "text/plain": [
       "6308"
      ]
     },
     "execution_count": 78,
     "metadata": {},
     "output_type": "execute_result"
    },
    {
     "name": "stdout",
     "output_type": "stream",
     "text": [
      "time: 7.58 ms\n"
     ]
    }
   ],
   "source": [
    "len(df1[df1['TRAIN_CO'] > df1['CAR_CO']])"
   ]
  },
  {
   "cell_type": "code",
   "execution_count": 81,
   "metadata": {
    "collapsed": false
   },
   "outputs": [
    {
     "data": {
      "text/plain": [
       "87"
      ]
     },
     "execution_count": 81,
     "metadata": {},
     "output_type": "execute_result"
    },
    {
     "name": "stdout",
     "output_type": "stream",
     "text": [
      "time: 3.9 ms\n"
     ]
    }
   ],
   "source": [
    "len(df1[df1['TRAIN_CO'] == df1['CAR_CO']])"
   ]
  },
  {
   "cell_type": "code",
   "execution_count": 84,
   "metadata": {
    "collapsed": false
   },
   "outputs": [
    {
     "data": {
      "text/plain": [
       "(array([  9.20000000e+03,   7.00000000e+00,   1.40000000e+01,\n",
       "          1.55000000e+02,   3.35000000e+02,   2.90000000e+02,\n",
       "          3.04000000e+02,   1.41000000e+02,   1.38000000e+02,\n",
       "          1.44000000e+02]),\n",
       " array([  4.00000000e+00,   5.07600000e+02,   1.01120000e+03,\n",
       "          1.51480000e+03,   2.01840000e+03,   2.52200000e+03,\n",
       "          3.02560000e+03,   3.52920000e+03,   4.03280000e+03,\n",
       "          4.53640000e+03,   5.04000000e+03]),\n",
       " <a list of 10 Patch objects>)"
      ]
     },
     "execution_count": 84,
     "metadata": {},
     "output_type": "execute_result"
    },
    {
     "data": {
      "image/png": "[encoded data removed]",
      "text/plain": [
       "<matplotlib.figure.Figure at 0x7f31f20c5d30>"
      ]
     },
     "metadata": {},
     "output_type": "display_data"
    },
    {
     "name": "stdout",
     "output_type": "stream",
     "text": [
      "time: 334 ms\n"
     ]
    }
   ],
   "source": [
    "plt.hist(df1['TRAIN_CO'])"
   ]
  },
  {
   "cell_type": "code",
   "execution_count": 85,
   "metadata": {
    "collapsed": false
   },
   "outputs": [
    {
     "data": {
      "text/plain": [
       "7468"
      ]
     },
     "execution_count": 85,
     "metadata": {},
     "output_type": "execute_result"
    },
    {
     "name": "stdout",
     "output_type": "stream",
     "text": [
      "time: 7.36 ms\n"
     ]
    }
   ],
   "source": [
    "len(df1[df1['SM_CO'] > df1['CAR_CO']])"
   ]
  },
  {
   "cell_type": "code",
   "execution_count": 87,
   "metadata": {
    "collapsed": false
   },
   "outputs": [
    {
     "data": {
      "text/plain": [
       "3156"
      ]
     },
     "execution_count": 87,
     "metadata": {},
     "output_type": "execute_result"
    },
    {
     "name": "stdout",
     "output_type": "stream",
     "text": [
      "time: 8.35 ms\n"
     ]
    }
   ],
   "source": [
    "len(df1[df1['SM_CO'] < df1['CAR_CO']])"
   ]
  },
  {
   "cell_type": "code",
   "execution_count": 88,
   "metadata": {
    "collapsed": false
   },
   "outputs": [
    {
     "data": {
      "text/plain": [
       "RandomForestClassifier(bootstrap=True, class_weight=None, criterion='gini',\n",
       "            max_depth=15.0, max_features='auto', max_leaf_nodes=None,\n",
       "            min_samples_leaf=1, min_samples_split=2,\n",
       "            min_weight_fraction_leaf=0.0, n_estimators=300, n_jobs=1,\n",
       "            oob_score=False, random_state=None, verbose=0,\n",
       "            warm_start=False)"
      ]
     },
     "execution_count": 88,
     "metadata": {},
     "output_type": "execute_result"
    },
    {
     "name": "stdout",
     "output_type": "stream",
     "text": [
      "time: 36.9 s\n"
     ]
    }
   ],
   "source": [
    "params = {'max_depth': np.linspace(5,40,8)}\n",
    "model = ensemble.RandomForestClassifier(n_estimators=300)\n",
    "clf = grid_search.GridSearchCV(model, params)\n",
    "\n",
    "clf.fit(Xtrain[ml_feat], ytrain)\n",
    "clf.best_estimator_"
   ]
  },
  {
   "cell_type": "code",
   "execution_count": 89,
   "metadata": {
    "collapsed": false
   },
   "outputs": [
    {
     "name": "stdout",
     "output_type": "stream",
     "text": [
      "0.728427700122\n",
      "0.674986580784\n",
      "time: 1.01 s\n"
     ]
    }
   ],
   "source": [
    "py_x = clf.predict_proba(X[ml_feat])\n",
    "dy_x = clf.predict(X[ml_feat])\n",
    "print(sklearn.metrics.log_loss(ytest, py_x[split:,1:]))\n",
    "print(sklearn.metrics.accuracy_score(ytest, dy_x[split:]))"
   ]
  },
  {
   "cell_type": "code",
   "execution_count": 93,
   "metadata": {
    "collapsed": false
   },
   "outputs": [
    {
     "data": {
      "text/plain": [
       "Index(['SURVEY', 'ID', 'PURPOSE', 'FIRST', 'TICKET', 'WHO', 'LUGGAGE', 'AGE',\n",
       "       'MALE', 'INCOME', 'GA', 'ORIGIN', 'DEST', 'CAR_AV', 'TRAIN_TT',\n",
       "       'TRAIN_CO', 'TRAIN_HE', 'SM_TT', 'SM_CO', 'SM_HE', 'SM_SEATS', 'CAR_TT',\n",
       "       'CAR_CO'],\n",
       "      dtype='object')"
      ]
     },
     "execution_count": 93,
     "metadata": {},
     "output_type": "execute_result"
    },
    {
     "name": "stdout",
     "output_type": "stream",
     "text": [
      "time: 4.12 ms\n"
     ]
    }
   ],
   "source": [
    "X.columns"
   ]
  },
  {
   "cell_type": "code",
   "execution_count": 90,
   "metadata": {
    "collapsed": false
   },
   "outputs": [
    {
     "name": "stdout",
     "output_type": "stream",
     "text": [
      "time: 1.98 ms\n"
     ]
    }
   ],
   "source": [
    "ml_feat = ['CAR_AV','TRAIN_TT','TRAIN_CO','TRAIN_HE','SM_TT','SM_CO','SM_HE','CAR_TT','CAR_CO']"
   ]
  },
  {
   "cell_type": "code",
   "execution_count": 95,
   "metadata": {
    "collapsed": false
   },
   "outputs": [
    {
     "data": {
      "text/plain": [
       "RandomForestClassifier(bootstrap=True, class_weight=None, criterion='gini',\n",
       "            max_depth=5.0, max_features='auto', max_leaf_nodes=None,\n",
       "            min_samples_leaf=1, min_samples_split=2,\n",
       "            min_weight_fraction_leaf=0.0, n_estimators=300, n_jobs=1,\n",
       "            oob_score=False, random_state=None, verbose=0,\n",
       "            warm_start=False)"
      ]
     },
     "execution_count": 95,
     "metadata": {},
     "output_type": "execute_result"
    },
    {
     "name": "stdout",
     "output_type": "stream",
     "text": [
      "time: 38.4 s\n"
     ]
    }
   ],
   "source": [
    "params = {'max_depth': np.linspace(5,40,8)}\n",
    "model = ensemble.RandomForestClassifier(n_estimators=300)\n",
    "clf = grid_search.GridSearchCV(model, params)\n",
    "\n",
    "clf.fit(Xtrain[ml_feat], ytrain)\n",
    "clf.best_estimator_"
   ]
  },
  {
   "cell_type": "code",
   "execution_count": 96,
   "metadata": {
    "collapsed": false
   },
   "outputs": [
    {
     "name": "stdout",
     "output_type": "stream",
     "text": [
      "0.842055170878\n",
      "0.489801395598\n",
      "time: 488 ms\n"
     ]
    }
   ],
   "source": [
    "py_x = clf.predict_proba(X[ml_feat])\n",
    "dy_x = clf.predict(X[ml_feat])\n",
    "print(sklearn.metrics.log_loss(ytest, py_x[split:,1:]))\n",
    "print(sklearn.metrics.accuracy_score(ytest, dy_x[split:]))"
   ]
  },
  {
   "cell_type": "code",
   "execution_count": null,
   "metadata": {
    "collapsed": true
   },
   "outputs": [],
   "source": []
  },
  {
   "cell_type": "markdown",
   "metadata": {},
   "source": [
    "### Need for feature engineering\n",
    "Need more relative features to express the differences, the thresholds learnt probably aren't very useful.  Want -> 'ratioPrice','ratioTime' at the very least, maybe price diff"
   ]
  },
  {
   "cell_type": "code",
   "execution_count": 97,
   "metadata": {
    "collapsed": false
   },
   "outputs": [
    {
     "name": "stdout",
     "output_type": "stream",
     "text": [
      "time: 1.05 ms\n"
     ]
    }
   ],
   "source": [
    "cost_feats = ['TRAIN_CO','SM_CO','CAR_CO']"
   ]
  },
  {
   "cell_type": "code",
   "execution_count": 98,
   "metadata": {
    "collapsed": false
   },
   "outputs": [
    {
     "data": {
      "text/plain": [
       "<seaborn.axisgrid.PairGrid at 0x7f31f1f56908>"
      ]
     },
     "execution_count": 98,
     "metadata": {},
     "output_type": "execute_result"
    },
    {
     "data": {
      "image/png": "[encoded data removed]",
      "text/plain": [
       "<matplotlib.figure.Figure at 0x7f31f1f56a58>"
      ]
     },
     "metadata": {},
     "output_type": "display_data"
    },
    {
     "name": "stdout",
     "output_type": "stream",
     "text": [
      "time: 2.15 s\n"
     ]
    }
   ],
   "source": [
    "sns.pairplot(df1[cost_feats])"
   ]
  },
  {
   "cell_type": "markdown",
   "metadata": {},
   "source": [
    "The cost features are zero -- unwritten for most train examples?  This is disappointing...\n",
    "\n",
    "Not quite, just very small"
   ]
  },
  {
   "cell_type": "code",
   "execution_count": 99,
   "metadata": {
    "collapsed": false
   },
   "outputs": [
    {
     "data": {
      "text/plain": [
       "(array([  9.20000000e+03,   7.00000000e+00,   1.40000000e+01,\n",
       "          1.55000000e+02,   3.35000000e+02,   2.90000000e+02,\n",
       "          3.04000000e+02,   1.41000000e+02,   1.38000000e+02,\n",
       "          1.44000000e+02]),\n",
       " array([  4.00000000e+00,   5.07600000e+02,   1.01120000e+03,\n",
       "          1.51480000e+03,   2.01840000e+03,   2.52200000e+03,\n",
       "          3.02560000e+03,   3.52920000e+03,   4.03280000e+03,\n",
       "          4.53640000e+03,   5.04000000e+03]),\n",
       " <a list of 10 Patch objects>)"
      ]
     },
     "execution_count": 99,
     "metadata": {},
     "output_type": "execute_result"
    },
    {
     "data": {
      "image/png": "[encoded data removed]",
      "text/plain": [
       "<matplotlib.figure.Figure at 0x7f31f03494a8>"
      ]
     },
     "metadata": {},
     "output_type": "display_data"
    },
    {
     "name": "stdout",
     "output_type": "stream",
     "text": [
      "time: 269 ms\n"
     ]
    }
   ],
   "source": [
    "plt.hist(df1['TRAIN_CO'])"
   ]
  },
  {
   "cell_type": "code",
   "execution_count": 100,
   "metadata": {
    "collapsed": false
   },
   "outputs": [
    {
     "data": {
      "text/plain": [
       "(array([  9.20000000e+03,   7.00000000e+00,   1.40000000e+01,\n",
       "          1.55000000e+02,   3.35000000e+02,   2.90000000e+02,\n",
       "          3.04000000e+02,   1.41000000e+02,   1.38000000e+02,\n",
       "          1.44000000e+02]),\n",
       " array([  4.00000000e+00,   5.07600000e+02,   1.01120000e+03,\n",
       "          1.51480000e+03,   2.01840000e+03,   2.52200000e+03,\n",
       "          3.02560000e+03,   3.52920000e+03,   4.03280000e+03,\n",
       "          4.53640000e+03,   5.04000000e+03]),\n",
       " <a list of 10 Patch objects>)"
      ]
     },
     "execution_count": 100,
     "metadata": {},
     "output_type": "execute_result"
    },
    {
     "data": {
      "image/png": "[encoded data removed]",
      "text/plain": [
       "<matplotlib.figure.Figure at 0x7f31f02c2080>"
      ]
     },
     "metadata": {},
     "output_type": "display_data"
    },
    {
     "name": "stdout",
     "output_type": "stream",
     "text": [
      "time: 261 ms\n"
     ]
    }
   ],
   "source": [
    "plt.hist(df1[df1['TRAIN_CO']>0]['TRAIN_CO'])"
   ]
  },
  {
   "cell_type": "code",
   "execution_count": 101,
   "metadata": {
    "collapsed": false
   },
   "outputs": [
    {
     "data": {
      "text/plain": [
       "(array([ 118.,  324.,  475.,  567.,  784.,  698.,  676.,  708.,  750.,  655.]),\n",
       " array([  4. ,  13.5,  23. ,  32.5,  42. ,  51.5,  61. ,  70.5,  80. ,\n",
       "         89.5,  99. ]),\n",
       " <a list of 10 Patch objects>)"
      ]
     },
     "execution_count": 101,
     "metadata": {},
     "output_type": "execute_result"
    },
    {
     "data": {
      "image/png": "[encoded data removed]",
      "text/plain": [
       "<matplotlib.figure.Figure at 0x7f31f0270588>"
      ]
     },
     "metadata": {},
     "output_type": "display_data"
    },
    {
     "name": "stdout",
     "output_type": "stream",
     "text": [
      "time: 246 ms\n"
     ]
    }
   ],
   "source": [
    "plt.hist(df1[df1['TRAIN_CO']<100]['TRAIN_CO'])"
   ]
  },
  {
   "cell_type": "code",
   "execution_count": 102,
   "metadata": {
    "collapsed": false
   },
   "outputs": [
    {
     "data": {
      "text/plain": [
       "(array([ 1689.,    78.,   275.,   395.,   786.,   747.,   762.,   696.,\n",
       "          903.,   752.]),\n",
       " array([  0. ,   9.7,  19.4,  29.1,  38.8,  48.5,  58.2,  67.9,  77.6,\n",
       "         87.3,  97. ]),\n",
       " <a list of 10 Patch objects>)"
      ]
     },
     "execution_count": 102,
     "metadata": {},
     "output_type": "execute_result"
    },
    {
     "data": {
      "image/png": "[encoded data removed]",
      "text/plain": [
       "<matplotlib.figure.Figure at 0x7f31f01d27b8>"
      ]
     },
     "metadata": {},
     "output_type": "display_data"
    },
    {
     "name": "stdout",
     "output_type": "stream",
     "text": [
      "time: 289 ms\n"
     ]
    }
   ],
   "source": [
    "plt.hist(df1[df1['CAR_CO']<100]['CAR_CO'])"
   ]
  },
  {
   "cell_type": "code",
   "execution_count": 103,
   "metadata": {
    "collapsed": false
   },
   "outputs": [
    {
     "data": {
      "text/plain": [
       "(array([  3.37400000e+03,   3.93000000e+03,   2.46600000e+03,\n",
       "          7.58000000e+02,   1.54000000e+02,   3.30000000e+01,\n",
       "          7.00000000e+00,   4.00000000e+00,   0.00000000e+00,\n",
       "          2.00000000e+00]),\n",
       " array([   0.,   52.,  104.,  156.,  208.,  260.,  312.,  364.,  416.,\n",
       "         468.,  520.]),\n",
       " <a list of 10 Patch objects>)"
      ]
     },
     "execution_count": 103,
     "metadata": {},
     "output_type": "execute_result"
    },
    {
     "data": {
      "image/png": "[encoded data removed]",
      "text/plain": [
       "<matplotlib.figure.Figure at 0x7f31f00ea940>"
      ]
     },
     "metadata": {},
     "output_type": "display_data"
    },
    {
     "name": "stdout",
     "output_type": "stream",
     "text": [
      "time: 261 ms\n"
     ]
    }
   ],
   "source": [
    "plt.hist(df1['CAR_CO'])"
   ]
  },
  {
   "cell_type": "markdown",
   "metadata": {},
   "source": [
    "So our conclusion should be that there are some very high-cost train trips"
   ]
  },
  {
   "cell_type": "code",
   "execution_count": 104,
   "metadata": {
    "collapsed": false
   },
   "outputs": [
    {
     "data": {
      "text/plain": [
       "(array([  9.20200000e+03,   5.00000000e+00,   1.00000000e+01,\n",
       "          1.57000000e+02,   3.26000000e+02,   3.15000000e+02,\n",
       "          2.90000000e+02,   1.40000000e+02,   1.43000000e+02,\n",
       "          1.40000000e+02]),\n",
       " array([  6.00000000e+00,   6.77400000e+02,   1.34880000e+03,\n",
       "          2.02020000e+03,   2.69160000e+03,   3.36300000e+03,\n",
       "          4.03440000e+03,   4.70580000e+03,   5.37720000e+03,\n",
       "          6.04860000e+03,   6.72000000e+03]),\n",
       " <a list of 10 Patch objects>)"
      ]
     },
     "execution_count": 104,
     "metadata": {},
     "output_type": "execute_result"
    },
    {
     "data": {
      "image/png": "[encoded data removed]",
      "text/plain": [
       "<matplotlib.figure.Figure at 0x7f31f00600b8>"
      ]
     },
     "metadata": {},
     "output_type": "display_data"
    },
    {
     "name": "stdout",
     "output_type": "stream",
     "text": [
      "time: 248 ms\n"
     ]
    }
   ],
   "source": [
    "plt.hist(df1['SM_CO'])"
   ]
  },
  {
   "cell_type": "code",
   "execution_count": 105,
   "metadata": {
    "collapsed": false
   },
   "outputs": [
    {
     "data": {
      "text/plain": [
       "(array([ 1837.,  3023.,  2200.,   966.,   532.,   394.,   117.,    76.,\n",
       "           23.,    11.]),\n",
       " array([   6. ,   55.2,  104.4,  153.6,  202.8,  252. ,  301.2,  350.4,\n",
       "         399.6,  448.8,  498. ]),\n",
       " <a list of 10 Patch objects>)"
      ]
     },
     "execution_count": 105,
     "metadata": {},
     "output_type": "execute_result"
    },
    {
     "data": {
      "image/png": "[encoded data removed]",
      "text/plain": [
       "<matplotlib.figure.Figure at 0x7f31eb7c99b0>"
      ]
     },
     "metadata": {},
     "output_type": "display_data"
    },
    {
     "name": "stdout",
     "output_type": "stream",
     "text": [
      "time: 254 ms\n"
     ]
    }
   ],
   "source": [
    "plt.hist(df1[df1['SM_CO']<500]['SM_CO'])"
   ]
  },
  {
   "cell_type": "code",
   "execution_count": 106,
   "metadata": {
    "collapsed": false
   },
   "outputs": [
    {
     "data": {
      "text/plain": [
       "(array([  83.,  201.,  333.,  467.,  577.,  470.,  689.,  564.,  569.,  801.]),\n",
       " array([  6. ,  15.3,  24.6,  33.9,  43.2,  52.5,  61.8,  71.1,  80.4,\n",
       "         89.7,  99. ]),\n",
       " <a list of 10 Patch objects>)"
      ]
     },
     "execution_count": 106,
     "metadata": {},
     "output_type": "execute_result"
    },
    {
     "data": {
      "image/png": "[encoded data removed]",
      "text/plain": [
       "<matplotlib.figure.Figure at 0x7f31f00fd630>"
      ]
     },
     "metadata": {},
     "output_type": "display_data"
    },
    {
     "name": "stdout",
     "output_type": "stream",
     "text": [
      "time: 248 ms\n"
     ]
    }
   ],
   "source": [
    "plt.hist(df1[df1['SM_CO']<100]['SM_CO'])"
   ]
  },
  {
   "cell_type": "markdown",
   "metadata": {},
   "source": [
    "Find the minimum cost available in each session"
   ]
  },
  {
   "cell_type": "code",
   "execution_count": 114,
   "metadata": {
    "collapsed": false
   },
   "outputs": [
    {
     "name": "stdout",
     "output_type": "stream",
     "text": [
      "time: 5.95 ms\n"
     ]
    }
   ],
   "source": [
    "x =df1.loc[:,['SM_CO','TRAIN_CO','CAR_CO']].min(axis=1)"
   ]
  },
  {
   "cell_type": "markdown",
   "metadata": {},
   "source": [
    "As written here, not robust to zero values"
   ]
  },
  {
   "cell_type": "code",
   "execution_count": 115,
   "metadata": {
    "collapsed": false
   },
   "outputs": [
    {
     "data": {
      "text/plain": [
       "(array([  4.45900000e+03,   4.24400000e+03,   1.67800000e+03,\n",
       "          2.84000000e+02,   5.30000000e+01,   1.00000000e+00,\n",
       "          3.00000000e+00,   4.00000000e+00,   0.00000000e+00,\n",
       "          2.00000000e+00]),\n",
       " array([   0.,   52.,  104.,  156.,  208.,  260.,  312.,  364.,  416.,\n",
       "         468.,  520.]),\n",
       " <a list of 10 Patch objects>)"
      ]
     },
     "execution_count": 115,
     "metadata": {},
     "output_type": "execute_result"
    },
    {
     "data": {
      "image/png": "[encoded data removed]",
      "text/plain": [
       "<matplotlib.figure.Figure at 0x7f31eb779400>"
      ]
     },
     "metadata": {},
     "output_type": "display_data"
    },
    {
     "name": "stdout",
     "output_type": "stream",
     "text": [
      "time: 258 ms\n"
     ]
    }
   ],
   "source": [
    "plt.hist(x)"
   ]
  },
  {
   "cell_type": "code",
   "execution_count": 116,
   "metadata": {
    "collapsed": false
   },
   "outputs": [
    {
     "data": {
      "text/plain": [
       "(array([ 1683.,     0.,     0.,     0.,     0.,     0.,     0.,     0.,\n",
       "            0.,  9045.]),\n",
       " array([ 0. ,  0.1,  0.2,  0.3,  0.4,  0.5,  0.6,  0.7,  0.8,  0.9,  1. ]),\n",
       " <a list of 10 Patch objects>)"
      ]
     },
     "execution_count": 116,
     "metadata": {},
     "output_type": "execute_result"
    },
    {
     "data": {
      "image/png": "[encoded data removed]",
      "text/plain": [
       "<matplotlib.figure.Figure at 0x7f31eb6ef518>"
      ]
     },
     "metadata": {},
     "output_type": "display_data"
    },
    {
     "name": "stdout",
     "output_type": "stream",
     "text": [
      "time: 255 ms\n"
     ]
    }
   ],
   "source": [
    "plt.hist(x>0)"
   ]
  },
  {
   "cell_type": "markdown",
   "metadata": {},
   "source": [
    "1683 have their min = 0 "
   ]
  },
  {
   "cell_type": "markdown",
   "metadata": {},
   "source": [
    "Could it be the car cost?"
   ]
  },
  {
   "cell_type": "code",
   "execution_count": 117,
   "metadata": {
    "collapsed": false
   },
   "outputs": [
    {
     "name": "stdout",
     "output_type": "stream",
     "text": [
      "time: 10.4 ms\n"
     ]
    }
   ],
   "source": [
    "x = np.asarray(df1.loc[:,['SM_CO','TRAIN_CO','CAR_CO']].min(axis=1) ==0)"
   ]
  },
  {
   "cell_type": "code",
   "execution_count": 118,
   "metadata": {
    "collapsed": false
   },
   "outputs": [
    {
     "data": {
      "text/plain": [
       "array([False, False, False, ..., False, False, False], dtype=bool)"
      ]
     },
     "execution_count": 118,
     "metadata": {},
     "output_type": "execute_result"
    },
    {
     "name": "stdout",
     "output_type": "stream",
     "text": [
      "time: 5.84 ms\n"
     ]
    }
   ],
   "source": [
    "x"
   ]
  },
  {
   "cell_type": "code",
   "execution_count": 119,
   "metadata": {
    "collapsed": false
   },
   "outputs": [
    {
     "data": {
      "text/plain": [
       "0    1683\n",
       "Name: CAR_AV, dtype: int64"
      ]
     },
     "execution_count": 119,
     "metadata": {},
     "output_type": "execute_result"
    },
    {
     "name": "stdout",
     "output_type": "stream",
     "text": [
      "time: 10.2 ms\n"
     ]
    }
   ],
   "source": [
    "df1[np.asarray(x)]['CAR_AV'].value_counts()"
   ]
  },
  {
   "cell_type": "markdown",
   "metadata": {},
   "source": [
    "Yes, with high confidence, if the min is zero, it is the null car cost"
   ]
  },
  {
   "cell_type": "code",
   "execution_count": 122,
   "metadata": {
    "collapsed": false
   },
   "outputs": [
    {
     "data": {
      "text/plain": [
       "1    9045\n",
       "0    1683\n",
       "Name: CAR_AV, dtype: int64"
      ]
     },
     "execution_count": 122,
     "metadata": {},
     "output_type": "execute_result"
    },
    {
     "name": "stdout",
     "output_type": "stream",
     "text": [
      "time: 7.86 ms\n"
     ]
    }
   ],
   "source": [
    "df1['CAR_AV'].value_counts()"
   ]
  },
  {
   "cell_type": "code",
   "execution_count": 123,
   "metadata": {
    "collapsed": false
   },
   "outputs": [
    {
     "name": "stdout",
     "output_type": "stream",
     "text": [
      "time: 3.82 ms\n"
     ]
    }
   ],
   "source": [
    "x = df1.loc[:,['SM_CO','TRAIN_CO','CAR_CO']]"
   ]
  },
  {
   "cell_type": "markdown",
   "metadata": {},
   "source": [
    "May want to create a 2-part model given car availability -- but should the trees not learn that?"
   ]
  },
  {
   "cell_type": "code",
   "execution_count": 124,
   "metadata": {
    "collapsed": false
   },
   "outputs": [
    {
     "name": "stdout",
     "output_type": "stream",
     "text": [
      "time: 5.25 ms\n"
     ]
    }
   ],
   "source": [
    "def calc_valid_min(df):\n",
    "    x = df1.loc[:,['SM_CO','TRAIN_CO','CAR_CO']].min(axis=1)\n",
    "    for i in range(len(x)):\n",
    "        if x[i]==0:\n",
    "            x[i] = min(df1.loc[i,['SM_CO', 'TRAIN_CO']])\n",
    "    return x            "
   ]
  },
  {
   "cell_type": "code",
   "execution_count": 125,
   "metadata": {
    "collapsed": false
   },
   "outputs": [
    {
     "name": "stdout",
     "output_type": "stream",
     "text": [
      "time: 1.38 s\n"
     ]
    }
   ],
   "source": [
    "x1 = calc_valid_min(df1)"
   ]
  },
  {
   "cell_type": "code",
   "execution_count": 126,
   "metadata": {
    "collapsed": false
   },
   "outputs": [
    {
     "data": {
      "text/plain": [
       "(array([  9.95800000e+03,   5.00000000e+00,   0.00000000e+00,\n",
       "          1.20000000e+02,   1.92000000e+02,   1.48000000e+02,\n",
       "          1.61000000e+02,   4.80000000e+01,   4.60000000e+01,\n",
       "          5.00000000e+01]),\n",
       " array([  4.00000000e+00,   5.07600000e+02,   1.01120000e+03,\n",
       "          1.51480000e+03,   2.01840000e+03,   2.52200000e+03,\n",
       "          3.02560000e+03,   3.52920000e+03,   4.03280000e+03,\n",
       "          4.53640000e+03,   5.04000000e+03]),\n",
       " <a list of 10 Patch objects>)"
      ]
     },
     "execution_count": 126,
     "metadata": {},
     "output_type": "execute_result"
    },
    {
     "data": {
      "image/png": "[encoded data removed]",
      "text/plain": [
       "<matplotlib.figure.Figure at 0x7f31eb519c50>"
      ]
     },
     "metadata": {},
     "output_type": "display_data"
    },
    {
     "name": "stdout",
     "output_type": "stream",
     "text": [
      "time: 268 ms\n"
     ]
    }
   ],
   "source": [
    "plt.hist(x1)"
   ]
  },
  {
   "cell_type": "code",
   "execution_count": 127,
   "metadata": {
    "collapsed": false
   },
   "outputs": [
    {
     "data": {
      "text/plain": [
       "(array([  141.,   405.,   791.,   843.,  1067.,  1077.,   885.,   774.,\n",
       "          862.,   696.]),\n",
       " array([  4. ,  13.5,  23. ,  32.5,  42. ,  51.5,  61. ,  70.5,  80. ,\n",
       "         89.5,  99. ]),\n",
       " <a list of 10 Patch objects>)"
      ]
     },
     "execution_count": 127,
     "metadata": {},
     "output_type": "execute_result"
    },
    {
     "data": {
      "image/png": "[encoded data removed]",
      "text/plain": [
       "<matplotlib.figure.Figure at 0x7f31eb480be0>"
      ]
     },
     "metadata": {},
     "output_type": "display_data"
    },
    {
     "name": "stdout",
     "output_type": "stream",
     "text": [
      "time: 251 ms\n"
     ]
    }
   ],
   "source": [
    "plt.hist(x1[x1<100])"
   ]
  },
  {
   "cell_type": "code",
   "execution_count": 128,
   "metadata": {
    "collapsed": false,
    "scrolled": true
   },
   "outputs": [
    {
     "data": {
      "text/html": [
       "<div>\n",
       "<table border=\"1\" class=\"dataframe\">\n",
       "  <thead>\n",
       "    <tr style=\"text-align: right;\">\n",
       "      <th></th>\n",
       "      <th>TRAIN_CO</th>\n",
       "      <th>SM_CO</th>\n",
       "      <th>CAR_CO</th>\n",
       "    </tr>\n",
       "  </thead>\n",
       "  <tbody>\n",
       "    <tr>\n",
       "      <th>288</th>\n",
       "      <td>3120</td>\n",
       "      <td>3380</td>\n",
       "      <td>0</td>\n",
       "    </tr>\n",
       "    <tr>\n",
       "      <th>289</th>\n",
       "      <td>3120</td>\n",
       "      <td>4160</td>\n",
       "      <td>0</td>\n",
       "    </tr>\n",
       "    <tr>\n",
       "      <th>290</th>\n",
       "      <td>3120</td>\n",
       "      <td>3120</td>\n",
       "      <td>0</td>\n",
       "    </tr>\n",
       "    <tr>\n",
       "      <th>291</th>\n",
       "      <td>2600</td>\n",
       "      <td>4160</td>\n",
       "      <td>0</td>\n",
       "    </tr>\n",
       "    <tr>\n",
       "      <th>292</th>\n",
       "      <td>2340</td>\n",
       "      <td>3120</td>\n",
       "      <td>0</td>\n",
       "    </tr>\n",
       "    <tr>\n",
       "      <th>293</th>\n",
       "      <td>2340</td>\n",
       "      <td>4160</td>\n",
       "      <td>0</td>\n",
       "    </tr>\n",
       "    <tr>\n",
       "      <th>294</th>\n",
       "      <td>3120</td>\n",
       "      <td>4160</td>\n",
       "      <td>0</td>\n",
       "    </tr>\n",
       "    <tr>\n",
       "      <th>295</th>\n",
       "      <td>2600</td>\n",
       "      <td>3380</td>\n",
       "      <td>0</td>\n",
       "    </tr>\n",
       "    <tr>\n",
       "      <th>296</th>\n",
       "      <td>2340</td>\n",
       "      <td>3380</td>\n",
       "      <td>0</td>\n",
       "    </tr>\n",
       "    <tr>\n",
       "      <th>297</th>\n",
       "      <td>2600</td>\n",
       "      <td>3120</td>\n",
       "      <td>0</td>\n",
       "    </tr>\n",
       "    <tr>\n",
       "      <th>298</th>\n",
       "      <td>2600</td>\n",
       "      <td>4160</td>\n",
       "      <td>0</td>\n",
       "    </tr>\n",
       "    <tr>\n",
       "      <th>299</th>\n",
       "      <td>2340</td>\n",
       "      <td>4160</td>\n",
       "      <td>0</td>\n",
       "    </tr>\n",
       "    <tr>\n",
       "      <th>300</th>\n",
       "      <td>2340</td>\n",
       "      <td>4160</td>\n",
       "      <td>0</td>\n",
       "    </tr>\n",
       "    <tr>\n",
       "      <th>301</th>\n",
       "      <td>2600</td>\n",
       "      <td>3380</td>\n",
       "      <td>0</td>\n",
       "    </tr>\n",
       "    <tr>\n",
       "      <th>302</th>\n",
       "      <td>2340</td>\n",
       "      <td>3120</td>\n",
       "      <td>0</td>\n",
       "    </tr>\n",
       "    <tr>\n",
       "      <th>303</th>\n",
       "      <td>3120</td>\n",
       "      <td>3120</td>\n",
       "      <td>0</td>\n",
       "    </tr>\n",
       "    <tr>\n",
       "      <th>304</th>\n",
       "      <td>3120</td>\n",
       "      <td>3380</td>\n",
       "      <td>0</td>\n",
       "    </tr>\n",
       "    <tr>\n",
       "      <th>305</th>\n",
       "      <td>2600</td>\n",
       "      <td>4160</td>\n",
       "      <td>0</td>\n",
       "    </tr>\n",
       "    <tr>\n",
       "      <th>306</th>\n",
       "      <td>2600</td>\n",
       "      <td>3120</td>\n",
       "      <td>0</td>\n",
       "    </tr>\n",
       "    <tr>\n",
       "      <th>307</th>\n",
       "      <td>2340</td>\n",
       "      <td>4160</td>\n",
       "      <td>0</td>\n",
       "    </tr>\n",
       "    <tr>\n",
       "      <th>308</th>\n",
       "      <td>2600</td>\n",
       "      <td>4160</td>\n",
       "      <td>0</td>\n",
       "    </tr>\n",
       "    <tr>\n",
       "      <th>309</th>\n",
       "      <td>2340</td>\n",
       "      <td>4160</td>\n",
       "      <td>0</td>\n",
       "    </tr>\n",
       "    <tr>\n",
       "      <th>310</th>\n",
       "      <td>2600</td>\n",
       "      <td>3380</td>\n",
       "      <td>0</td>\n",
       "    </tr>\n",
       "    <tr>\n",
       "      <th>311</th>\n",
       "      <td>2340</td>\n",
       "      <td>3120</td>\n",
       "      <td>0</td>\n",
       "    </tr>\n",
       "    <tr>\n",
       "      <th>312</th>\n",
       "      <td>3120</td>\n",
       "      <td>3120</td>\n",
       "      <td>0</td>\n",
       "    </tr>\n",
       "    <tr>\n",
       "      <th>313</th>\n",
       "      <td>3120</td>\n",
       "      <td>3380</td>\n",
       "      <td>0</td>\n",
       "    </tr>\n",
       "    <tr>\n",
       "      <th>314</th>\n",
       "      <td>2600</td>\n",
       "      <td>4160</td>\n",
       "      <td>0</td>\n",
       "    </tr>\n",
       "    <tr>\n",
       "      <th>315</th>\n",
       "      <td>3120</td>\n",
       "      <td>3380</td>\n",
       "      <td>0</td>\n",
       "    </tr>\n",
       "    <tr>\n",
       "      <th>316</th>\n",
       "      <td>3120</td>\n",
       "      <td>3120</td>\n",
       "      <td>0</td>\n",
       "    </tr>\n",
       "    <tr>\n",
       "      <th>317</th>\n",
       "      <td>3120</td>\n",
       "      <td>4160</td>\n",
       "      <td>0</td>\n",
       "    </tr>\n",
       "    <tr>\n",
       "      <th>...</th>\n",
       "      <td>...</td>\n",
       "      <td>...</td>\n",
       "      <td>...</td>\n",
       "    </tr>\n",
       "    <tr>\n",
       "      <th>3588</th>\n",
       "      <td>2220</td>\n",
       "      <td>2405</td>\n",
       "      <td>0</td>\n",
       "    </tr>\n",
       "    <tr>\n",
       "      <th>3589</th>\n",
       "      <td>1850</td>\n",
       "      <td>2405</td>\n",
       "      <td>0</td>\n",
       "    </tr>\n",
       "    <tr>\n",
       "      <th>3590</th>\n",
       "      <td>2220</td>\n",
       "      <td>2960</td>\n",
       "      <td>0</td>\n",
       "    </tr>\n",
       "    <tr>\n",
       "      <th>3888</th>\n",
       "      <td>2220</td>\n",
       "      <td>2220</td>\n",
       "      <td>0</td>\n",
       "    </tr>\n",
       "    <tr>\n",
       "      <th>3889</th>\n",
       "      <td>1665</td>\n",
       "      <td>2220</td>\n",
       "      <td>0</td>\n",
       "    </tr>\n",
       "    <tr>\n",
       "      <th>3890</th>\n",
       "      <td>1665</td>\n",
       "      <td>2405</td>\n",
       "      <td>0</td>\n",
       "    </tr>\n",
       "    <tr>\n",
       "      <th>3891</th>\n",
       "      <td>1665</td>\n",
       "      <td>2405</td>\n",
       "      <td>0</td>\n",
       "    </tr>\n",
       "    <tr>\n",
       "      <th>3892</th>\n",
       "      <td>1850</td>\n",
       "      <td>2220</td>\n",
       "      <td>0</td>\n",
       "    </tr>\n",
       "    <tr>\n",
       "      <th>3893</th>\n",
       "      <td>1850</td>\n",
       "      <td>2220</td>\n",
       "      <td>0</td>\n",
       "    </tr>\n",
       "    <tr>\n",
       "      <th>3894</th>\n",
       "      <td>2220</td>\n",
       "      <td>2405</td>\n",
       "      <td>0</td>\n",
       "    </tr>\n",
       "    <tr>\n",
       "      <th>3895</th>\n",
       "      <td>1850</td>\n",
       "      <td>2405</td>\n",
       "      <td>0</td>\n",
       "    </tr>\n",
       "    <tr>\n",
       "      <th>3896</th>\n",
       "      <td>2220</td>\n",
       "      <td>2960</td>\n",
       "      <td>0</td>\n",
       "    </tr>\n",
       "    <tr>\n",
       "      <th>3897</th>\n",
       "      <td>2220</td>\n",
       "      <td>2405</td>\n",
       "      <td>0</td>\n",
       "    </tr>\n",
       "    <tr>\n",
       "      <th>3898</th>\n",
       "      <td>2220</td>\n",
       "      <td>2220</td>\n",
       "      <td>0</td>\n",
       "    </tr>\n",
       "    <tr>\n",
       "      <th>3899</th>\n",
       "      <td>2220</td>\n",
       "      <td>2960</td>\n",
       "      <td>0</td>\n",
       "    </tr>\n",
       "    <tr>\n",
       "      <th>3900</th>\n",
       "      <td>1850</td>\n",
       "      <td>2960</td>\n",
       "      <td>0</td>\n",
       "    </tr>\n",
       "    <tr>\n",
       "      <th>3901</th>\n",
       "      <td>1665</td>\n",
       "      <td>2220</td>\n",
       "      <td>0</td>\n",
       "    </tr>\n",
       "    <tr>\n",
       "      <th>3902</th>\n",
       "      <td>1665</td>\n",
       "      <td>2960</td>\n",
       "      <td>0</td>\n",
       "    </tr>\n",
       "    <tr>\n",
       "      <th>3903</th>\n",
       "      <td>2220</td>\n",
       "      <td>2960</td>\n",
       "      <td>0</td>\n",
       "    </tr>\n",
       "    <tr>\n",
       "      <th>3904</th>\n",
       "      <td>1665</td>\n",
       "      <td>2405</td>\n",
       "      <td>0</td>\n",
       "    </tr>\n",
       "    <tr>\n",
       "      <th>3905</th>\n",
       "      <td>1850</td>\n",
       "      <td>2405</td>\n",
       "      <td>0</td>\n",
       "    </tr>\n",
       "    <tr>\n",
       "      <th>3906</th>\n",
       "      <td>1850</td>\n",
       "      <td>2220</td>\n",
       "      <td>0</td>\n",
       "    </tr>\n",
       "    <tr>\n",
       "      <th>3907</th>\n",
       "      <td>1850</td>\n",
       "      <td>2960</td>\n",
       "      <td>0</td>\n",
       "    </tr>\n",
       "    <tr>\n",
       "      <th>3908</th>\n",
       "      <td>1665</td>\n",
       "      <td>2960</td>\n",
       "      <td>0</td>\n",
       "    </tr>\n",
       "    <tr>\n",
       "      <th>3909</th>\n",
       "      <td>1665</td>\n",
       "      <td>2960</td>\n",
       "      <td>0</td>\n",
       "    </tr>\n",
       "    <tr>\n",
       "      <th>3910</th>\n",
       "      <td>1850</td>\n",
       "      <td>2405</td>\n",
       "      <td>0</td>\n",
       "    </tr>\n",
       "    <tr>\n",
       "      <th>3911</th>\n",
       "      <td>1665</td>\n",
       "      <td>2220</td>\n",
       "      <td>0</td>\n",
       "    </tr>\n",
       "    <tr>\n",
       "      <th>3912</th>\n",
       "      <td>2220</td>\n",
       "      <td>2220</td>\n",
       "      <td>0</td>\n",
       "    </tr>\n",
       "    <tr>\n",
       "      <th>3913</th>\n",
       "      <td>2220</td>\n",
       "      <td>2405</td>\n",
       "      <td>0</td>\n",
       "    </tr>\n",
       "    <tr>\n",
       "      <th>3914</th>\n",
       "      <td>1850</td>\n",
       "      <td>2960</td>\n",
       "      <td>0</td>\n",
       "    </tr>\n",
       "  </tbody>\n",
       "</table>\n",
       "<p>765 rows × 3 columns</p>\n",
       "</div>"
      ],
      "text/plain": [
       "      TRAIN_CO  SM_CO  CAR_CO\n",
       "288       3120   3380       0\n",
       "289       3120   4160       0\n",
       "290       3120   3120       0\n",
       "291       2600   4160       0\n",
       "292       2340   3120       0\n",
       "293       2340   4160       0\n",
       "294       3120   4160       0\n",
       "295       2600   3380       0\n",
       "296       2340   3380       0\n",
       "297       2600   3120       0\n",
       "298       2600   4160       0\n",
       "299       2340   4160       0\n",
       "300       2340   4160       0\n",
       "301       2600   3380       0\n",
       "302       2340   3120       0\n",
       "303       3120   3120       0\n",
       "304       3120   3380       0\n",
       "305       2600   4160       0\n",
       "306       2600   3120       0\n",
       "307       2340   4160       0\n",
       "308       2600   4160       0\n",
       "309       2340   4160       0\n",
       "310       2600   3380       0\n",
       "311       2340   3120       0\n",
       "312       3120   3120       0\n",
       "313       3120   3380       0\n",
       "314       2600   4160       0\n",
       "315       3120   3380       0\n",
       "316       3120   3120       0\n",
       "317       3120   4160       0\n",
       "...        ...    ...     ...\n",
       "3588      2220   2405       0\n",
       "3589      1850   2405       0\n",
       "3590      2220   2960       0\n",
       "3888      2220   2220       0\n",
       "3889      1665   2220       0\n",
       "3890      1665   2405       0\n",
       "3891      1665   2405       0\n",
       "3892      1850   2220       0\n",
       "3893      1850   2220       0\n",
       "3894      2220   2405       0\n",
       "3895      1850   2405       0\n",
       "3896      2220   2960       0\n",
       "3897      2220   2405       0\n",
       "3898      2220   2220       0\n",
       "3899      2220   2960       0\n",
       "3900      1850   2960       0\n",
       "3901      1665   2220       0\n",
       "3902      1665   2960       0\n",
       "3903      2220   2960       0\n",
       "3904      1665   2405       0\n",
       "3905      1850   2405       0\n",
       "3906      1850   2220       0\n",
       "3907      1850   2960       0\n",
       "3908      1665   2960       0\n",
       "3909      1665   2960       0\n",
       "3910      1850   2405       0\n",
       "3911      1665   2220       0\n",
       "3912      2220   2220       0\n",
       "3913      2220   2405       0\n",
       "3914      1850   2960       0\n",
       "\n",
       "[765 rows x 3 columns]"
      ]
     },
     "execution_count": 128,
     "metadata": {},
     "output_type": "execute_result"
    },
    {
     "name": "stdout",
     "output_type": "stream",
     "text": [
      "time: 31.5 ms\n"
     ]
    }
   ],
   "source": [
    "df1.loc[x1>1000, ['TRAIN_CO','SM_CO','CAR_CO']]"
   ]
  },
  {
   "cell_type": "markdown",
   "metadata": {},
   "source": [
    "It is conceivably correct that those could have minima over 1000"
   ]
  },
  {
   "cell_type": "markdown",
   "metadata": {},
   "source": [
    "Are there any probability predicted for car choice when car is not available?  Probably!  Could do a transofrm "
   ]
  },
  {
   "cell_type": "code",
   "execution_count": 131,
   "metadata": {
    "collapsed": false
   },
   "outputs": [
    {
     "name": "stdout",
     "output_type": "stream",
     "text": [
      "time: 4.86 ms\n"
     ]
    }
   ],
   "source": [
    "df2 = df1[df1['CHOICE']!=0]"
   ]
  },
  {
   "cell_type": "code",
   "execution_count": 132,
   "metadata": {
    "collapsed": false
   },
   "outputs": [
    {
     "name": "stdout",
     "output_type": "stream",
     "text": [
      "time: 3.69 ms\n"
     ]
    }
   ],
   "source": [
    "df_tren = df2[df2['CHOICE'] !=3]"
   ]
  },
  {
   "cell_type": "code",
   "execution_count": 133,
   "metadata": {
    "collapsed": false
   },
   "outputs": [
    {
     "name": "stdout",
     "output_type": "stream",
     "text": [
      "time: 3.12 ms\n"
     ]
    }
   ],
   "source": [
    "df_car = copy.deepcopy(df2)"
   ]
  },
  {
   "cell_type": "code",
   "execution_count": 134,
   "metadata": {
    "collapsed": false
   },
   "outputs": [
    {
     "name": "stdout",
     "output_type": "stream",
     "text": [
      "time: 4.02 ms\n"
     ]
    }
   ],
   "source": [
    "df_car['CHOICE'] = np.asarray(df_car['CHOICE'] ==3)"
   ]
  },
  {
   "cell_type": "code",
   "execution_count": 135,
   "metadata": {
    "collapsed": false
   },
   "outputs": [
    {
     "name": "stdout",
     "output_type": "stream",
     "text": [
      "time: 205 ms\n"
     ]
    },
    {
     "name": "stderr",
     "output_type": "stream",
     "text": [
      "/home/atproofer/anaconda3/lib/python3.5/site-packages/ipykernel/__main__.py:1: SettingWithCopyWarning: \n",
      "A value is trying to be set on a copy of a slice from a DataFrame.\n",
      "Try using .loc[row_indexer,col_indexer] = value instead\n",
      "\n",
      "See the caveats in the documentation: http://pandas.pydata.org/pandas-docs/stable/indexing.html#indexing-view-versus-copy\n",
      "  if __name__ == '__main__':\n"
     ]
    }
   ],
   "source": [
    "df_tren['CHOICE'] = np.asarray(df_tren['CHOICE'] ==1)"
   ]
  },
  {
   "cell_type": "markdown",
   "metadata": {},
   "source": [
    "Choice == 1 represents that the choice is train, 0 represents choice is SM"
   ]
  },
  {
   "cell_type": "raw",
   "metadata": {},
   "source": [
    "Other ways to handle the same problem: treat each choice set within a single line as a session, get a utility estimate for every alt, and then do ranking.  \n",
    "\n",
    "The ratio feats can be calculated for each line, then copied into each alternative line as the rows are duplicated.  \n",
    "\n",
    "Can append a unique indentifier to the individual number to get an alternative number, or just have another column for alternative number\n",
    "\n",
    "The subdivision training method might be useful. Compare against session method: \n",
    "Subdivision method:\n",
    "create a more specified model that does not rely on the tree finding the CAR_AV or cost = 0 split each time.  More training to the specific question, but less training data.  Slightly more complex scoring.  It is really just a random forest with a hard-coded split.  -- Isn't this it?  \n",
    "\n",
    "Without:\n",
    "No hard-coded split, but car alt is not listed where inapplicable, so no issue of choosing car alt incorrectly.  Then have to transform prediction back into other form\n",
    "\n",
    "Could calculate the simple accuracy from sessions;\n",
    "could also break out by choice\n",
    "and do a confusion matrix \n",
    "by discretized prediction\n",
    "or by share\n",
    "\n",
    "need better guidance on what the goal should be before making decisions about what to measure and what the correct format is\n",
    "\n",
    "however, we can add the ratio based features now"
   ]
  },
  {
   "cell_type": "code",
   "execution_count": 136,
   "metadata": {
    "collapsed": false
   },
   "outputs": [
    {
     "data": {
      "text/plain": [
       "Index(['SURVEY', 'ID', 'PURPOSE', 'FIRST', 'TICKET', 'WHO', 'LUGGAGE', 'AGE',\n",
       "       'MALE', 'INCOME', 'GA', 'ORIGIN', 'DEST', 'CAR_AV', 'TRAIN_TT',\n",
       "       'TRAIN_CO', 'TRAIN_HE', 'SM_TT', 'SM_CO', 'SM_HE', 'SM_SEATS', 'CAR_TT',\n",
       "       'CAR_CO', 'CHOICE'],\n",
       "      dtype='object')"
      ]
     },
     "execution_count": 136,
     "metadata": {},
     "output_type": "execute_result"
    },
    {
     "name": "stdout",
     "output_type": "stream",
     "text": [
      "time: 5.02 ms\n"
     ]
    }
   ],
   "source": [
    "df2.columns"
   ]
  },
  {
   "cell_type": "code",
   "execution_count": 137,
   "metadata": {
    "collapsed": true
   },
   "outputs": [
    {
     "data": {
      "text/plain": [
       "0        48\n",
       "1        48\n",
       "2        48\n",
       "3        40\n",
       "4        36\n",
       "5        36\n",
       "6        48\n",
       "7        36\n",
       "8        40\n",
       "9        62\n",
       "10       62\n",
       "11       62\n",
       "12       52\n",
       "13       47\n",
       "14       47\n",
       "15       62\n",
       "16       47\n",
       "17       52\n",
       "18       32\n",
       "19       29\n",
       "20       32\n",
       "21       29\n",
       "22       32\n",
       "23       38\n",
       "24       29\n",
       "25       32\n",
       "26       38\n",
       "27       40\n",
       "28       40\n",
       "29       36\n",
       "         ..\n",
       "10698    23\n",
       "10699    19\n",
       "10700    23\n",
       "10701    19\n",
       "10702    19\n",
       "10703    17\n",
       "10704    17\n",
       "10705    19\n",
       "10706    17\n",
       "10707    23\n",
       "10708    23\n",
       "10709    19\n",
       "10710    19\n",
       "10711    19\n",
       "10712    17\n",
       "10713    17\n",
       "10714    19\n",
       "10715    17\n",
       "10716    23\n",
       "10717    23\n",
       "10718    19\n",
       "10719    13\n",
       "10720    13\n",
       "10721    12\n",
       "10722    12\n",
       "10723    13\n",
       "10724    12\n",
       "10725    16\n",
       "10726    16\n",
       "10727    13\n",
       "dtype: int64"
      ]
     },
     "execution_count": 137,
     "metadata": {},
     "output_type": "execute_result"
    },
    {
     "name": "stdout",
     "output_type": "stream",
     "text": [
      "time: 12.2 ms\n"
     ]
    }
   ],
   "source": [
    "x1"
   ]
  },
  {
   "cell_type": "code",
   "execution_count": 138,
   "metadata": {
    "collapsed": false
   },
   "outputs": [
    {
     "data": {
      "text/plain": [
       "10728"
      ]
     },
     "execution_count": 138,
     "metadata": {},
     "output_type": "execute_result"
    },
    {
     "name": "stdout",
     "output_type": "stream",
     "text": [
      "time: 5.03 ms\n"
     ]
    }
   ],
   "source": [
    "len(x1)"
   ]
  },
  {
   "cell_type": "code",
   "execution_count": 139,
   "metadata": {
    "collapsed": false
   },
   "outputs": [
    {
     "data": {
      "text/plain": [
       "10719"
      ]
     },
     "execution_count": 139,
     "metadata": {},
     "output_type": "execute_result"
    },
    {
     "name": "stdout",
     "output_type": "stream",
     "text": [
      "time: 3.58 ms\n"
     ]
    }
   ],
   "source": [
    "len(df2)"
   ]
  },
  {
   "cell_type": "code",
   "execution_count": 140,
   "metadata": {
    "collapsed": false
   },
   "outputs": [
    {
     "name": "stdout",
     "output_type": "stream",
     "text": [
      "time: 210 ms\n"
     ]
    },
    {
     "name": "stderr",
     "output_type": "stream",
     "text": [
      "/home/atproofer/anaconda3/lib/python3.5/site-packages/ipykernel/__main__.py:1: SettingWithCopyWarning: \n",
      "A value is trying to be set on a copy of a slice from a DataFrame.\n",
      "Try using .loc[row_indexer,col_indexer] = value instead\n",
      "\n",
      "See the caveats in the documentation: http://pandas.pydata.org/pandas-docs/stable/indexing.html#indexing-view-versus-copy\n",
      "  if __name__ == '__main__':\n"
     ]
    }
   ],
   "source": [
    "df2['min_CO'] = x1"
   ]
  },
  {
   "cell_type": "code",
   "execution_count": 141,
   "metadata": {
    "collapsed": false
   },
   "outputs": [
    {
     "data": {
      "text/plain": [
       "Index(['SURVEY', 'ID', 'PURPOSE', 'FIRST', 'TICKET', 'WHO', 'LUGGAGE', 'AGE',\n",
       "       'MALE', 'INCOME', 'GA', 'ORIGIN', 'DEST', 'CAR_AV', 'TRAIN_TT',\n",
       "       'TRAIN_CO', 'TRAIN_HE', 'SM_TT', 'SM_CO', 'SM_HE', 'SM_SEATS', 'CAR_TT',\n",
       "       'CAR_CO', 'CHOICE', 'min_CO'],\n",
       "      dtype='object')"
      ]
     },
     "execution_count": 141,
     "metadata": {},
     "output_type": "execute_result"
    },
    {
     "name": "stdout",
     "output_type": "stream",
     "text": [
      "time: 7.44 ms\n"
     ]
    }
   ],
   "source": [
    "df2.columns"
   ]
  },
  {
   "cell_type": "code",
   "execution_count": 142,
   "metadata": {
    "collapsed": true
   },
   "outputs": [
    {
     "data": {
      "text/plain": [
       "0        48\n",
       "1        48\n",
       "2        48\n",
       "3        40\n",
       "4        36\n",
       "5        36\n",
       "6        48\n",
       "7        36\n",
       "8        40\n",
       "9        62\n",
       "10       62\n",
       "11       62\n",
       "12       52\n",
       "13       47\n",
       "14       47\n",
       "15       62\n",
       "16       47\n",
       "17       52\n",
       "18       32\n",
       "19       29\n",
       "20       32\n",
       "21       29\n",
       "22       32\n",
       "23       38\n",
       "24       29\n",
       "25       32\n",
       "26       38\n",
       "27       40\n",
       "28       40\n",
       "29       36\n",
       "         ..\n",
       "10698    23\n",
       "10699    19\n",
       "10700    23\n",
       "10701    19\n",
       "10702    19\n",
       "10703    17\n",
       "10704    17\n",
       "10705    19\n",
       "10706    17\n",
       "10707    23\n",
       "10708    23\n",
       "10709    19\n",
       "10710    19\n",
       "10711    19\n",
       "10712    17\n",
       "10713    17\n",
       "10714    19\n",
       "10715    17\n",
       "10716    23\n",
       "10717    23\n",
       "10718    19\n",
       "10719    13\n",
       "10720    13\n",
       "10721    12\n",
       "10722    12\n",
       "10723    13\n",
       "10724    12\n",
       "10725    16\n",
       "10726    16\n",
       "10727    13\n",
       "dtype: int64"
      ]
     },
     "execution_count": 142,
     "metadata": {},
     "output_type": "execute_result"
    },
    {
     "name": "stdout",
     "output_type": "stream",
     "text": [
      "time: 9.39 ms\n"
     ]
    }
   ],
   "source": [
    "x1"
   ]
  },
  {
   "cell_type": "code",
   "execution_count": 143,
   "metadata": {
    "collapsed": true
   },
   "outputs": [
    {
     "data": {
      "text/plain": [
       "0        48\n",
       "1        48\n",
       "2        48\n",
       "3        40\n",
       "4        36\n",
       "5        36\n",
       "6        48\n",
       "7        36\n",
       "8        40\n",
       "9        62\n",
       "10       62\n",
       "11       62\n",
       "12       52\n",
       "13       47\n",
       "14       47\n",
       "15       62\n",
       "16       47\n",
       "17       52\n",
       "18       32\n",
       "19       29\n",
       "20       32\n",
       "21       29\n",
       "22       32\n",
       "23       38\n",
       "24       29\n",
       "25       32\n",
       "26       38\n",
       "27       40\n",
       "28       40\n",
       "29       36\n",
       "         ..\n",
       "10698    23\n",
       "10699    19\n",
       "10700    23\n",
       "10701    19\n",
       "10702    19\n",
       "10703    17\n",
       "10704    17\n",
       "10705    19\n",
       "10706    17\n",
       "10707    23\n",
       "10708    23\n",
       "10709    19\n",
       "10710    19\n",
       "10711    19\n",
       "10712    17\n",
       "10713    17\n",
       "10714    19\n",
       "10715    17\n",
       "10716    23\n",
       "10717    23\n",
       "10718    19\n",
       "10719    13\n",
       "10720    13\n",
       "10721    12\n",
       "10722    12\n",
       "10723    13\n",
       "10724    12\n",
       "10725    16\n",
       "10726    16\n",
       "10727    13\n",
       "Name: min_CO, dtype: int64"
      ]
     },
     "execution_count": 143,
     "metadata": {},
     "output_type": "execute_result"
    },
    {
     "name": "stdout",
     "output_type": "stream",
     "text": [
      "time: 11.4 ms\n"
     ]
    }
   ],
   "source": [
    "df2['min_CO']"
   ]
  },
  {
   "cell_type": "code",
   "execution_count": 144,
   "metadata": {
    "collapsed": false
   },
   "outputs": [
    {
     "data": {
      "text/plain": [
       "10719"
      ]
     },
     "execution_count": 144,
     "metadata": {},
     "output_type": "execute_result"
    },
    {
     "name": "stdout",
     "output_type": "stream",
     "text": [
      "time: 4.58 ms\n"
     ]
    }
   ],
   "source": [
    "len(df2)"
   ]
  },
  {
   "cell_type": "markdown",
   "metadata": {},
   "source": [
    "did it actually do index matching?"
   ]
  },
  {
   "cell_type": "code",
   "execution_count": 145,
   "metadata": {
    "collapsed": false
   },
   "outputs": [
    {
     "data": {
      "text/html": [
       "<div>\n",
       "<table border=\"1\" class=\"dataframe\">\n",
       "  <thead>\n",
       "    <tr style=\"text-align: right;\">\n",
       "      <th></th>\n",
       "      <th>SURVEY</th>\n",
       "      <th>ID</th>\n",
       "      <th>PURPOSE</th>\n",
       "      <th>FIRST</th>\n",
       "      <th>TICKET</th>\n",
       "      <th>WHO</th>\n",
       "      <th>LUGGAGE</th>\n",
       "      <th>AGE</th>\n",
       "      <th>MALE</th>\n",
       "      <th>INCOME</th>\n",
       "      <th>...</th>\n",
       "      <th>TRAIN_TT</th>\n",
       "      <th>TRAIN_CO</th>\n",
       "      <th>TRAIN_HE</th>\n",
       "      <th>SM_TT</th>\n",
       "      <th>SM_CO</th>\n",
       "      <th>SM_HE</th>\n",
       "      <th>SM_SEATS</th>\n",
       "      <th>CAR_TT</th>\n",
       "      <th>CAR_CO</th>\n",
       "      <th>CHOICE</th>\n",
       "    </tr>\n",
       "  </thead>\n",
       "  <tbody>\n",
       "    <tr>\n",
       "      <th>1782</th>\n",
       "      <td>0</td>\n",
       "      <td>199</td>\n",
       "      <td>2</td>\n",
       "      <td>1</td>\n",
       "      <td>6</td>\n",
       "      <td>1</td>\n",
       "      <td>1</td>\n",
       "      <td>3</td>\n",
       "      <td>0</td>\n",
       "      <td>4</td>\n",
       "      <td>...</td>\n",
       "      <td>106</td>\n",
       "      <td>5040</td>\n",
       "      <td>120</td>\n",
       "      <td>64</td>\n",
       "      <td>5040</td>\n",
       "      <td>30</td>\n",
       "      <td>1</td>\n",
       "      <td>90</td>\n",
       "      <td>50</td>\n",
       "      <td>0</td>\n",
       "    </tr>\n",
       "    <tr>\n",
       "      <th>1783</th>\n",
       "      <td>0</td>\n",
       "      <td>199</td>\n",
       "      <td>2</td>\n",
       "      <td>1</td>\n",
       "      <td>6</td>\n",
       "      <td>1</td>\n",
       "      <td>1</td>\n",
       "      <td>3</td>\n",
       "      <td>0</td>\n",
       "      <td>4</td>\n",
       "      <td>...</td>\n",
       "      <td>106</td>\n",
       "      <td>3780</td>\n",
       "      <td>120</td>\n",
       "      <td>68</td>\n",
       "      <td>5460</td>\n",
       "      <td>20</td>\n",
       "      <td>1</td>\n",
       "      <td>72</td>\n",
       "      <td>40</td>\n",
       "      <td>0</td>\n",
       "    </tr>\n",
       "    <tr>\n",
       "      <th>1784</th>\n",
       "      <td>0</td>\n",
       "      <td>199</td>\n",
       "      <td>2</td>\n",
       "      <td>1</td>\n",
       "      <td>6</td>\n",
       "      <td>1</td>\n",
       "      <td>1</td>\n",
       "      <td>3</td>\n",
       "      <td>0</td>\n",
       "      <td>4</td>\n",
       "      <td>...</td>\n",
       "      <td>82</td>\n",
       "      <td>3780</td>\n",
       "      <td>120</td>\n",
       "      <td>66</td>\n",
       "      <td>5040</td>\n",
       "      <td>30</td>\n",
       "      <td>0</td>\n",
       "      <td>117</td>\n",
       "      <td>40</td>\n",
       "      <td>0</td>\n",
       "    </tr>\n",
       "    <tr>\n",
       "      <th>1785</th>\n",
       "      <td>0</td>\n",
       "      <td>199</td>\n",
       "      <td>2</td>\n",
       "      <td>1</td>\n",
       "      <td>6</td>\n",
       "      <td>1</td>\n",
       "      <td>1</td>\n",
       "      <td>3</td>\n",
       "      <td>0</td>\n",
       "      <td>4</td>\n",
       "      <td>...</td>\n",
       "      <td>90</td>\n",
       "      <td>3780</td>\n",
       "      <td>60</td>\n",
       "      <td>68</td>\n",
       "      <td>5460</td>\n",
       "      <td>10</td>\n",
       "      <td>0</td>\n",
       "      <td>117</td>\n",
       "      <td>65</td>\n",
       "      <td>0</td>\n",
       "    </tr>\n",
       "    <tr>\n",
       "      <th>1786</th>\n",
       "      <td>0</td>\n",
       "      <td>199</td>\n",
       "      <td>2</td>\n",
       "      <td>1</td>\n",
       "      <td>6</td>\n",
       "      <td>1</td>\n",
       "      <td>1</td>\n",
       "      <td>3</td>\n",
       "      <td>0</td>\n",
       "      <td>4</td>\n",
       "      <td>...</td>\n",
       "      <td>90</td>\n",
       "      <td>4200</td>\n",
       "      <td>120</td>\n",
       "      <td>68</td>\n",
       "      <td>5040</td>\n",
       "      <td>30</td>\n",
       "      <td>0</td>\n",
       "      <td>72</td>\n",
       "      <td>65</td>\n",
       "      <td>0</td>\n",
       "    </tr>\n",
       "    <tr>\n",
       "      <th>1787</th>\n",
       "      <td>0</td>\n",
       "      <td>199</td>\n",
       "      <td>2</td>\n",
       "      <td>1</td>\n",
       "      <td>6</td>\n",
       "      <td>1</td>\n",
       "      <td>1</td>\n",
       "      <td>3</td>\n",
       "      <td>0</td>\n",
       "      <td>4</td>\n",
       "      <td>...</td>\n",
       "      <td>82</td>\n",
       "      <td>5040</td>\n",
       "      <td>60</td>\n",
       "      <td>66</td>\n",
       "      <td>5460</td>\n",
       "      <td>10</td>\n",
       "      <td>1</td>\n",
       "      <td>90</td>\n",
       "      <td>40</td>\n",
       "      <td>0</td>\n",
       "    </tr>\n",
       "    <tr>\n",
       "      <th>1788</th>\n",
       "      <td>0</td>\n",
       "      <td>199</td>\n",
       "      <td>2</td>\n",
       "      <td>1</td>\n",
       "      <td>6</td>\n",
       "      <td>1</td>\n",
       "      <td>1</td>\n",
       "      <td>3</td>\n",
       "      <td>0</td>\n",
       "      <td>4</td>\n",
       "      <td>...</td>\n",
       "      <td>82</td>\n",
       "      <td>4200</td>\n",
       "      <td>60</td>\n",
       "      <td>68</td>\n",
       "      <td>5040</td>\n",
       "      <td>20</td>\n",
       "      <td>1</td>\n",
       "      <td>117</td>\n",
       "      <td>50</td>\n",
       "      <td>0</td>\n",
       "    </tr>\n",
       "    <tr>\n",
       "      <th>1789</th>\n",
       "      <td>0</td>\n",
       "      <td>199</td>\n",
       "      <td>2</td>\n",
       "      <td>1</td>\n",
       "      <td>6</td>\n",
       "      <td>1</td>\n",
       "      <td>1</td>\n",
       "      <td>3</td>\n",
       "      <td>0</td>\n",
       "      <td>4</td>\n",
       "      <td>...</td>\n",
       "      <td>90</td>\n",
       "      <td>5040</td>\n",
       "      <td>30</td>\n",
       "      <td>68</td>\n",
       "      <td>6720</td>\n",
       "      <td>20</td>\n",
       "      <td>1</td>\n",
       "      <td>90</td>\n",
       "      <td>65</td>\n",
       "      <td>0</td>\n",
       "    </tr>\n",
       "    <tr>\n",
       "      <th>1790</th>\n",
       "      <td>0</td>\n",
       "      <td>199</td>\n",
       "      <td>2</td>\n",
       "      <td>1</td>\n",
       "      <td>6</td>\n",
       "      <td>1</td>\n",
       "      <td>1</td>\n",
       "      <td>3</td>\n",
       "      <td>0</td>\n",
       "      <td>4</td>\n",
       "      <td>...</td>\n",
       "      <td>82</td>\n",
       "      <td>4200</td>\n",
       "      <td>120</td>\n",
       "      <td>64</td>\n",
       "      <td>5460</td>\n",
       "      <td>20</td>\n",
       "      <td>0</td>\n",
       "      <td>90</td>\n",
       "      <td>65</td>\n",
       "      <td>0</td>\n",
       "    </tr>\n",
       "  </tbody>\n",
       "</table>\n",
       "<p>9 rows × 24 columns</p>\n",
       "</div>"
      ],
      "text/plain": [
       "      SURVEY   ID  PURPOSE  FIRST  TICKET  WHO  LUGGAGE  AGE  MALE  INCOME  \\\n",
       "1782       0  199        2      1       6    1        1    3     0       4   \n",
       "1783       0  199        2      1       6    1        1    3     0       4   \n",
       "1784       0  199        2      1       6    1        1    3     0       4   \n",
       "1785       0  199        2      1       6    1        1    3     0       4   \n",
       "1786       0  199        2      1       6    1        1    3     0       4   \n",
       "1787       0  199        2      1       6    1        1    3     0       4   \n",
       "1788       0  199        2      1       6    1        1    3     0       4   \n",
       "1789       0  199        2      1       6    1        1    3     0       4   \n",
       "1790       0  199        2      1       6    1        1    3     0       4   \n",
       "\n",
       "       ...    TRAIN_TT  TRAIN_CO  TRAIN_HE  SM_TT  SM_CO  SM_HE  SM_SEATS  \\\n",
       "1782   ...         106      5040       120     64   5040     30         1   \n",
       "1783   ...         106      3780       120     68   5460     20         1   \n",
       "1784   ...          82      3780       120     66   5040     30         0   \n",
       "1785   ...          90      3780        60     68   5460     10         0   \n",
       "1786   ...          90      4200       120     68   5040     30         0   \n",
       "1787   ...          82      5040        60     66   5460     10         1   \n",
       "1788   ...          82      4200        60     68   5040     20         1   \n",
       "1789   ...          90      5040        30     68   6720     20         1   \n",
       "1790   ...          82      4200       120     64   5460     20         0   \n",
       "\n",
       "      CAR_TT  CAR_CO  CHOICE  \n",
       "1782      90      50       0  \n",
       "1783      72      40       0  \n",
       "1784     117      40       0  \n",
       "1785     117      65       0  \n",
       "1786      72      65       0  \n",
       "1787      90      40       0  \n",
       "1788     117      50       0  \n",
       "1789      90      65       0  \n",
       "1790      90      65       0  \n",
       "\n",
       "[9 rows x 24 columns]"
      ]
     },
     "execution_count": 145,
     "metadata": {},
     "output_type": "execute_result"
    },
    {
     "name": "stdout",
     "output_type": "stream",
     "text": [
      "time: 60.7 ms\n"
     ]
    }
   ],
   "source": [
    "df1[df1['CHOICE'] == 0]"
   ]
  },
  {
   "cell_type": "code",
   "execution_count": 146,
   "metadata": {
    "collapsed": false
   },
   "outputs": [
    {
     "data": {
      "text/html": [
       "<div>\n",
       "<table border=\"1\" class=\"dataframe\">\n",
       "  <thead>\n",
       "    <tr style=\"text-align: right;\">\n",
       "      <th></th>\n",
       "      <th>SURVEY</th>\n",
       "      <th>ID</th>\n",
       "      <th>PURPOSE</th>\n",
       "      <th>FIRST</th>\n",
       "      <th>TICKET</th>\n",
       "      <th>WHO</th>\n",
       "      <th>LUGGAGE</th>\n",
       "      <th>AGE</th>\n",
       "      <th>MALE</th>\n",
       "      <th>INCOME</th>\n",
       "      <th>...</th>\n",
       "      <th>TRAIN_CO</th>\n",
       "      <th>TRAIN_HE</th>\n",
       "      <th>SM_TT</th>\n",
       "      <th>SM_CO</th>\n",
       "      <th>SM_HE</th>\n",
       "      <th>SM_SEATS</th>\n",
       "      <th>CAR_TT</th>\n",
       "      <th>CAR_CO</th>\n",
       "      <th>CHOICE</th>\n",
       "      <th>min_CO</th>\n",
       "    </tr>\n",
       "  </thead>\n",
       "  <tbody>\n",
       "  </tbody>\n",
       "</table>\n",
       "<p>0 rows × 25 columns</p>\n",
       "</div>"
      ],
      "text/plain": [
       "Empty DataFrame\n",
       "Columns: [SURVEY, ID, PURPOSE, FIRST, TICKET, WHO, LUGGAGE, AGE, MALE, INCOME, GA, ORIGIN, DEST, CAR_AV, TRAIN_TT, TRAIN_CO, TRAIN_HE, SM_TT, SM_CO, SM_HE, SM_SEATS, CAR_TT, CAR_CO, CHOICE, min_CO]\n",
       "Index: []\n",
       "\n",
       "[0 rows x 25 columns]"
      ]
     },
     "execution_count": 146,
     "metadata": {},
     "output_type": "execute_result"
    },
    {
     "name": "stdout",
     "output_type": "stream",
     "text": [
      "time: 22 ms\n"
     ]
    }
   ],
   "source": [
    "df2[df2['CHOICE'] == 0]"
   ]
  },
  {
   "cell_type": "code",
   "execution_count": 147,
   "metadata": {
    "collapsed": true
   },
   "outputs": [
    {
     "data": {
      "text/html": [
       "<div>\n",
       "<table border=\"1\" class=\"dataframe\">\n",
       "  <thead>\n",
       "    <tr style=\"text-align: right;\">\n",
       "      <th></th>\n",
       "      <th>SURVEY</th>\n",
       "      <th>ID</th>\n",
       "      <th>PURPOSE</th>\n",
       "      <th>FIRST</th>\n",
       "      <th>TICKET</th>\n",
       "      <th>WHO</th>\n",
       "      <th>LUGGAGE</th>\n",
       "      <th>AGE</th>\n",
       "      <th>MALE</th>\n",
       "      <th>INCOME</th>\n",
       "      <th>...</th>\n",
       "      <th>TRAIN_CO</th>\n",
       "      <th>TRAIN_HE</th>\n",
       "      <th>SM_TT</th>\n",
       "      <th>SM_CO</th>\n",
       "      <th>SM_HE</th>\n",
       "      <th>SM_SEATS</th>\n",
       "      <th>CAR_TT</th>\n",
       "      <th>CAR_CO</th>\n",
       "      <th>CHOICE</th>\n",
       "      <th>min_CO</th>\n",
       "    </tr>\n",
       "  </thead>\n",
       "  <tbody>\n",
       "    <tr>\n",
       "      <th>1780</th>\n",
       "      <td>0</td>\n",
       "      <td>198</td>\n",
       "      <td>2</td>\n",
       "      <td>1</td>\n",
       "      <td>6</td>\n",
       "      <td>1</td>\n",
       "      <td>1</td>\n",
       "      <td>2</td>\n",
       "      <td>1</td>\n",
       "      <td>2</td>\n",
       "      <td>...</td>\n",
       "      <td>5040</td>\n",
       "      <td>30</td>\n",
       "      <td>45</td>\n",
       "      <td>5460</td>\n",
       "      <td>30</td>\n",
       "      <td>0</td>\n",
       "      <td>72</td>\n",
       "      <td>65</td>\n",
       "      <td>2</td>\n",
       "      <td>65</td>\n",
       "    </tr>\n",
       "    <tr>\n",
       "      <th>1781</th>\n",
       "      <td>0</td>\n",
       "      <td>198</td>\n",
       "      <td>2</td>\n",
       "      <td>1</td>\n",
       "      <td>6</td>\n",
       "      <td>1</td>\n",
       "      <td>1</td>\n",
       "      <td>2</td>\n",
       "      <td>1</td>\n",
       "      <td>2</td>\n",
       "      <td>...</td>\n",
       "      <td>4200</td>\n",
       "      <td>60</td>\n",
       "      <td>45</td>\n",
       "      <td>6720</td>\n",
       "      <td>30</td>\n",
       "      <td>0</td>\n",
       "      <td>90</td>\n",
       "      <td>50</td>\n",
       "      <td>2</td>\n",
       "      <td>50</td>\n",
       "    </tr>\n",
       "    <tr>\n",
       "      <th>1791</th>\n",
       "      <td>0</td>\n",
       "      <td>200</td>\n",
       "      <td>2</td>\n",
       "      <td>1</td>\n",
       "      <td>6</td>\n",
       "      <td>1</td>\n",
       "      <td>1</td>\n",
       "      <td>3</td>\n",
       "      <td>1</td>\n",
       "      <td>2</td>\n",
       "      <td>...</td>\n",
       "      <td>5040</td>\n",
       "      <td>120</td>\n",
       "      <td>31</td>\n",
       "      <td>5040</td>\n",
       "      <td>30</td>\n",
       "      <td>1</td>\n",
       "      <td>0</td>\n",
       "      <td>0</td>\n",
       "      <td>2</td>\n",
       "      <td>5040</td>\n",
       "    </tr>\n",
       "    <tr>\n",
       "      <th>1792</th>\n",
       "      <td>0</td>\n",
       "      <td>200</td>\n",
       "      <td>2</td>\n",
       "      <td>1</td>\n",
       "      <td>6</td>\n",
       "      <td>1</td>\n",
       "      <td>1</td>\n",
       "      <td>3</td>\n",
       "      <td>1</td>\n",
       "      <td>2</td>\n",
       "      <td>...</td>\n",
       "      <td>3780</td>\n",
       "      <td>120</td>\n",
       "      <td>34</td>\n",
       "      <td>5040</td>\n",
       "      <td>30</td>\n",
       "      <td>0</td>\n",
       "      <td>0</td>\n",
       "      <td>0</td>\n",
       "      <td>2</td>\n",
       "      <td>3780</td>\n",
       "    </tr>\n",
       "    <tr>\n",
       "      <th>1793</th>\n",
       "      <td>0</td>\n",
       "      <td>200</td>\n",
       "      <td>2</td>\n",
       "      <td>1</td>\n",
       "      <td>6</td>\n",
       "      <td>1</td>\n",
       "      <td>1</td>\n",
       "      <td>3</td>\n",
       "      <td>1</td>\n",
       "      <td>2</td>\n",
       "      <td>...</td>\n",
       "      <td>3780</td>\n",
       "      <td>120</td>\n",
       "      <td>38</td>\n",
       "      <td>5460</td>\n",
       "      <td>20</td>\n",
       "      <td>1</td>\n",
       "      <td>0</td>\n",
       "      <td>0</td>\n",
       "      <td>2</td>\n",
       "      <td>3780</td>\n",
       "    </tr>\n",
       "    <tr>\n",
       "      <th>1794</th>\n",
       "      <td>0</td>\n",
       "      <td>200</td>\n",
       "      <td>2</td>\n",
       "      <td>1</td>\n",
       "      <td>6</td>\n",
       "      <td>1</td>\n",
       "      <td>1</td>\n",
       "      <td>3</td>\n",
       "      <td>1</td>\n",
       "      <td>2</td>\n",
       "      <td>...</td>\n",
       "      <td>3780</td>\n",
       "      <td>60</td>\n",
       "      <td>38</td>\n",
       "      <td>5460</td>\n",
       "      <td>10</td>\n",
       "      <td>0</td>\n",
       "      <td>0</td>\n",
       "      <td>0</td>\n",
       "      <td>1</td>\n",
       "      <td>3780</td>\n",
       "    </tr>\n",
       "    <tr>\n",
       "      <th>1795</th>\n",
       "      <td>0</td>\n",
       "      <td>200</td>\n",
       "      <td>2</td>\n",
       "      <td>1</td>\n",
       "      <td>6</td>\n",
       "      <td>1</td>\n",
       "      <td>1</td>\n",
       "      <td>3</td>\n",
       "      <td>1</td>\n",
       "      <td>2</td>\n",
       "      <td>...</td>\n",
       "      <td>4200</td>\n",
       "      <td>120</td>\n",
       "      <td>38</td>\n",
       "      <td>5040</td>\n",
       "      <td>30</td>\n",
       "      <td>0</td>\n",
       "      <td>0</td>\n",
       "      <td>0</td>\n",
       "      <td>2</td>\n",
       "      <td>4200</td>\n",
       "    </tr>\n",
       "    <tr>\n",
       "      <th>1796</th>\n",
       "      <td>0</td>\n",
       "      <td>200</td>\n",
       "      <td>2</td>\n",
       "      <td>1</td>\n",
       "      <td>6</td>\n",
       "      <td>1</td>\n",
       "      <td>1</td>\n",
       "      <td>3</td>\n",
       "      <td>1</td>\n",
       "      <td>2</td>\n",
       "      <td>...</td>\n",
       "      <td>4200</td>\n",
       "      <td>60</td>\n",
       "      <td>38</td>\n",
       "      <td>5040</td>\n",
       "      <td>20</td>\n",
       "      <td>1</td>\n",
       "      <td>0</td>\n",
       "      <td>0</td>\n",
       "      <td>2</td>\n",
       "      <td>4200</td>\n",
       "    </tr>\n",
       "    <tr>\n",
       "      <th>1797</th>\n",
       "      <td>0</td>\n",
       "      <td>200</td>\n",
       "      <td>2</td>\n",
       "      <td>1</td>\n",
       "      <td>6</td>\n",
       "      <td>1</td>\n",
       "      <td>1</td>\n",
       "      <td>3</td>\n",
       "      <td>1</td>\n",
       "      <td>2</td>\n",
       "      <td>...</td>\n",
       "      <td>5040</td>\n",
       "      <td>60</td>\n",
       "      <td>34</td>\n",
       "      <td>5460</td>\n",
       "      <td>10</td>\n",
       "      <td>1</td>\n",
       "      <td>0</td>\n",
       "      <td>0</td>\n",
       "      <td>2</td>\n",
       "      <td>5040</td>\n",
       "    </tr>\n",
       "    <tr>\n",
       "      <th>1798</th>\n",
       "      <td>0</td>\n",
       "      <td>200</td>\n",
       "      <td>2</td>\n",
       "      <td>1</td>\n",
       "      <td>6</td>\n",
       "      <td>1</td>\n",
       "      <td>1</td>\n",
       "      <td>3</td>\n",
       "      <td>1</td>\n",
       "      <td>2</td>\n",
       "      <td>...</td>\n",
       "      <td>4200</td>\n",
       "      <td>120</td>\n",
       "      <td>31</td>\n",
       "      <td>5460</td>\n",
       "      <td>20</td>\n",
       "      <td>0</td>\n",
       "      <td>0</td>\n",
       "      <td>0</td>\n",
       "      <td>2</td>\n",
       "      <td>4200</td>\n",
       "    </tr>\n",
       "    <tr>\n",
       "      <th>1799</th>\n",
       "      <td>0</td>\n",
       "      <td>200</td>\n",
       "      <td>2</td>\n",
       "      <td>1</td>\n",
       "      <td>6</td>\n",
       "      <td>1</td>\n",
       "      <td>1</td>\n",
       "      <td>3</td>\n",
       "      <td>1</td>\n",
       "      <td>2</td>\n",
       "      <td>...</td>\n",
       "      <td>5040</td>\n",
       "      <td>30</td>\n",
       "      <td>38</td>\n",
       "      <td>6720</td>\n",
       "      <td>20</td>\n",
       "      <td>1</td>\n",
       "      <td>0</td>\n",
       "      <td>0</td>\n",
       "      <td>1</td>\n",
       "      <td>5040</td>\n",
       "    </tr>\n",
       "    <tr>\n",
       "      <th>1800</th>\n",
       "      <td>0</td>\n",
       "      <td>201</td>\n",
       "      <td>2</td>\n",
       "      <td>1</td>\n",
       "      <td>6</td>\n",
       "      <td>1</td>\n",
       "      <td>1</td>\n",
       "      <td>3</td>\n",
       "      <td>1</td>\n",
       "      <td>3</td>\n",
       "      <td>...</td>\n",
       "      <td>5040</td>\n",
       "      <td>120</td>\n",
       "      <td>44</td>\n",
       "      <td>5040</td>\n",
       "      <td>30</td>\n",
       "      <td>1</td>\n",
       "      <td>50</td>\n",
       "      <td>35</td>\n",
       "      <td>2</td>\n",
       "      <td>35</td>\n",
       "    </tr>\n",
       "  </tbody>\n",
       "</table>\n",
       "<p>12 rows × 25 columns</p>\n",
       "</div>"
      ],
      "text/plain": [
       "      SURVEY   ID  PURPOSE  FIRST  TICKET  WHO  LUGGAGE  AGE  MALE  INCOME  \\\n",
       "1780       0  198        2      1       6    1        1    2     1       2   \n",
       "1781       0  198        2      1       6    1        1    2     1       2   \n",
       "1791       0  200        2      1       6    1        1    3     1       2   \n",
       "1792       0  200        2      1       6    1        1    3     1       2   \n",
       "1793       0  200        2      1       6    1        1    3     1       2   \n",
       "1794       0  200        2      1       6    1        1    3     1       2   \n",
       "1795       0  200        2      1       6    1        1    3     1       2   \n",
       "1796       0  200        2      1       6    1        1    3     1       2   \n",
       "1797       0  200        2      1       6    1        1    3     1       2   \n",
       "1798       0  200        2      1       6    1        1    3     1       2   \n",
       "1799       0  200        2      1       6    1        1    3     1       2   \n",
       "1800       0  201        2      1       6    1        1    3     1       3   \n",
       "\n",
       "       ...    TRAIN_CO  TRAIN_HE  SM_TT  SM_CO  SM_HE  SM_SEATS  CAR_TT  \\\n",
       "1780   ...        5040        30     45   5460     30         0      72   \n",
       "1781   ...        4200        60     45   6720     30         0      90   \n",
       "1791   ...        5040       120     31   5040     30         1       0   \n",
       "1792   ...        3780       120     34   5040     30         0       0   \n",
       "1793   ...        3780       120     38   5460     20         1       0   \n",
       "1794   ...        3780        60     38   5460     10         0       0   \n",
       "1795   ...        4200       120     38   5040     30         0       0   \n",
       "1796   ...        4200        60     38   5040     20         1       0   \n",
       "1797   ...        5040        60     34   5460     10         1       0   \n",
       "1798   ...        4200       120     31   5460     20         0       0   \n",
       "1799   ...        5040        30     38   6720     20         1       0   \n",
       "1800   ...        5040       120     44   5040     30         1      50   \n",
       "\n",
       "      CAR_CO  CHOICE  min_CO  \n",
       "1780      65       2      65  \n",
       "1781      50       2      50  \n",
       "1791       0       2    5040  \n",
       "1792       0       2    3780  \n",
       "1793       0       2    3780  \n",
       "1794       0       1    3780  \n",
       "1795       0       2    4200  \n",
       "1796       0       2    4200  \n",
       "1797       0       2    5040  \n",
       "1798       0       2    4200  \n",
       "1799       0       1    5040  \n",
       "1800      35       2      35  \n",
       "\n",
       "[12 rows x 25 columns]"
      ]
     },
     "execution_count": 147,
     "metadata": {},
     "output_type": "execute_result"
    },
    {
     "name": "stdout",
     "output_type": "stream",
     "text": [
      "time: 59.6 ms\n"
     ]
    }
   ],
   "source": [
    "df2.loc[1780:1800]"
   ]
  },
  {
   "cell_type": "markdown",
   "metadata": {},
   "source": [
    "Really don't know about some of these price feats"
   ]
  },
  {
   "cell_type": "code",
   "execution_count": 148,
   "metadata": {
    "collapsed": false
   },
   "outputs": [
    {
     "name": "stdout",
     "output_type": "stream",
     "text": [
      "time: 1.47 ms\n"
     ]
    }
   ],
   "source": [
    "ratio_price_feats = ['ratio_TRAIN_CO','ratio_SM_CO','ratio_CAR_CO']"
   ]
  },
  {
   "cell_type": "code",
   "execution_count": 149,
   "metadata": {
    "collapsed": true
   },
   "outputs": [
    {
     "name": "stderr",
     "output_type": "stream",
     "text": [
      "/home/atproofer/anaconda3/lib/python3.5/site-packages/ipykernel/__main__.py:1: SettingWithCopyWarning: \n",
      "A value is trying to be set on a copy of a slice from a DataFrame.\n",
      "Try using .loc[row_indexer,col_indexer] = value instead\n",
      "\n",
      "See the caveats in the documentation: http://pandas.pydata.org/pandas-docs/stable/indexing.html#indexing-view-versus-copy\n",
      "  if __name__ == '__main__':\n",
      "/home/atproofer/anaconda3/lib/python3.5/site-packages/ipykernel/__main__.py:3: SettingWithCopyWarning: \n",
      "A value is trying to be set on a copy of a slice from a DataFrame.\n",
      "Try using .loc[row_indexer,col_indexer] = value instead\n",
      "\n",
      "See the caveats in the documentation: http://pandas.pydata.org/pandas-docs/stable/indexing.html#indexing-view-versus-copy\n",
      "  app.launch_new_instance()\n"
     ]
    },
    {
     "name": "stdout",
     "output_type": "stream",
     "text": [
      "time: 689 ms\n"
     ]
    },
    {
     "name": "stderr",
     "output_type": "stream",
     "text": [
      "/home/atproofer/anaconda3/lib/python3.5/site-packages/ipykernel/__main__.py:4: SettingWithCopyWarning: \n",
      "A value is trying to be set on a copy of a slice from a DataFrame.\n",
      "Try using .loc[row_indexer,col_indexer] = value instead\n",
      "\n",
      "See the caveats in the documentation: http://pandas.pydata.org/pandas-docs/stable/indexing.html#indexing-view-versus-copy\n"
     ]
    }
   ],
   "source": [
    "df2['ratio_TRAIN_CO'] = df2['TRAIN_CO']/df2['min_CO']\n",
    "\n",
    "df2['ratio_SM_CO'] = df2['SM_CO']/df2['min_CO']\n",
    "df2['ratio_CAR_CO'] = df2['CAR_CO']/df2['min_CO']"
   ]
  },
  {
   "cell_type": "code",
   "execution_count": 150,
   "metadata": {
    "collapsed": false
   },
   "outputs": [
    {
     "data": {
      "text/plain": [
       "(array([  9.78200000e+03,   7.80000000e+02,   7.80000000e+01,\n",
       "          4.10000000e+01,   2.00000000e+01,   8.00000000e+00,\n",
       "          5.00000000e+00,   1.00000000e+00,   1.00000000e+00,\n",
       "          3.00000000e+00]),\n",
       " array([  0.  ,   1.95,   3.9 ,   5.85,   7.8 ,   9.75,  11.7 ,  13.65,\n",
       "         15.6 ,  17.55,  19.5 ]),\n",
       " <a list of 10 Patch objects>)"
      ]
     },
     "execution_count": 150,
     "metadata": {},
     "output_type": "execute_result"
    },
    {
     "data": {
      "image/png": "[encoded data removed]",
      "text/plain": [
       "<matplotlib.figure.Figure at 0x7f31eb551630>"
      ]
     },
     "metadata": {},
     "output_type": "display_data"
    },
    {
     "name": "stdout",
     "output_type": "stream",
     "text": [
      "time: 259 ms\n"
     ]
    }
   ],
   "source": [
    "plt.hist(df2['ratio_CAR_CO'])"
   ]
  },
  {
   "cell_type": "code",
   "execution_count": 151,
   "metadata": {
    "collapsed": false
   },
   "outputs": [
    {
     "data": {
      "text/plain": [
       "(array([  1.68300000e+03,   0.00000000e+00,   6.93300000e+03,\n",
       "          1.57000000e+03,   3.49000000e+02,   8.30000000e+01,\n",
       "          5.80000000e+01,   2.70000000e+01,   1.10000000e+01,\n",
       "          5.00000000e+00]),\n",
       " array([ 0.        ,  0.30204249,  0.60408498,  0.90612747,  1.20816995,\n",
       "         1.51021244,  1.81225493,  2.11429742,  2.41633991,  2.7183824 ,\n",
       "         3.02042489]),\n",
       " <a list of 10 Patch objects>)"
      ]
     },
     "execution_count": 151,
     "metadata": {},
     "output_type": "execute_result"
    },
    {
     "data": {
      "image/png": "[encoded data removed]",
      "text/plain": [
       "<matplotlib.figure.Figure at 0x7f31eb710630>"
      ]
     },
     "metadata": {},
     "output_type": "display_data"
    },
    {
     "name": "stdout",
     "output_type": "stream",
     "text": [
      "time: 241 ms\n"
     ]
    }
   ],
   "source": [
    "plt.hist(np.log(df2['ratio_CAR_CO']+1))"
   ]
  },
  {
   "cell_type": "code",
   "execution_count": 152,
   "metadata": {
    "collapsed": false
   },
   "outputs": [
    {
     "data": {
      "text/plain": [
       "(array([ 9460.,   359.,   107.,    50.,    61.,   163.,   263.,   183.,\n",
       "           57.,    16.]),\n",
       " array([ 0.69314718,  1.19845278,  1.70375838,  2.20906398,  2.71436958,\n",
       "         3.21967519,  3.72498079,  4.23028639,  4.73559199,  5.24089759,\n",
       "         5.74620319]),\n",
       " <a list of 10 Patch objects>)"
      ]
     },
     "execution_count": 152,
     "metadata": {},
     "output_type": "execute_result"
    },
    {
     "data": {
      "image/png": "[encoded data removed]",
      "text/plain": [
       "<matplotlib.figure.Figure at 0x7f31ea72dbe0>"
      ]
     },
     "metadata": {},
     "output_type": "display_data"
    },
    {
     "name": "stdout",
     "output_type": "stream",
     "text": [
      "time: 270 ms\n"
     ]
    }
   ],
   "source": [
    "plt.hist(np.log(df2['ratio_TRAIN_CO']+1))"
   ]
  },
  {
   "cell_type": "code",
   "execution_count": 153,
   "metadata": {
    "collapsed": false
   },
   "outputs": [
    {
     "data": {
      "text/plain": [
       "(array([ 9184.,   608.,    91.,    83.,    44.,   142.,   268.,   210.,\n",
       "           75.,    14.]),\n",
       " array([ 0.69314718,  1.22714108,  1.76113499,  2.29512889,  2.8291228 ,\n",
       "         3.3631167 ,  3.89711061,  4.43110451,  4.96509841,  5.49909232,\n",
       "         6.03308622]),\n",
       " <a list of 10 Patch objects>)"
      ]
     },
     "execution_count": 153,
     "metadata": {},
     "output_type": "execute_result"
    },
    {
     "data": {
      "image/png": "[encoded data removed]",
      "text/plain": [
       "<matplotlib.figure.Figure at 0x7f31ea6d7940>"
      ]
     },
     "metadata": {},
     "output_type": "display_data"
    },
    {
     "name": "stdout",
     "output_type": "stream",
     "text": [
      "time: 225 ms\n"
     ]
    }
   ],
   "source": [
    "plt.hist(np.log(df2['ratio_SM_CO']+1))"
   ]
  },
  {
   "cell_type": "code",
   "execution_count": 154,
   "metadata": {
    "collapsed": false
   },
   "outputs": [
    {
     "data": {
      "text/plain": [
       "(array([  1.01030000e+04,   3.26000000e+02,   1.62000000e+02,\n",
       "          6.80000000e+01,   2.90000000e+01,   1.70000000e+01,\n",
       "          7.00000000e+00,   0.00000000e+00,   4.00000000e+00,\n",
       "          3.00000000e+00]),\n",
       " array([   1. ,   42.5,   84. ,  125.5,  167. ,  208.5,  250. ,  291.5,\n",
       "         333. ,  374.5,  416. ]),\n",
       " <a list of 10 Patch objects>)"
      ]
     },
     "execution_count": 154,
     "metadata": {},
     "output_type": "execute_result"
    },
    {
     "data": {
      "image/png": "[encoded data removed]",
      "text/plain": [
       "<matplotlib.figure.Figure at 0x7f31ea6583c8>"
      ]
     },
     "metadata": {},
     "output_type": "display_data"
    },
    {
     "name": "stdout",
     "output_type": "stream",
     "text": [
      "time: 260 ms\n"
     ]
    }
   ],
   "source": [
    "plt.hist(df2['ratio_SM_CO'])"
   ]
  },
  {
   "cell_type": "code",
   "execution_count": 155,
   "metadata": {
    "collapsed": false
   },
   "outputs": [
    {
     "data": {
      "text/html": [
       "<div>\n",
       "<table border=\"1\" class=\"dataframe\">\n",
       "  <thead>\n",
       "    <tr style=\"text-align: right;\">\n",
       "      <th></th>\n",
       "      <th>ratio_TRAIN_CO</th>\n",
       "      <th>ratio_SM_CO</th>\n",
       "      <th>ratio_CAR_CO</th>\n",
       "    </tr>\n",
       "  </thead>\n",
       "  <tbody>\n",
       "    <tr>\n",
       "      <th>count</th>\n",
       "      <td>10719.000000</td>\n",
       "      <td>10719.000000</td>\n",
       "      <td>10719.000000</td>\n",
       "    </tr>\n",
       "    <tr>\n",
       "      <th>mean</th>\n",
       "      <td>5.696576</td>\n",
       "      <td>7.469258</td>\n",
       "      <td>1.150410</td>\n",
       "    </tr>\n",
       "    <tr>\n",
       "      <th>std</th>\n",
       "      <td>19.308171</td>\n",
       "      <td>25.977183</td>\n",
       "      <td>0.982654</td>\n",
       "    </tr>\n",
       "    <tr>\n",
       "      <th>min</th>\n",
       "      <td>1.000000</td>\n",
       "      <td>1.000000</td>\n",
       "      <td>0.000000</td>\n",
       "    </tr>\n",
       "    <tr>\n",
       "      <th>25%</th>\n",
       "      <td>1.000000</td>\n",
       "      <td>1.176471</td>\n",
       "      <td>1.000000</td>\n",
       "    </tr>\n",
       "    <tr>\n",
       "      <th>50%</th>\n",
       "      <td>1.000000</td>\n",
       "      <td>1.333333</td>\n",
       "      <td>1.000000</td>\n",
       "    </tr>\n",
       "    <tr>\n",
       "      <th>75%</th>\n",
       "      <td>1.421053</td>\n",
       "      <td>1.765152</td>\n",
       "      <td>1.315789</td>\n",
       "    </tr>\n",
       "    <tr>\n",
       "      <th>max</th>\n",
       "      <td>312.000000</td>\n",
       "      <td>416.000000</td>\n",
       "      <td>19.500000</td>\n",
       "    </tr>\n",
       "  </tbody>\n",
       "</table>\n",
       "</div>"
      ],
      "text/plain": [
       "       ratio_TRAIN_CO   ratio_SM_CO  ratio_CAR_CO\n",
       "count    10719.000000  10719.000000  10719.000000\n",
       "mean         5.696576      7.469258      1.150410\n",
       "std         19.308171     25.977183      0.982654\n",
       "min          1.000000      1.000000      0.000000\n",
       "25%          1.000000      1.176471      1.000000\n",
       "50%          1.000000      1.333333      1.000000\n",
       "75%          1.421053      1.765152      1.315789\n",
       "max        312.000000    416.000000     19.500000"
      ]
     },
     "execution_count": 155,
     "metadata": {},
     "output_type": "execute_result"
    },
    {
     "name": "stdout",
     "output_type": "stream",
     "text": [
      "time: 41.7 ms\n"
     ]
    }
   ],
   "source": [
    "df2[ratio_price_feats].describe()"
   ]
  },
  {
   "cell_type": "code",
   "execution_count": 156,
   "metadata": {
    "collapsed": false
   },
   "outputs": [
    {
     "name": "stdout",
     "output_type": "stream",
     "text": [
      "time: 9.57 ms\n"
     ]
    }
   ],
   "source": [
    "def calc_valid_min2(df):\n",
    "    x = df1.loc[:,['SM_TT','TRAIN_TT','CAR_TT']].min(axis=1)\n",
    "    for i in range(len(x)):\n",
    "        if x[i]==0:\n",
    "            x[i] = min(df1.loc[i,['SM_TT', 'TRAIN_TT']])\n",
    "    return x            "
   ]
  },
  {
   "cell_type": "code",
   "execution_count": 157,
   "metadata": {
    "collapsed": false
   },
   "outputs": [
    {
     "name": "stdout",
     "output_type": "stream",
     "text": [
      "time: 1.39 s\n"
     ]
    }
   ],
   "source": [
    "x2 = calc_valid_min2(df2)"
   ]
  },
  {
   "cell_type": "code",
   "execution_count": 158,
   "metadata": {
    "collapsed": true
   },
   "outputs": [
    {
     "name": "stdout",
     "output_type": "stream",
     "text": [
      "time: 220 ms\n"
     ]
    },
    {
     "name": "stderr",
     "output_type": "stream",
     "text": [
      "/home/atproofer/anaconda3/lib/python3.5/site-packages/ipykernel/__main__.py:1: SettingWithCopyWarning: \n",
      "A value is trying to be set on a copy of a slice from a DataFrame.\n",
      "Try using .loc[row_indexer,col_indexer] = value instead\n",
      "\n",
      "See the caveats in the documentation: http://pandas.pydata.org/pandas-docs/stable/indexing.html#indexing-view-versus-copy\n",
      "  if __name__ == '__main__':\n"
     ]
    }
   ],
   "source": [
    "df2['min_TT'] = x2"
   ]
  },
  {
   "cell_type": "code",
   "execution_count": 159,
   "metadata": {
    "collapsed": true
   },
   "outputs": [
    {
     "name": "stdout",
     "output_type": "stream",
     "text": [
      "time: 575 ms\n"
     ]
    },
    {
     "name": "stderr",
     "output_type": "stream",
     "text": [
      "/home/atproofer/anaconda3/lib/python3.5/site-packages/ipykernel/__main__.py:1: SettingWithCopyWarning: \n",
      "A value is trying to be set on a copy of a slice from a DataFrame.\n",
      "Try using .loc[row_indexer,col_indexer] = value instead\n",
      "\n",
      "See the caveats in the documentation: http://pandas.pydata.org/pandas-docs/stable/indexing.html#indexing-view-versus-copy\n",
      "  if __name__ == '__main__':\n",
      "/home/atproofer/anaconda3/lib/python3.5/site-packages/ipykernel/__main__.py:2: SettingWithCopyWarning: \n",
      "A value is trying to be set on a copy of a slice from a DataFrame.\n",
      "Try using .loc[row_indexer,col_indexer] = value instead\n",
      "\n",
      "See the caveats in the documentation: http://pandas.pydata.org/pandas-docs/stable/indexing.html#indexing-view-versus-copy\n",
      "  from ipykernel import kernelapp as app\n",
      "/home/atproofer/anaconda3/lib/python3.5/site-packages/ipykernel/__main__.py:3: SettingWithCopyWarning: \n",
      "A value is trying to be set on a copy of a slice from a DataFrame.\n",
      "Try using .loc[row_indexer,col_indexer] = value instead\n",
      "\n",
      "See the caveats in the documentation: http://pandas.pydata.org/pandas-docs/stable/indexing.html#indexing-view-versus-copy\n",
      "  app.launch_new_instance()\n"
     ]
    }
   ],
   "source": [
    "df2['ratio_TRAIN_TT'] = df2['TRAIN_TT']/df2['min_TT']\n",
    "df2['ratio_SM_TT'] = df2['SM_TT']/df2['min_TT']\n",
    "df2['ratio_CAR_TT'] = df2['CAR_TT']/df2['min_TT']"
   ]
  },
  {
   "cell_type": "code",
   "execution_count": 160,
   "metadata": {
    "collapsed": false
   },
   "outputs": [
    {
     "name": "stdout",
     "output_type": "stream",
     "text": [
      "time: 8.82 ms\n"
     ]
    }
   ],
   "source": [
    "X = df2.drop(['CHOICE'],axis=1)\n",
    "y = df2['CHOICE']\n",
    "Xtrain, Xtest, ytrain, ytest = tt_split(X,y,split)"
   ]
  },
  {
   "cell_type": "code",
   "execution_count": 161,
   "metadata": {
    "collapsed": false
   },
   "outputs": [
    {
     "data": {
      "text/plain": [
       "7000    778\n",
       "7001    778\n",
       "7002    779\n",
       "7003    779\n",
       "7004    779\n",
       "7005    779\n",
       "7006    779\n",
       "7007    779\n",
       "7008    779\n",
       "7009    779\n",
       "7010    779\n",
       "Name: ID, dtype: int64"
      ]
     },
     "execution_count": 161,
     "metadata": {},
     "output_type": "execute_result"
    },
    {
     "name": "stdout",
     "output_type": "stream",
     "text": [
      "time: 10.1 ms\n"
     ]
    }
   ],
   "source": [
    "df2.loc[7000:7010,'ID']"
   ]
  },
  {
   "cell_type": "markdown",
   "metadata": {},
   "source": [
    "split is not defined absolutely but based on index"
   ]
  },
  {
   "cell_type": "code",
   "execution_count": 162,
   "metadata": {
    "collapsed": false
   },
   "outputs": [
    {
     "name": "stdout",
     "output_type": "stream",
     "text": [
      "time: 2.99 ms\n"
     ]
    }
   ],
   "source": [
    "ratio_feats = ratio_price_feats + ['ratio_TRAIN_TT','ratio_SM_TT','ratio_CAR_TT']"
   ]
  },
  {
   "cell_type": "code",
   "execution_count": 163,
   "metadata": {
    "collapsed": false
   },
   "outputs": [
    {
     "name": "stdout",
     "output_type": "stream",
     "text": [
      "time: 3.78 ms\n"
     ]
    }
   ],
   "source": [
    "ml_feat = ['SURVEY','FIRST','LUGGAGE','AGE','MALE','INCOME','GA','CAR_AV','TRAIN_TT',\n",
    "          'TRAIN_CO','TRAIN_HE','SM_TT','SM_CO','SM_HE','SM_SEATS','CAR_TT','CAR_CO'] + ratio_feats\n",
    "          "
   ]
  },
  {
   "cell_type": "code",
   "execution_count": 164,
   "metadata": {
    "collapsed": false
   },
   "outputs": [
    {
     "name": "stdout",
     "output_type": "stream",
     "text": [
      "RandomForestClassifier(bootstrap=True, class_weight=None, criterion='gini',\n",
      "            max_depth=5.0, max_features='auto', max_leaf_nodes=None,\n",
      "            min_samples_leaf=1, min_samples_split=2,\n",
      "            min_weight_fraction_leaf=0.0, n_estimators=300, n_jobs=1,\n",
      "            oob_score=False, random_state=None, verbose=0,\n",
      "            warm_start=False)\n",
      "0.752305942772\n",
      "0.634382566586\n",
      "time: 43.5 s\n"
     ]
    }
   ],
   "source": [
    "params = {'max_depth': np.linspace(5,40,8)}\n",
    "model = ensemble.RandomForestClassifier(n_estimators=300)\n",
    "clf = grid_search.GridSearchCV(model, params)\n",
    "\n",
    "clf.fit(Xtrain[ml_feat], ytrain)\n",
    "print(clf.best_estimator_)\n",
    "\n",
    "py_x = clf.predict_proba(X[ml_feat])\n",
    "dy_x = clf.predict(X[ml_feat])\n",
    "print(sklearn.metrics.log_loss(ytest, py_x[split:]))\n",
    "print(sklearn.metrics.accuracy_score(ytest, dy_x[split:]))"
   ]
  },
  {
   "cell_type": "code",
   "execution_count": 165,
   "metadata": {
    "collapsed": false
   },
   "outputs": [
    {
     "name": "stdout",
     "output_type": "stream",
     "text": [
      "RandomForestClassifier(bootstrap=True, class_weight=None, criterion='gini',\n",
      "            max_depth=5.0, max_features='auto', max_leaf_nodes=None,\n",
      "            min_samples_leaf=1, min_samples_split=2,\n",
      "            min_weight_fraction_leaf=0.0, n_estimators=300, n_jobs=1,\n",
      "            oob_score=False, random_state=None, verbose=0,\n",
      "            warm_start=False)\n",
      "time: 3.59 ms\n"
     ]
    }
   ],
   "source": [
    "print(clf.best_estimator_)"
   ]
  },
  {
   "cell_type": "markdown",
   "metadata": {},
   "source": [
    "How does it find that the best estimator has depth = 5?"
   ]
  },
  {
   "cell_type": "code",
   "execution_count": 166,
   "metadata": {
    "collapsed": false
   },
   "outputs": [
    {
     "name": "stdout",
     "output_type": "stream",
     "text": [
      "0.702412421415\n",
      "0.684422921711\n",
      "time: 3.28 s\n"
     ]
    }
   ],
   "source": [
    "model = ensemble.RandomForestClassifier(max_depth = 15, n_estimators=300)\n",
    "\n",
    "model.fit(Xtrain[ml_feat], ytrain)\n",
    "\n",
    "py_x = model.predict_proba(X[ml_feat])\n",
    "dy_x = model.predict(X[ml_feat])\n",
    "print(sklearn.metrics.log_loss(ytest, py_x[split:]))\n",
    "print(sklearn.metrics.accuracy_score(ytest, dy_x[split:]))"
   ]
  },
  {
   "cell_type": "code",
   "execution_count": 167,
   "metadata": {
    "collapsed": false
   },
   "outputs": [
    {
     "name": "stdout",
     "output_type": "stream",
     "text": [
      "0.72771851716\n",
      "0.684691955878\n",
      "time: 3.46 s\n"
     ]
    }
   ],
   "source": [
    "model = ensemble.RandomForestClassifier(max_depth = 25, n_estimators=300)\n",
    "\n",
    "model.fit(Xtrain[ml_feat], ytrain)\n",
    "\n",
    "py_x = model.predict_proba(X[ml_feat])\n",
    "dy_x = model.predict(X[ml_feat])\n",
    "print(sklearn.metrics.log_loss(ytest, py_x[split:]))\n",
    "print(sklearn.metrics.accuracy_score(ytest, dy_x[split:]))"
   ]
  },
  {
   "cell_type": "code",
   "execution_count": 168,
   "metadata": {
    "collapsed": false
   },
   "outputs": [
    {
     "name": "stdout",
     "output_type": "stream",
     "text": [
      "0.72771851716\n",
      "3680.93390089\n",
      "0.684691955878\n",
      "time: 18.5 ms\n"
     ]
    }
   ],
   "source": [
    "print(sklearn.metrics.log_loss(ytest, py_x[split:]))\n",
    "print(sklearn.metrics.log_loss(y, py_x)*len(y))\n",
    "print(sklearn.metrics.accuracy_score(ytest, dy_x[split:]))"
   ]
  },
  {
   "cell_type": "code",
   "execution_count": 169,
   "metadata": {
    "collapsed": false
   },
   "outputs": [
    {
     "name": "stdout",
     "output_type": "stream",
     "text": [
      "3680.93390089\n",
      "time: 15.3 ms\n"
     ]
    }
   ],
   "source": [
    "print(sklearn.metrics.log_loss(y, py_x)*len(y))"
   ]
  },
  {
   "cell_type": "code",
   "execution_count": 171,
   "metadata": {
    "collapsed": false
   },
   "outputs": [
    {
     "data": {
      "text/plain": [
       "3717"
      ]
     },
     "execution_count": 171,
     "metadata": {},
     "output_type": "execute_result"
    },
    {
     "name": "stdout",
     "output_type": "stream",
     "text": [
      "time: 5.06 ms\n"
     ]
    }
   ],
   "source": [
    "len(py_x[split:])"
   ]
  },
  {
   "cell_type": "code",
   "execution_count": 172,
   "metadata": {
    "collapsed": false
   },
   "outputs": [
    {
     "name": "stdout",
     "output_type": "stream",
     "text": [
      "0.343402733547\n",
      "time: 16.3 ms\n"
     ]
    }
   ],
   "source": [
    "print(sklearn.metrics.log_loss(y, py_x))"
   ]
  },
  {
   "cell_type": "code",
   "execution_count": 268,
   "metadata": {
    "collapsed": false
   },
   "outputs": [
    {
     "name": "stdout",
     "output_type": "stream",
     "text": [
      "time: 4.64 ms\n"
     ]
    }
   ],
   "source": [
    "a = py_x.shape"
   ]
  },
  {
   "cell_type": "code",
   "execution_count": 269,
   "metadata": {
    "collapsed": false
   },
   "outputs": [
    {
     "data": {
      "text/plain": [
       "(10719, 3)"
      ]
     },
     "execution_count": 269,
     "metadata": {},
     "output_type": "execute_result"
    },
    {
     "name": "stdout",
     "output_type": "stream",
     "text": [
      "time: 11 ms\n"
     ]
    }
   ],
   "source": [
    "a"
   ]
  },
  {
   "cell_type": "code",
   "execution_count": 284,
   "metadata": {
    "collapsed": false
   },
   "outputs": [
    {
     "name": "stdout",
     "output_type": "stream",
     "text": [
      "time: 9.2 ms\n"
     ]
    }
   ],
   "source": [
    "b = np.zeros(a)"
   ]
  },
  {
   "cell_type": "code",
   "execution_count": 286,
   "metadata": {
    "collapsed": false
   },
   "outputs": [
    {
     "name": "stdout",
     "output_type": "stream",
     "text": [
      "1.09861228867\n",
      "time: 20.6 ms\n"
     ]
    }
   ],
   "source": [
    "print(sklearn.metrics.log_loss(y, b))"
   ]
  },
  {
   "cell_type": "code",
   "execution_count": 285,
   "metadata": {
    "collapsed": false
   },
   "outputs": [
    {
     "name": "stdout",
     "output_type": "stream",
     "text": [
      "11776.0251222\n",
      "time: 27.1 ms\n"
     ]
    }
   ],
   "source": [
    "print(sklearn.metrics.log_loss(y, b)*len(y))"
   ]
  },
  {
   "cell_type": "code",
   "execution_count": 278,
   "metadata": {
    "collapsed": false
   },
   "outputs": [
    {
     "name": "stdout",
     "output_type": "stream",
     "text": [
      "time: 7.96 ms\n"
     ]
    }
   ],
   "source": [
    "b[:,1] = 1"
   ]
  },
  {
   "cell_type": "code",
   "execution_count": 280,
   "metadata": {
    "collapsed": false
   },
   "outputs": [
    {
     "name": "stdout",
     "output_type": "stream",
     "text": [
      "155528.110106\n",
      "time: 28.6 ms\n"
     ]
    }
   ],
   "source": [
    "print(sklearn.metrics.log_loss(y, b)*len(y))"
   ]
  },
  {
   "cell_type": "code",
   "execution_count": 283,
   "metadata": {
    "collapsed": false
   },
   "outputs": [
    {
     "data": {
      "text/plain": [
       "-4.6051701859880909"
      ]
     },
     "execution_count": 283,
     "metadata": {},
     "output_type": "execute_result"
    },
    {
     "name": "stdout",
     "output_type": "stream",
     "text": [
      "time: 18.3 ms\n"
     ]
    }
   ],
   "source": [
    "np.log(0.01)"
   ]
  },
  {
   "cell_type": "code",
   "execution_count": 275,
   "metadata": {
    "collapsed": false
   },
   "outputs": [
    {
     "name": "stdout",
     "output_type": "stream",
     "text": [
      "time: 2.22 ms\n"
     ]
    }
   ],
   "source": [
    "b[:,2] = 1"
   ]
  },
  {
   "cell_type": "code",
   "execution_count": 276,
   "metadata": {
    "collapsed": false
   },
   "outputs": [
    {
     "name": "stdout",
     "output_type": "stream",
     "text": [
      "5.27833971811\n",
      "time: 36.2 ms\n"
     ]
    }
   ],
   "source": [
    "print(sklearn.metrics.log_loss(y, b))"
   ]
  },
  {
   "cell_type": "code",
   "execution_count": 273,
   "metadata": {
    "collapsed": false
   },
   "outputs": [
    {
     "data": {
      "text/plain": [
       "array([[ 0.,  1.,  0.],\n",
       "       [ 0.,  1.,  0.],\n",
       "       [ 0.,  1.,  0.],\n",
       "       ..., \n",
       "       [ 0.,  1.,  0.],\n",
       "       [ 0.,  1.,  0.],\n",
       "       [ 0.,  1.,  0.]])"
      ]
     },
     "execution_count": 273,
     "metadata": {},
     "output_type": "execute_result"
    },
    {
     "name": "stdout",
     "output_type": "stream",
     "text": [
      "time: 13.2 ms\n"
     ]
    }
   ],
   "source": [
    "b"
   ]
  },
  {
   "cell_type": "code",
   "execution_count": 173,
   "metadata": {
    "collapsed": false
   },
   "outputs": [
    {
     "data": {
      "text/plain": [
       "array([[ 0.02436508,  0.97206349,  0.00357143],\n",
       "       [ 0.03055556,  0.96944444,  0.        ],\n",
       "       [ 0.02722222,  0.97277778,  0.        ],\n",
       "       ..., \n",
       "       [ 0.08666667,  0.69      ,  0.22333333],\n",
       "       [ 0.09      ,  0.68666667,  0.22333333],\n",
       "       [ 0.26      ,  0.54666667,  0.19333333]])"
      ]
     },
     "execution_count": 173,
     "metadata": {},
     "output_type": "execute_result"
    },
    {
     "name": "stdout",
     "output_type": "stream",
     "text": [
      "time: 9.44 ms\n"
     ]
    }
   ],
   "source": [
    "py_x"
   ]
  },
  {
   "cell_type": "code",
   "execution_count": 174,
   "metadata": {
    "collapsed": false
   },
   "outputs": [
    {
     "data": {
      "text/plain": [
       "array([[   1,  124,   20],\n",
       "       [   3, 1399,  361],\n",
       "       [   5,  659, 1145]])"
      ]
     },
     "execution_count": 174,
     "metadata": {},
     "output_type": "execute_result"
    },
    {
     "name": "stdout",
     "output_type": "stream",
     "text": [
      "time: 6.75 ms\n"
     ]
    }
   ],
   "source": [
    "sklearn.metrics.confusion_matrix(ytest, dy_x[split:])"
   ]
  },
  {
   "cell_type": "code",
   "execution_count": 175,
   "metadata": {
    "collapsed": false
   },
   "outputs": [
    {
     "data": {
      "text/plain": [
       "<matplotlib.axes._subplots.AxesSubplot at 0x7f31ea54f908>"
      ]
     },
     "execution_count": 175,
     "metadata": {},
     "output_type": "execute_result"
    },
    {
     "data": {
      "image/png": "[encoded data removed]",
      "text/plain": [
       "<matplotlib.figure.Figure at 0x7f31f21ee0f0>"
      ]
     },
     "metadata": {},
     "output_type": "display_data"
    },
    {
     "name": "stdout",
     "output_type": "stream",
     "text": [
      "time: 214 ms\n"
     ]
    }
   ],
   "source": [
    "sns.countplot(ytest)"
   ]
  },
  {
   "cell_type": "code",
   "execution_count": 176,
   "metadata": {
    "collapsed": false
   },
   "outputs": [
    {
     "data": {
      "text/plain": [
       "<matplotlib.axes._subplots.AxesSubplot at 0x7f31ea519320>"
      ]
     },
     "execution_count": 176,
     "metadata": {},
     "output_type": "execute_result"
    },
    {
     "data": {
      "image/png": "[encoded data removed]",
      "text/plain": [
       "<matplotlib.figure.Figure at 0x7f31ea5368d0>"
      ]
     },
     "metadata": {},
     "output_type": "display_data"
    },
    {
     "name": "stdout",
     "output_type": "stream",
     "text": [
      "time: 231 ms\n"
     ]
    }
   ],
   "source": [
    "sns.countplot(dy_x)"
   ]
  },
  {
   "cell_type": "markdown",
   "metadata": {},
   "source": [
    "A confusion matrix C := C_i,j = True i, Pred j"
   ]
  },
  {
   "cell_type": "markdown",
   "metadata": {},
   "source": [
    "It is slightly better than before.  The pattern in the decision matrix looks about the same.  Surprising that it did not make a bigger difference.  \n",
    "\n",
    "May want to convert either to multipart model with hard-coded split "
   ]
  },
  {
   "cell_type": "markdown",
   "metadata": {},
   "source": [
    "Really can't find when train is predicted, and biggest confusion is between SM and car\n",
    "\n",
    "quite possible that we are predicting car even when unavailable"
   ]
  },
  {
   "cell_type": "raw",
   "metadata": {},
   "source": [
    "How do we transform the combined row into a set of rows?\n",
    "\n",
    "With columns, it is fairly simple;\n",
    "want to have contiguous sessions,\n",
    "so have to transform the index. \n",
    "may be simpler to just create new dataframe rather than trying to write a transformation\n",
    "\n",
    "which would be fairly straightforward, if slow\n",
    "\n",
    "for every line in df2,\n",
    "execute copying car alt if applicable\n",
    "execute copying of tren and SM alts\n",
    "\n",
    "for scoring,\n",
    "take every session\n",
    "and get the type-value of the choice ... want the probabilities\n",
    "and put it in a dataframe or even numpy array\n",
    "with the session id, which is the individual's number,\n",
    "and the three choice probabilities\n",
    "    if there was no car option, its probability is zero\n",
    "as three columns\n",
    "then a simple pass to get the discretized choice"
   ]
  }
 ],
 "metadata": {
  "anaconda-cloud": {},
  "kernelspec": {
   "display_name": "Python [Root]",
   "language": "python",
   "name": "Python [Root]"
  },
  "language_info": {
   "codemirror_mode": {
    "name": "ipython",
    "version": 3
   },
   "file_extension": ".py",
   "mimetype": "text/x-python",
   "name": "python",
   "nbconvert_exporter": "python",
   "pygments_lexer": "ipython3",
   "version": "3.5.2"
  }
 },
 "nbformat": 4,
 "nbformat_minor": 0
}
